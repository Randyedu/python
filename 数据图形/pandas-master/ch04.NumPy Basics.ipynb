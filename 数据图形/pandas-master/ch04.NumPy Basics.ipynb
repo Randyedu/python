{
 "cells": [
  {
   "cell_type": "markdown",
   "metadata": {},
   "source": [
    "# NumPy基础：数组和矢量计算"
   ]
  },
  {
   "cell_type": "markdown",
   "metadata": {},
   "source": [
    "+ ndarray，一个具有矢量算术运算和复杂广播能力的快速且节省空间的多维数组。\n",
    "+ 用于对整数数据进行快速运算的标准数学函数（无需编写循环）\n",
    "+ 用于读写磁盘数据的工具以及用于操作内存映射文件的工具\n",
    "+ 线性代数、随机数生成以及傅里叶变换功能。\n",
    "+ 用于集成有C、C++、Fortran等语言编写的代码的工具。"
   ]
  },
  {
   "cell_type": "markdown",
   "metadata": {},
   "source": [
    "## 目录\n",
    "+ NumPy的ndarray：一个多维数组对象\n",
    " + 创建ndarray\n",
    " + ndarray的重要属性\n",
    " + ndarraysd的数据类型\n",
    " + 数组与标量之间的运算\n",
    " + 基本的索引和切片\n",
    " + 数组转置和轴对换\n",
    "\n",
    "\n",
    "+ 通用函数：快速的元素级数组函数\n",
    " + 一元ufunc\n",
    " + 二元ufunc\n",
    "\n",
    "\n",
    "+ 利用数组进行数据处理\n",
    " + np.where：将条件逻辑表述为数组运算\n",
    " + 数学和统计方法\n",
    " + any, all：用于布尔型数组的方法\n",
    " + 排序\n",
    " + 唯一化与集合运算\n",
    "\n",
    "    \n",
    "+ 用于数组的文件输入输出\n",
    " + 将数组以二进制格式保存到磁盘\n",
    " + 存取文本文件\n",
    "\n",
    "\n",
    "+ 线性代数\n",
    " + numpy函数\n",
    " + numpy.linalg模块\n",
    "\n",
    "\n",
    "+ 随机数生成\n",
    " + numpy.random模块\n",
    "\n",
    "    \n",
    "+ 范例：随机漫步\n",
    " + 一次模拟多个随机漫步"
   ]
  },
  {
   "cell_type": "code",
   "execution_count": 1,
   "metadata": {},
   "outputs": [],
   "source": [
    "from numpy.random import randn\n",
    "import numpy as np"
   ]
  },
  {
   "cell_type": "markdown",
   "metadata": {},
   "source": [
    "## NumPy的ndarray：一个多维数组对象"
   ]
  },
  {
   "cell_type": "markdown",
   "metadata": {},
   "source": [
    "### 创建ndarray"
   ]
  },
  {
   "cell_type": "markdown",
   "metadata": {},
   "source": [
    "+ array  \n",
    "将输入数据（列表、元组、数组或其他**序列类型**）转换为ndarray。要么推断出dtype，要么显式制定dtype。默认直接复制输入数据。"
   ]
  },
  {
   "cell_type": "code",
   "execution_count": 2,
   "metadata": {},
   "outputs": [
    {
     "data": {
      "text/plain": [
       "array([[1, 2, 3, 4],\n",
       "       [5, 6, 7, 8]])"
      ]
     },
     "execution_count": 2,
     "output_type": "execute_result",
     "metadata": {}
    }
   ],
   "source": [
    "data = [[1, 2, 3, 4], [5, 6, 7, 8]]\n",
    "arr = np.array(data)\n",
    "arr"
   ]
  },
  {
   "cell_type": "markdown",
   "metadata": {},
   "source": [
    "+ asarray  \n",
    "将输入转换为ndarray，如果输入本身就是一个ndarray就不进行复制"
   ]
  },
  {
   "cell_type": "code",
   "execution_count": 3,
   "metadata": {},
   "outputs": [
    {
     "data": {
      "text/plain": [
       "False"
      ]
     },
     "execution_count": 3,
     "output_type": "execute_result",
     "metadata": {}
    }
   ],
   "source": [
    "arr1 = np.array(arr)\n",
    "arr1 is arr # np.array会复制对象，因此返回False"
   ]
  },
  {
   "cell_type": "code",
   "execution_count": 4,
   "metadata": {},
   "outputs": [
    {
     "data": {
      "text/plain": [
       "True"
      ]
     },
     "execution_count": 4,
     "output_type": "execute_result",
     "metadata": {}
    }
   ],
   "source": [
    "arr2 = np.asarray(arr)\n",
    "arr2 is arr # arr本身就是一个ndarray，np.asarray不会进行复制，仅仅是映射，返回True"
   ]
  },
  {
   "cell_type": "markdown",
   "metadata": {},
   "source": [
    "+ arange  \n",
    "类似于内置的range，但返回的是一个ndarray而不是列表"
   ]
  },
  {
   "cell_type": "code",
   "execution_count": 5,
   "metadata": {},
   "outputs": [
    {
     "data": {
      "text/plain": [
       "array([ 0. ,  0.5,  1. ,  1.5,  2. ,  2.5,  3. ,  3.5,  4. ,  4.5])"
      ]
     },
     "execution_count": 5,
     "output_type": "execute_result",
     "metadata": {}
    }
   ],
   "source": [
    "np.arange(0, 5, 0.5) # 内置的range只能返回整数，arange可以返回浮点数"
   ]
  },
  {
   "cell_type": "markdown",
   "metadata": {},
   "source": [
    "+ ones、ones_like  \n",
    "根据指定的形状和dtype创建一个全1数组。ones_like以另一个数组为参数，并根据其形状和dtype创建一个全1数组"
   ]
  },
  {
   "cell_type": "code",
   "execution_count": 6,
   "metadata": {},
   "outputs": [
    {
     "data": {
      "text/plain": [
       "array([[['1', '1', '1', '1'],\n",
       "        ['1', '1', '1', '1'],\n",
       "        ['1', '1', '1', '1']],\n",
       "\n",
       "       [['1', '1', '1', '1'],\n",
       "        ['1', '1', '1', '1'],\n",
       "        ['1', '1', '1', '1']]], \n",
       "      dtype='|S1')"
      ]
     },
     "execution_count": 6,
     "output_type": "execute_result",
     "metadata": {}
    }
   ],
   "source": [
    "np.ones((2, 3, 4), dtype = np.string_) # 创建3维数组，参数是元组的形式，并且根据dtype参数将数值1转化为字符串"
   ]
  },
  {
   "cell_type": "code",
   "execution_count": 7,
   "metadata": {},
   "outputs": [
    {
     "data": {
      "text/plain": [
       "array([[1, 1, 1, 1],\n",
       "       [1, 1, 1, 1]])"
      ]
     },
     "execution_count": 7,
     "output_type": "execute_result",
     "metadata": {}
    }
   ],
   "source": [
    "np.ones_like(arr) # 根据arr的维数创建全1数组"
   ]
  },
  {
   "cell_type": "markdown",
   "metadata": {},
   "source": [
    "+ zeros、zeros_like  \n",
    "类似于ones和ones_like，只不过产生的是全0数组而已"
   ]
  },
  {
   "cell_type": "code",
   "execution_count": 8,
   "metadata": {},
   "outputs": [
    {
     "data": {
      "text/plain": [
       "array([[[0, 0, 0, 0],\n",
       "        [0, 0, 0, 0],\n",
       "        [0, 0, 0, 0]],\n",
       "\n",
       "       [[0, 0, 0, 0],\n",
       "        [0, 0, 0, 0],\n",
       "        [0, 0, 0, 0]]], dtype=int8)"
      ]
     },
     "execution_count": 8,
     "output_type": "execute_result",
     "metadata": {}
    }
   ],
   "source": [
    "np.zeros((2, 3, 4), dtype = np.int8)"
   ]
  },
  {
   "cell_type": "code",
   "execution_count": 9,
   "metadata": {},
   "outputs": [
    {
     "data": {
      "text/plain": [
       "array([[0, 0, 0, 0],\n",
       "       [0, 0, 0, 0]])"
      ]
     },
     "execution_count": 9,
     "output_type": "execute_result",
     "metadata": {}
    }
   ],
   "source": [
    "np.zeros_like(arr)"
   ]
  },
  {
   "cell_type": "markdown",
   "metadata": {},
   "source": [
    "+ empty、emtpy_like  \n",
    "创建新数组，只分配内存空间但不填充任何值"
   ]
  },
  {
   "cell_type": "code",
   "execution_count": 10,
   "metadata": {},
   "outputs": [
    {
     "data": {
      "text/plain": [
       "array([[[  1.95630826e-316,   3.86651980e-316,   1.94770124e-316,\n",
       "           3.84512557e-316],\n",
       "        [  2.19772613e-316,   3.86652217e-316,   1.94770124e-316,\n",
       "           3.86648186e-316],\n",
       "        [  2.19772613e-316,   3.86652454e-316,   1.94770124e-316,\n",
       "           3.58921024e-316]],\n",
       "\n",
       "       [[  2.19772613e-316,   3.86652691e-316,   1.94770124e-316,\n",
       "           3.84074262e-316],\n",
       "        [  2.19772613e-316,   3.86652929e-316,   1.94770124e-316,\n",
       "           3.84515640e-316],\n",
       "        [  2.19772613e-316,   3.84075843e-316,   1.94770124e-316,\n",
       "           3.84940141e-316]]])"
      ]
     },
     "execution_count": 10,
     "output_type": "execute_result",
     "metadata": {}
    }
   ],
   "source": [
    "np.empty((2, 3, 4))"
   ]
  },
  {
   "cell_type": "code",
   "execution_count": 11,
   "metadata": {},
   "outputs": [
    {
     "data": {
      "text/plain": [
       "array([[0, 0, 0, 0],\n",
       "       [0, 0, 0, 0]])"
      ]
     },
     "execution_count": 11,
     "output_type": "execute_result",
     "metadata": {}
    }
   ],
   "source": [
    "np.empty_like(arr)"
   ]
  },
  {
   "cell_type": "markdown",
   "metadata": {},
   "source": [
    "+ eye、identity  \n",
    "创建一个正方的N * N单位矩阵"
   ]
  },
  {
   "cell_type": "code",
   "execution_count": 12,
   "metadata": {},
   "outputs": [
    {
     "data": {
      "text/plain": [
       "array([[ 1.,  0.,  0.,  0.,  0.],\n",
       "       [ 0.,  1.,  0.,  0.,  0.],\n",
       "       [ 0.,  0.,  1.,  0.,  0.],\n",
       "       [ 0.,  0.,  0.,  1.,  0.],\n",
       "       [ 0.,  0.,  0.,  0.,  1.]])"
      ]
     },
     "execution_count": 12,
     "output_type": "execute_result",
     "metadata": {}
    }
   ],
   "source": [
    "N = 5\n",
    "np.eye(N)"
   ]
  },
  {
   "cell_type": "code",
   "execution_count": 13,
   "metadata": {},
   "outputs": [
    {
     "data": {
      "text/plain": [
       "array([[ 1.,  0.,  0.,  0.,  0.],\n",
       "       [ 0.,  1.,  0.,  0.,  0.],\n",
       "       [ 0.,  0.,  1.,  0.,  0.],\n",
       "       [ 0.,  0.,  0.,  1.,  0.],\n",
       "       [ 0.,  0.,  0.,  0.,  1.]])"
      ]
     },
     "execution_count": 13,
     "output_type": "execute_result",
     "metadata": {}
    }
   ],
   "source": [
    "np.identity(N)"
   ]
  },
  {
   "cell_type": "markdown",
   "metadata": {},
   "source": [
    "### ndarray的重要属性"
   ]
  },
  {
   "cell_type": "code",
   "execution_count": 14,
   "metadata": {},
   "outputs": [
    {
     "data": {
      "text/plain": [
       "array([[ 2.61944602,  0.51285281, -0.64717234],\n",
       "       [ 0.33865195, -0.05941285, -0.45428128]])"
      ]
     },
     "execution_count": 14,
     "output_type": "execute_result",
     "metadata": {}
    }
   ],
   "source": [
    "# 生成2 * 3的2维数组，元素服从标准正态分布\n",
    "data = randn(2, 3)\n",
    "data"
   ]
  },
  {
   "cell_type": "code",
   "execution_count": 15,
   "metadata": {},
   "outputs": [
    {
     "data": {
      "text/plain": [
       "2"
      ]
     },
     "execution_count": 15,
     "output_type": "execute_result",
     "metadata": {}
    }
   ],
   "source": [
    "data.ndim # 数组的维数"
   ]
  },
  {
   "cell_type": "code",
   "execution_count": 16,
   "metadata": {},
   "outputs": [
    {
     "data": {
      "text/plain": [
       "(2L, 3L)"
      ]
     },
     "execution_count": 16,
     "output_type": "execute_result",
     "metadata": {}
    }
   ],
   "source": [
    "data.shape # 数组各维度大小的元组,n行m列的数组，返回(n, m)"
   ]
  },
  {
   "cell_type": "code",
   "execution_count": 17,
   "metadata": {},
   "outputs": [
    {
     "data": {
      "text/plain": [
       "6"
      ]
     },
     "execution_count": 17,
     "output_type": "execute_result",
     "metadata": {}
    }
   ],
   "source": [
    "data.size # 数组内元素个数"
   ]
  },
  {
   "cell_type": "code",
   "execution_count": 18,
   "metadata": {},
   "outputs": [
    {
     "data": {
      "text/plain": [
       "dtype('float64')"
      ]
     },
     "execution_count": 18,
     "output_type": "execute_result",
     "metadata": {}
    }
   ],
   "source": [
    "data.dtype # 数组的数据类型"
   ]
  },
  {
   "cell_type": "code",
   "execution_count": 19,
   "metadata": {},
   "outputs": [
    {
     "data": {
      "text/plain": [
       "8"
      ]
     },
     "execution_count": 19,
     "output_type": "execute_result",
     "metadata": {}
    }
   ],
   "source": [
    "data.itemsize # 每个元素占用字节数"
   ]
  },
  {
   "cell_type": "code",
   "execution_count": 20,
   "metadata": {},
   "outputs": [
    {
     "data": {
      "text/plain": [
       "<read-write buffer for 0x0000000004AA7760, size 48, offset 0 at 0x0000000004A349D0>"
      ]
     },
     "execution_count": 20,
     "output_type": "execute_result",
     "metadata": {}
    }
   ],
   "source": [
    "data.data # 数组内存地址"
   ]
  },
  {
   "cell_type": "markdown",
   "metadata": {},
   "source": [
    "### ndarraysd的数据类型\n",
    "\n",
    "| 类型        | 类型代码           | 说明  |\n",
    "| ------------- |:-------------| :-----|\n",
    "| int8、uint8      | i1、u1 | 有符号和无符号的8位（1个字节）整型 |\n",
    "| int16、uint16     | i2、u2      |   有符号和无符号的16位（2个字节）整型 |\n",
    "| int32、uint32 | i4、u4      | 有符号和无符号的32位（4个字节）整型   |\n",
    "| int64、uint64 | i8、u8      | 有符号和无符号的64位（8个字节）整型   |\n",
    "| float16 |  f2     | 半精度浮点数   |\n",
    "| float32 |  f4或f     | 标准的单精度浮点数。与C的float兼容   |\n",
    "| float64 |  f8或d     | 标准的双精度浮点数。与C的double和Python的float对象兼容   |\n",
    "| float128 | f16或g      | 扩展精度浮点数   |\n",
    "| complex64、complex128、conplex256 | c8、c16、c32      | 分别用两个32位、64位或128位浮点数表示的复数   |\n",
    "| bool |  ?     |  储存True和False值的布尔类型  |\n",
    "| object | O      |  Python对象类型  |\n",
    "| string_ |   S    | 固定长度的字符串类型（每个字符1个字节）。例如，要创建一个长度为10的字符串，应使用S10   |\n",
    "| unicode_ |   U    | 固定长度的unicode类型（字节数由平台决定）。跟字符串的定义方式一样（如U10）   |"
   ]
  },
  {
   "cell_type": "markdown",
   "metadata": {},
   "source": [
    "+ 显示指定dtype"
   ]
  },
  {
   "cell_type": "code",
   "execution_count": 21,
   "metadata": {},
   "outputs": [
    {
     "data": {
      "text/plain": [
       "array([ 1.,  2.,  3.])"
      ]
     },
     "execution_count": 21,
     "output_type": "execute_result",
     "metadata": {}
    }
   ],
   "source": [
    "arr1 = np.array([1, 2, 3], dtype=np.float64) # 数值型dtype，np.类型名+位长，标准的双精度浮点值占用8字节（即64位）\n",
    "arr1"
   ]
  },
  {
   "cell_type": "markdown",
   "metadata": {},
   "source": [
    "+ 通过astype方法转换dtype"
   ]
  },
  {
   "cell_type": "code",
   "execution_count": 22,
   "metadata": {},
   "outputs": [
    {
     "data": {
      "text/plain": [
       "array([ 1.,  2.,  3.,  4.,  5.])"
      ]
     },
     "execution_count": 22,
     "output_type": "execute_result",
     "metadata": {}
    }
   ],
   "source": [
    "arr = np.array([1, 2, 3, 4, 5])\n",
    "float_arr = arr.astype(np.float64)\n",
    "float_arr"
   ]
  },
  {
   "cell_type": "code",
   "execution_count": 23,
   "metadata": {},
   "outputs": [
    {
     "data": {
      "text/plain": [
       "array([ 3, -1, -2,  0, 12, 10])"
      ]
     },
     "execution_count": 23,
     "output_type": "execute_result",
     "metadata": {}
    }
   ],
   "source": [
    "arr = np.array([3.7, -1.2, -2.6, 0.5, 12.9, 10.1])\n",
    "arr.astype(np.int32) # 将浮点数转换成整数，小数部分会被截断"
   ]
  },
  {
   "cell_type": "code",
   "execution_count": 24,
   "metadata": {},
   "outputs": [
    {
     "data": {
      "text/plain": [
       "array([  1.25,  -9.6 ,  42.  ])"
      ]
     },
     "execution_count": 24,
     "output_type": "execute_result",
     "metadata": {}
    }
   ],
   "source": [
    "numeric_strings = np.array(['1.25', '-9.6', '42'], dtype=np.string_) # 如果字符串数组全是数字，可以用astype将其转换为数值形式\n",
    "numeric_strings.astype(float) # float是Python内置类型，NumPy会自动将Python类型映射到等价的dtype，即np.float64"
   ]
  },
  {
   "cell_type": "markdown",
   "metadata": {},
   "source": [
    "+ 将其他数组的dtype属性作为参数传入astype方法"
   ]
  },
  {
   "cell_type": "code",
   "execution_count": 25,
   "metadata": {},
   "outputs": [
    {
     "data": {
      "text/plain": [
       "array([ 0.,  1.,  2.,  3.,  4.,  5.,  6.,  7.,  8.,  9.])"
      ]
     },
     "execution_count": 25,
     "output_type": "execute_result",
     "metadata": {}
    }
   ],
   "source": [
    "int_array = np.arange(10)\n",
    "calibers = np.array([.22, .270, .357, .380, .44, .50], dtype=np.float64)\n",
    "int_array.astype(calibers.dtype) # 等价于int_array.astype(np.float64)"
   ]
  },
  {
   "cell_type": "markdown",
   "metadata": {},
   "source": [
    "+ 用简洁的类型代码表示dtype"
   ]
  },
  {
   "cell_type": "code",
   "execution_count": 26,
   "metadata": {},
   "outputs": [
    {
     "data": {
      "text/plain": [
       "array([1, 2, 3, 4, 5, 6, 7, 8], dtype=uint32)"
      ]
     },
     "execution_count": 26,
     "output_type": "execute_result",
     "metadata": {}
    }
   ],
   "source": [
    "empty_uint32 = np.empty(8, dtype='u4') # 等价于empty_uint32 = np.empty(8, dtype='np.uint32')\n",
    "empty_uint32"
   ]
  },
  {
   "cell_type": "markdown",
   "metadata": {},
   "source": [
    "NumPy的数据类型列表，在原书第86页\n",
    "\n",
    "注意：astype方法会创建一个**新的数组**"
   ]
  },
  {
   "cell_type": "markdown",
   "metadata": {},
   "source": [
    "### 数组与标量之间的运算"
   ]
  },
  {
   "cell_type": "markdown",
   "metadata": {},
   "source": [
    "+ 大小相等的数组之间的算术运算和比较运算，运算将应用到**元素级**"
   ]
  },
  {
   "cell_type": "code",
   "execution_count": 27,
   "metadata": {},
   "outputs": [
    {
     "data": {
      "text/plain": [
       "array([[ 1.,  2.,  3.],\n",
       "       [ 4.,  5.,  6.]])"
      ]
     },
     "execution_count": 27,
     "output_type": "execute_result",
     "metadata": {}
    }
   ],
   "source": [
    "arr = np.array([[1., 2., 3.], [4., 5., 6.]])\n",
    "arr"
   ]
  },
  {
   "cell_type": "code",
   "execution_count": 28,
   "metadata": {},
   "outputs": [
    {
     "data": {
      "text/plain": [
       "array([[  1.,   4.,   9.],\n",
       "       [ 16.,  25.,  36.]])"
      ]
     },
     "execution_count": 28,
     "output_type": "execute_result",
     "metadata": {}
    }
   ],
   "source": [
    "arr * arr"
   ]
  },
  {
   "cell_type": "code",
   "execution_count": 29,
   "metadata": {},
   "outputs": [
    {
     "data": {
      "text/plain": [
       "array([[ True,  True,  True],\n",
       "       [ True,  True,  True]], dtype=bool)"
      ]
     },
     "execution_count": 29,
     "output_type": "execute_result",
     "metadata": {}
    }
   ],
   "source": [
    "arr == arr"
   ]
  },
  {
   "cell_type": "markdown",
   "metadata": {},
   "source": [
    "+ 数组与标量的算术运算和比较运算，标量值将**传播**到各个**元素**"
   ]
  },
  {
   "cell_type": "code",
   "execution_count": 30,
   "metadata": {},
   "outputs": [
    {
     "data": {
      "text/plain": [
       "array([[ 1.        ,  0.5       ,  0.33333333],\n",
       "       [ 0.25      ,  0.2       ,  0.16666667]])"
      ]
     },
     "execution_count": 30,
     "output_type": "execute_result",
     "metadata": {}
    }
   ],
   "source": [
    "1 / arr"
   ]
  },
  {
   "cell_type": "code",
   "execution_count": 31,
   "metadata": {},
   "outputs": [
    {
     "data": {
      "text/plain": [
       "array([[False,  True,  True],\n",
       "       [ True,  True,  True]], dtype=bool)"
      ]
     },
     "execution_count": 31,
     "output_type": "execute_result",
     "metadata": {}
    }
   ],
   "source": [
    "arr != 1"
   ]
  },
  {
   "cell_type": "markdown",
   "metadata": {},
   "source": [
    "### 基本的索引和切片"
   ]
  },
  {
   "cell_type": "markdown",
   "metadata": {},
   "source": [
    "+ 整数索引  \n",
    " + 整数索引是原始数组的视图，数据并不会复制\n",
    " + 整数索引返回的是低维数组\n",
    " + 通过切片赋值，对数组进行修改 "
   ]
  },
  {
   "cell_type": "code",
   "execution_count": 32,
   "metadata": {},
   "outputs": [
    {
     "data": {
      "text/plain": [
       "array([[[ 1,  2,  3],\n",
       "        [ 4,  5,  6]],\n",
       "\n",
       "       [[ 7,  8,  9],\n",
       "        [10, 11, 12]]])"
      ]
     },
     "execution_count": 32,
     "output_type": "execute_result",
     "metadata": {}
    }
   ],
   "source": [
    "arr3d = np.array([[[1, 2, 3], [4, 5, 6]], [[7, 8, 9], [10, 11, 12]]]) # 3维数组\n",
    "arr3d"
   ]
  },
  {
   "cell_type": "code",
   "execution_count": 33,
   "metadata": {},
   "outputs": [
    {
     "data": {
      "text/plain": [
       "array([[1, 2, 3],\n",
       "       [4, 5, 6]])"
      ]
     },
     "execution_count": 33,
     "output_type": "execute_result",
     "metadata": {}
    }
   ],
   "source": [
    "arr3d[0] # 2维数组"
   ]
  },
  {
   "cell_type": "code",
   "execution_count": 34,
   "metadata": {},
   "outputs": [
    {
     "data": {
      "text/plain": [
       "array([1, 2, 3])"
      ]
     },
     "execution_count": 34,
     "output_type": "execute_result",
     "metadata": {}
    }
   ],
   "source": [
    "arr3d[0][0]"
   ]
  },
  {
   "cell_type": "code",
   "execution_count": 35,
   "metadata": {},
   "outputs": [
    {
     "data": {
      "text/plain": [
       "array([1, 2, 3])"
      ]
     },
     "execution_count": 35,
     "output_type": "execute_result",
     "metadata": {}
    }
   ],
   "source": [
    "arr3d[0, 0] # 以上两种方式等价，返回1维数组"
   ]
  },
  {
   "cell_type": "code",
   "execution_count": 36,
   "metadata": {},
   "outputs": [
    {
     "data": {
      "text/plain": [
       "array([[1, 2, 3],\n",
       "       [4, 5, 6]])"
      ]
     },
     "execution_count": 36,
     "output_type": "execute_result",
     "metadata": {}
    }
   ],
   "source": [
    "old_values = arr3d[0].copy() # 如果想要得到切片副本，使用.copy()方法\n",
    "old_values"
   ]
  },
  {
   "cell_type": "code",
   "execution_count": 37,
   "metadata": {},
   "outputs": [
    {
     "data": {
      "text/plain": [
       "array([[[42, 42, 42],\n",
       "        [42, 42, 42]],\n",
       "\n",
       "       [[ 7,  8,  9],\n",
       "        [10, 11, 12]]])"
      ]
     },
     "execution_count": 37,
     "output_type": "execute_result",
     "metadata": {}
    }
   ],
   "source": [
    "arr3d[0] = 42 # 利用整数索引赋值，对数组进行修改\n",
    "arr3d"
   ]
  },
  {
   "cell_type": "code",
   "execution_count": 38,
   "metadata": {},
   "outputs": [
    {
     "data": {
      "text/plain": [
       "array([[[ 1,  2,  3],\n",
       "        [ 4,  5,  6]],\n",
       "\n",
       "       [[ 7,  8,  9],\n",
       "        [10, 11, 12]]])"
      ]
     },
     "execution_count": 38,
     "output_type": "execute_result",
     "metadata": {}
    }
   ],
   "source": [
    "arr3d[0] = old_values # 利用整数索引赋值，恢复原数组\n",
    "arr3d"
   ]
  },
  {
   "cell_type": "markdown",
   "metadata": {},
   "source": [
    "+ 切片索引\n",
    " + 整数索引是原始数组的视图，数据并不会复制"
   ]
  },
  {
   "cell_type": "code",
   "execution_count": 39,
   "metadata": {},
   "outputs": [
    {
     "data": {
      "text/plain": [
       "array([[1, 2, 3],\n",
       "       [4, 5, 6],\n",
       "       [7, 8, 9]])"
      ]
     },
     "execution_count": 39,
     "output_type": "execute_result",
     "metadata": {}
    }
   ],
   "source": [
    "arr2d = np.array([[1, 2, 3], [4, 5, 6], [7, 8, 9]])\n",
    "arr2d"
   ]
  },
  {
   "cell_type": "code",
   "execution_count": 40,
   "metadata": {},
   "outputs": [
    {
     "data": {
      "text/plain": [
       "array([[1, 2, 3],\n",
       "       [4, 5, 6]])"
      ]
     },
     "execution_count": 40,
     "output_type": "execute_result",
     "metadata": {}
    }
   ],
   "source": [
    "arr2d[:2] # 单独使用切片索引，不降维；切片可以没有逗号，按第一维进行切片"
   ]
  },
  {
   "cell_type": "code",
   "execution_count": 41,
   "metadata": {},
   "outputs": [
    {
     "data": {
      "text/plain": [
       "array([[2, 3],\n",
       "       [5, 6]])"
      ]
     },
     "execution_count": 41,
     "output_type": "execute_result",
     "metadata": {}
    }
   ],
   "source": [
    "arr2d[:2, 1:] # 先按0轴切片，再按1轴切片；切片中有逗号，先后按第一、二维进行切片"
   ]
  },
  {
   "cell_type": "code",
   "execution_count": 42,
   "metadata": {},
   "outputs": [
    {
     "data": {
      "text/plain": [
       "array([4, 5])"
      ]
     },
     "execution_count": 42,
     "output_type": "execute_result",
     "metadata": {}
    }
   ],
   "source": [
    "arr2d[1, :2] # 整数索引与切片索引混用，降维"
   ]
  },
  {
   "cell_type": "code",
   "execution_count": 43,
   "metadata": {},
   "outputs": [
    {
     "data": {
      "text/plain": [
       "array([[4, 5]])"
      ]
     },
     "execution_count": 43,
     "output_type": "execute_result",
     "metadata": {}
    }
   ],
   "source": [
    "arr2d[1:2, :2] # 在不降维的情况下，选取单行数组"
   ]
  },
  {
   "cell_type": "code",
   "execution_count": 44,
   "metadata": {},
   "outputs": [
    {
     "data": {
      "text/plain": [
       "array([[1],\n",
       "       [4],\n",
       "       [7]])"
      ]
     },
     "execution_count": 44,
     "output_type": "execute_result",
     "metadata": {}
    }
   ],
   "source": [
    "arr2d[:, :1] # 只有冒号，选取整个轴，即对该轴不切片；想要只按第二维进行切片，则加入冒号和逗号"
   ]
  },
  {
   "cell_type": "code",
   "execution_count": 45,
   "metadata": {},
   "outputs": [
    {
     "data": {
      "text/plain": [
       "array([[1, 0, 0],\n",
       "       [4, 0, 0],\n",
       "       [7, 8, 9]])"
      ]
     },
     "execution_count": 45,
     "output_type": "execute_result",
     "metadata": {}
    }
   ],
   "source": [
    "arr2d[:2, 1:] = 0 # 利用切片索引修改数组\n",
    "arr2d"
   ]
  },
  {
   "cell_type": "markdown",
   "metadata": {},
   "source": [
    "+ 布尔型索引\n",
    " + 布尔型索引总是创建数据的副本"
   ]
  },
  {
   "cell_type": "code",
   "execution_count": 46,
   "metadata": {},
   "outputs": [
    {
     "data": {
      "text/plain": [
       "array(['Bob', 'Joe', 'Will', 'Bob', 'Will', 'Joe', 'Joe'], \n",
       "      dtype='|S4')"
      ]
     },
     "execution_count": 46,
     "output_type": "execute_result",
     "metadata": {}
    }
   ],
   "source": [
    "names = np.array(['Bob', 'Joe', 'Will', 'Bob', 'Will', 'Joe', 'Joe'])\n",
    "names"
   ]
  },
  {
   "cell_type": "code",
   "execution_count": 47,
   "metadata": {},
   "outputs": [
    {
     "data": {
      "text/plain": [
       "array(['Bob', 'Joe', 'Will', 'Bob'], \n",
       "      dtype='|S4')"
      ]
     },
     "execution_count": 47,
     "output_type": "execute_result",
     "metadata": {}
    }
   ],
   "source": [
    "names1 = np.array(['Bob', 'Joe', 'Will', 'Bob'])\n",
    "names1"
   ]
  },
  {
   "cell_type": "code",
   "execution_count": 48,
   "metadata": {},
   "outputs": [
    {
     "data": {
      "text/plain": [
       "array([[ 0.36500734,  0.30252798,  0.21748181,  1.51790932],\n",
       "       [ 0.33822658, -0.84734238, -1.23583344,  2.21714887],\n",
       "       [-0.86229199, -2.94517863,  0.03760171, -0.42486437],\n",
       "       [-0.04933184, -2.05166287,  0.6099494 , -0.62897303],\n",
       "       [ 0.63079571, -0.2411596 ,  0.16981678,  0.68157878],\n",
       "       [-0.49798497,  0.08874844, -0.21000199, -1.23604449],\n",
       "       [-1.67022542, -0.53583471,  0.93821317, -1.44301963]])"
      ]
     },
     "execution_count": 48,
     "output_type": "execute_result",
     "metadata": {}
    }
   ],
   "source": [
    "data = randn(7, 4)\n",
    "data"
   ]
  },
  {
   "cell_type": "code",
   "execution_count": 49,
   "metadata": {},
   "outputs": [
    {
     "data": {
      "text/plain": [
       "array([[ 0.36500734,  0.30252798,  0.21748181,  1.51790932],\n",
       "       [-0.04933184, -2.05166287,  0.6099494 , -0.62897303]])"
      ]
     },
     "execution_count": 49,
     "output_type": "execute_result",
     "metadata": {}
    }
   ],
   "source": [
    "data[names == 'Bob'] # 布尔型数组的长度跟被索引的轴长度一致，按行索引；没有逗号，只按第一维索引（即按行索引）"
   ]
  },
  {
   "cell_type": "code",
   "execution_count": 50,
   "metadata": {},
   "outputs": [
    {
     "data": {
      "text/plain": [
       "array([[ 0.36500734,  1.51790932],\n",
       "       [ 0.33822658,  2.21714887],\n",
       "       [-0.86229199, -0.42486437],\n",
       "       [-0.04933184, -0.62897303],\n",
       "       [ 0.63079571,  0.68157878],\n",
       "       [-0.49798497, -1.23604449],\n",
       "       [-1.67022542, -1.44301963]])"
      ]
     },
     "execution_count": 50,
     "output_type": "execute_result",
     "metadata": {}
    }
   ],
   "source": [
    "data[:, names1 == 'Bob'] # 按列索引；有逗号，则按第一、二维索引"
   ]
  },
  {
   "cell_type": "code",
   "execution_count": 51,
   "metadata": {},
   "outputs": [
    {
     "data": {
      "text/plain": [
       "array([[ 0.33822658, -0.84734238, -1.23583344,  2.21714887],\n",
       "       [-0.86229199, -2.94517863,  0.03760171, -0.42486437],\n",
       "       [ 0.63079571, -0.2411596 ,  0.16981678,  0.68157878],\n",
       "       [-0.49798497,  0.08874844, -0.21000199, -1.23604449],\n",
       "       [-1.67022542, -0.53583471,  0.93821317, -1.44301963]])"
      ]
     },
     "execution_count": 51,
     "output_type": "execute_result",
     "metadata": {}
    }
   ],
   "source": [
    "data[names != 'Bob']"
   ]
  },
  {
   "cell_type": "code",
   "execution_count": 52,
   "metadata": {},
   "outputs": [
    {
     "data": {
      "text/plain": [
       "array([[ 0.33822658, -0.84734238, -1.23583344,  2.21714887],\n",
       "       [-0.86229199, -2.94517863,  0.03760171, -0.42486437],\n",
       "       [ 0.63079571, -0.2411596 ,  0.16981678,  0.68157878],\n",
       "       [-0.49798497,  0.08874844, -0.21000199, -1.23604449],\n",
       "       [-1.67022542, -0.53583471,  0.93821317, -1.44301963]])"
      ]
     },
     "execution_count": 52,
     "output_type": "execute_result",
     "metadata": {}
    }
   ],
   "source": [
    "data[~(names == 'Bob')] # 以上两种方式等价；在索引中，~表示否定，选取False"
   ]
  },
  {
   "cell_type": "code",
   "execution_count": 53,
   "metadata": {},
   "outputs": [
    {
     "data": {
      "text/plain": [
       "array([ True, False,  True,  True,  True, False, False], dtype=bool)"
      ]
     },
     "execution_count": 53,
     "output_type": "execute_result",
     "metadata": {}
    }
   ],
   "source": [
    "mask = (names == 'Bob') | (names == 'Will') # Python关键字and和or在布尔型数组中无效，使用 & 和 |\n",
    "mask"
   ]
  },
  {
   "cell_type": "code",
   "execution_count": 54,
   "metadata": {},
   "outputs": [
    {
     "data": {
      "text/plain": [
       "array([[ 0.36500734,  0.30252798,  0.21748181,  1.51790932],\n",
       "       [-0.86229199, -2.94517863,  0.03760171, -0.42486437],\n",
       "       [-0.04933184, -2.05166287,  0.6099494 , -0.62897303],\n",
       "       [ 0.63079571, -0.2411596 ,  0.16981678,  0.68157878]])"
      ]
     },
     "execution_count": 54,
     "output_type": "execute_result",
     "metadata": {}
    }
   ],
   "source": [
    "data[mask] # 布尔条件的组合索引"
   ]
  },
  {
   "cell_type": "code",
   "execution_count": 55,
   "metadata": {},
   "outputs": [
    {
     "data": {
      "text/plain": [
       "array([[ 0.36500734,  0.30252798,  0.21748181,  1.51790932],\n",
       "       [ 0.33822658,  0.        ,  0.        ,  2.21714887],\n",
       "       [ 0.        ,  0.        ,  0.03760171,  0.        ],\n",
       "       [ 0.        ,  0.        ,  0.6099494 ,  0.        ],\n",
       "       [ 0.63079571,  0.        ,  0.16981678,  0.68157878],\n",
       "       [ 0.        ,  0.08874844,  0.        ,  0.        ],\n",
       "       [ 0.        ,  0.        ,  0.93821317,  0.        ]])"
      ]
     },
     "execution_count": 55,
     "output_type": "execute_result",
     "metadata": {}
    }
   ],
   "source": [
    "data[data < 0] = 0 # 利用与原数组shape相同的布尔型索引修改数组\n",
    "data"
   ]
  },
  {
   "cell_type": "code",
   "execution_count": 56,
   "metadata": {},
   "outputs": [
    {
     "data": {
      "text/plain": [
       "array([[ 7.        ,  7.        ,  7.        ,  7.        ],\n",
       "       [ 0.33822658,  0.        ,  0.        ,  2.21714887],\n",
       "       [ 7.        ,  7.        ,  7.        ,  7.        ],\n",
       "       [ 7.        ,  7.        ,  7.        ,  7.        ],\n",
       "       [ 7.        ,  7.        ,  7.        ,  7.        ],\n",
       "       [ 0.        ,  0.08874844,  0.        ,  0.        ],\n",
       "       [ 0.        ,  0.        ,  0.93821317,  0.        ]])"
      ]
     },
     "execution_count": 56,
     "output_type": "execute_result",
     "metadata": {}
    }
   ],
   "source": [
    "data[names != 'Joe'] = 7 # 利用一维布尔型索引修改数组\n",
    "data"
   ]
  },
  {
   "cell_type": "markdown",
   "metadata": {},
   "source": [
    "+ 花式索引（整数数组索引）\n",
    " + 以特定顺序选取行列子集\n",
    " + 花式索引总是创建数据的副本"
   ]
  },
  {
   "cell_type": "code",
   "execution_count": 57,
   "metadata": {},
   "outputs": [
    {
     "data": {
      "text/plain": [
       "array([[ 0.,  0.,  0.,  0.],\n",
       "       [ 1.,  1.,  1.,  1.],\n",
       "       [ 2.,  2.,  2.,  2.],\n",
       "       [ 3.,  3.,  3.,  3.],\n",
       "       [ 4.,  4.,  4.,  4.],\n",
       "       [ 5.,  5.,  5.,  5.],\n",
       "       [ 6.,  6.,  6.,  6.],\n",
       "       [ 7.,  7.,  7.,  7.]])"
      ]
     },
     "execution_count": 57,
     "output_type": "execute_result",
     "metadata": {}
    }
   ],
   "source": [
    "arr = np.empty((8, 4))\n",
    "for i in range(8):\n",
    "    arr[i] = i # 创建数组\n",
    "arr"
   ]
  },
  {
   "cell_type": "code",
   "execution_count": 58,
   "metadata": {},
   "outputs": [
    {
     "data": {
      "text/plain": [
       "array([[ 4.,  4.,  4.,  4.],\n",
       "       [ 3.,  3.,  3.,  3.],\n",
       "       [ 0.,  0.,  0.,  0.],\n",
       "       [ 6.,  6.,  6.,  6.]])"
      ]
     },
     "execution_count": 58,
     "output_type": "execute_result",
     "metadata": {}
    }
   ],
   "source": [
    "arr[[4, 3, 0, 6]] # 以特定顺序选取行子集；双中括号不降维"
   ]
  },
  {
   "cell_type": "code",
   "execution_count": 59,
   "metadata": {},
   "outputs": [
    {
     "data": {
      "text/plain": [
       "array([[ 5.,  5.,  5.,  5.],\n",
       "       [ 3.,  3.,  3.,  3.],\n",
       "       [ 1.,  1.,  1.,  1.]])"
      ]
     },
     "execution_count": 59,
     "output_type": "execute_result",
     "metadata": {}
    }
   ],
   "source": [
    "arr[[-3, -5, -7]] # 使用负数索引从末尾选取行"
   ]
  },
  {
   "cell_type": "code",
   "execution_count": 60,
   "metadata": {},
   "outputs": [
    {
     "data": {
      "text/plain": [
       "array([[ 0,  1,  2,  3],\n",
       "       [ 4,  5,  6,  7],\n",
       "       [ 8,  9, 10, 11],\n",
       "       [12, 13, 14, 15],\n",
       "       [16, 17, 18, 19],\n",
       "       [20, 21, 22, 23],\n",
       "       [24, 25, 26, 27],\n",
       "       [28, 29, 30, 31]])"
      ]
     },
     "execution_count": 60,
     "output_type": "execute_result",
     "metadata": {}
    }
   ],
   "source": [
    "arr = np.arange(32).reshape((8, 4))\n",
    "arr"
   ]
  },
  {
   "cell_type": "code",
   "execution_count": 61,
   "metadata": {},
   "outputs": [
    {
     "data": {
      "text/plain": [
       "array([ 4, 23, 29, 10])"
      ]
     },
     "execution_count": 61,
     "output_type": "execute_result",
     "metadata": {}
    }
   ],
   "source": [
    "arr[[1, 5, 7, 2], [0, 3, 1, 2]] # 这样返回的是元素(1, 0), (5, 3), (7, 1), (2, 2)"
   ]
  },
  {
   "cell_type": "code",
   "execution_count": 62,
   "metadata": {},
   "outputs": [
    {
     "data": {
      "text/plain": [
       "array([[ 4,  7,  5,  6],\n",
       "       [20, 23, 21, 22],\n",
       "       [28, 31, 29, 30],\n",
       "       [ 8, 11,  9, 10]])"
      ]
     },
     "execution_count": 62,
     "output_type": "execute_result",
     "metadata": {}
    }
   ],
   "source": [
    "arr[[1, 5, 7, 2]][:, [0, 3, 1, 2]]"
   ]
  },
  {
   "cell_type": "code",
   "execution_count": 63,
   "metadata": {},
   "outputs": [
    {
     "data": {
      "text/plain": [
       "array([[ 4,  7,  5,  6],\n",
       "       [20, 23, 21, 22],\n",
       "       [28, 31, 29, 30],\n",
       "       [ 8, 11,  9, 10]])"
      ]
     },
     "execution_count": 63,
     "output_type": "execute_result",
     "metadata": {}
    }
   ],
   "source": [
    "arr[np.ix_([1, 5, 7, 2], [0, 3, 1, 2])] # 以上两种方式等价，选取数组内的方形区域"
   ]
  },
  {
   "cell_type": "markdown",
   "metadata": {},
   "source": [
    "### 数组转置和轴对换\n",
    "转置和轴对换返回源数据的视图，数据并不会复制"
   ]
  },
  {
   "cell_type": "markdown",
   "metadata": {},
   "source": [
    "+ T属性，转置"
   ]
  },
  {
   "cell_type": "code",
   "execution_count": 64,
   "metadata": {},
   "outputs": [
    {
     "data": {
      "text/plain": [
       "array([[ 0,  5, 10],\n",
       "       [ 1,  6, 11],\n",
       "       [ 2,  7, 12],\n",
       "       [ 3,  8, 13],\n",
       "       [ 4,  9, 14]])"
      ]
     },
     "execution_count": 64,
     "output_type": "execute_result",
     "metadata": {}
    }
   ],
   "source": [
    "arr = np.arange(15).reshape((3, 5))\n",
    "arr.T"
   ]
  },
  {
   "cell_type": "markdown",
   "metadata": {},
   "source": [
    "+ transpose方法，转置"
   ]
  },
  {
   "cell_type": "code",
   "execution_count": 65,
   "metadata": {},
   "outputs": [
    {
     "data": {
      "text/plain": [
       "array([[[ 0,  1,  2,  3],\n",
       "        [ 4,  5,  6,  7]],\n",
       "\n",
       "       [[ 8,  9, 10, 11],\n",
       "        [12, 13, 14, 15]]])"
      ]
     },
     "execution_count": 65,
     "output_type": "execute_result",
     "metadata": {}
    }
   ],
   "source": [
    "arr = np.arange(16).reshape((2, 2, 4))\n",
    "arr"
   ]
  },
  {
   "cell_type": "code",
   "execution_count": 66,
   "metadata": {},
   "outputs": [
    {
     "data": {
      "text/plain": [
       "array([[[ 0,  1,  2,  3],\n",
       "        [ 8,  9, 10, 11]],\n",
       "\n",
       "       [[ 4,  5,  6,  7],\n",
       "        [12, 13, 14, 15]]])"
      ]
     },
     "execution_count": 66,
     "output_type": "execute_result",
     "metadata": {}
    }
   ],
   "source": [
    "arr.transpose((1, 0, 2)) # 传入轴编号组成的元组，按照轴编号的排列重塑数组"
   ]
  },
  {
   "cell_type": "code",
   "execution_count": 67,
   "metadata": {},
   "outputs": [
    {
     "data": {
      "text/plain": [
       "array([[[ 0,  8],\n",
       "        [ 4, 12]],\n",
       "\n",
       "       [[ 1,  9],\n",
       "        [ 5, 13]],\n",
       "\n",
       "       [[ 2, 10],\n",
       "        [ 6, 14]],\n",
       "\n",
       "       [[ 3, 11],\n",
       "        [ 7, 15]]])"
      ]
     },
     "execution_count": 67,
     "output_type": "execute_result",
     "metadata": {}
    }
   ],
   "source": [
    "arr.T"
   ]
  },
  {
   "cell_type": "code",
   "execution_count": 68,
   "metadata": {},
   "outputs": [
    {
     "data": {
      "text/plain": [
       "array([[[ 0,  8],\n",
       "        [ 4, 12]],\n",
       "\n",
       "       [[ 1,  9],\n",
       "        [ 5, 13]],\n",
       "\n",
       "       [[ 2, 10],\n",
       "        [ 6, 14]],\n",
       "\n",
       "       [[ 3, 11],\n",
       "        [ 7, 15]]])"
      ]
     },
     "execution_count": 68,
     "output_type": "execute_result",
     "metadata": {}
    }
   ],
   "source": [
    "arr.transpose((2, 1, 0)) # 以上两种方式等价"
   ]
  },
  {
   "cell_type": "markdown",
   "metadata": {},
   "source": [
    "+ swapaxes方法，轴对换"
   ]
  },
  {
   "cell_type": "code",
   "execution_count": 69,
   "metadata": {},
   "outputs": [
    {
     "data": {
      "text/plain": [
       "array([[[ 0,  4],\n",
       "        [ 1,  5],\n",
       "        [ 2,  6],\n",
       "        [ 3,  7]],\n",
       "\n",
       "       [[ 8, 12],\n",
       "        [ 9, 13],\n",
       "        [10, 14],\n",
       "        [11, 15]]])"
      ]
     },
     "execution_count": 69,
     "output_type": "execute_result",
     "metadata": {}
    }
   ],
   "source": [
    "arr.swapaxes(1, 2) # 1、2轴对换"
   ]
  },
  {
   "cell_type": "markdown",
   "metadata": {},
   "source": [
    "## 通用函数：快速的元素级数组函数"
   ]
  },
  {
   "cell_type": "markdown",
   "metadata": {},
   "source": [
    "+ 通用函数（ufunc）都是NumPy的**顶级函数**，是一种对ndarray中的数据执行元素级运算的函数。\n",
    "+ 可以将其看作简单函数（接受一个或多个标量值，并产生一个或多个标量值）的矢量化包装器。"
   ]
  },
  {
   "cell_type": "markdown",
   "metadata": {},
   "source": [
    "### 一元ufunc"
   ]
  },
  {
   "cell_type": "markdown",
   "metadata": {},
   "source": [
    "+ abs、fabs  \n",
    "计算整数、浮点数或复数的绝对值。对于非复数值，可以使用更快的fabs\n",
    "+ sqrt  \n",
    "计算各元素的平方根。相当于arr ** 0.5\n",
    "+ square  \n",
    "计算各元素的平方。相当于arr ** 2\n",
    "+ exp  \n",
    "计算各元素的指数e ** x\n",
    "+ log、log10、log2、log1p  \n",
    "分别为自然对数（底数为e）、底数为10的log、底数为2的log、log(1+x)\n",
    "+ sign  \n",
    "计算各元素的正负号：1（正数）、0（零）、-1（负数）\n",
    "+ ceil  \n",
    "计算各元素的ceiling值，即大于等于该值的最小整数\n",
    "+ floor  \n",
    "计算各元素的floor值，即小于等于该值的最大整数\n",
    "+ rint  \n",
    "将各元素值四舍五入到最接近的整数，保留dtype\n",
    "+ modf  \n",
    "将数组的小数和整数部分以两个独立数组的形式返回\n",
    "+ isnan  \n",
    "返回一个表示“哪些值是NaN（这不是一个数字）”的布尔型数组\n",
    "+ isfinite、isinf  \n",
    "分别返回一个表示“哪些元素是有穷的（非inf，非NaN）”或“哪些元素是无穷的”的布尔型数组\n",
    "+ cos、cosh、sin、sinh、tan、tanh  \n",
    "普通型和双曲型三角函数\n",
    "+ arccos、arccosh、arcsin、arcsinh、arctan、arctanh  \n",
    "反三角函数\n",
    "+ logical_not  \n",
    "计算各元素not x的真值。相当于-arr"
   ]
  },
  {
   "cell_type": "code",
   "execution_count": 70,
   "metadata": {},
   "outputs": [
    {
     "data": {
      "text/plain": [
       "array([ 0.        ,  1.        ,  1.41421356,  1.73205081,  2.        ,\n",
       "        2.23606798,  2.44948974,  2.64575131,  2.82842712,  3.        ])"
      ]
     },
     "execution_count": 70,
     "output_type": "execute_result",
     "metadata": {}
    }
   ],
   "source": [
    "arr = np.arange(10)\n",
    "np.sqrt(arr)"
   ]
  },
  {
   "cell_type": "code",
   "execution_count": 71,
   "metadata": {},
   "outputs": [
    {
     "data": {
      "text/plain": [
       "array([  1.00000000e+00,   2.71828183e+00,   7.38905610e+00,\n",
       "         2.00855369e+01,   5.45981500e+01,   1.48413159e+02,\n",
       "         4.03428793e+02,   1.09663316e+03,   2.98095799e+03,\n",
       "         8.10308393e+03])"
      ]
     },
     "execution_count": 71,
     "output_type": "execute_result",
     "metadata": {}
    }
   ],
   "source": [
    "np.exp(arr)"
   ]
  },
  {
   "cell_type": "code",
   "execution_count": 72,
   "metadata": {},
   "outputs": [
    {
     "data": {
      "text/plain": [
       "array([-0.41308839, -3.45882656,  0.30989857,  2.49747565,  2.6463387 ,\n",
       "       -1.26285113, -1.98921474])"
      ]
     },
     "execution_count": 72,
     "output_type": "execute_result",
     "metadata": {}
    }
   ],
   "source": [
    "arr = randn(7) * 5\n",
    "arr"
   ]
  },
  {
   "cell_type": "code",
   "execution_count": 73,
   "metadata": {},
   "outputs": [
    {
     "data": {
      "text/plain": [
       "(array([-0.41308839, -0.45882656,  0.30989857,  0.49747565,  0.6463387 ,\n",
       "        -0.26285113, -0.98921474]), array([-0., -3.,  0.,  2.,  2., -1., -1.]))"
      ]
     },
     "execution_count": 73,
     "output_type": "execute_result",
     "metadata": {}
    }
   ],
   "source": [
    "np.modf(arr) # 返回由两个数组构成的元组"
   ]
  },
  {
   "cell_type": "markdown",
   "metadata": {},
   "source": [
    "### 二元ufunc"
   ]
  },
  {
   "cell_type": "markdown",
   "metadata": {},
   "source": [
    "+ add  \n",
    "将数组中对应的元素相加\n",
    "+ subtract  \n",
    "从第一个数组中减去第二个数组中的元素\n",
    "+ multiply  \n",
    "数组元素相乘\n",
    "+ divide、floor_divide  \n",
    "除法或向下圆整除法（丢弃余数）\n",
    "+ power  \n",
    "对第一个数组中的元素A，根据第二个数组中的相应元素B，计算A ** B\n",
    "+ maximum、fmax  \n",
    "元素级的最大值计算。fmax将忽略NaN\n",
    "+ minimum、fmin  \n",
    "元素级的最小值计算。fmin将忽略NaN\n",
    "+ mod  \n",
    "元素级的求模计算（除法的余数）\n",
    "+ copysign  \n",
    "将第二个数组中的值的符号复制给第一个数组中的值\n",
    "+ greater、greater_equal、less、less_equal、equal、not_equal  \n",
    "执行元素级的比较运算，最终产生布尔型数组。相当于中缀运算符>、>=、<、<=、==、!=\n",
    "+ logical_and、logical_or、logical_xor  \n",
    "执行元素级的真值逻辑运算。相当于中缀运算符&、|、^（异或）"
   ]
  },
  {
   "cell_type": "code",
   "execution_count": 74,
   "metadata": {},
   "outputs": [
    {
     "data": {
      "text/plain": [
       "(array([ 0.20725064, -1.83943749,  0.04499501,  0.64148361, -1.84246619,\n",
       "        -0.07302458, -0.60234676, -2.07251363]),\n",
       " array([ 0.8858014 ,  0.50871517,  0.23088971,  1.42490107, -0.52087804,\n",
       "        -0.5187032 ,  1.24660707,  0.08249876]))"
      ]
     },
     "execution_count": 74,
     "output_type": "execute_result",
     "metadata": {}
    }
   ],
   "source": [
    "x = randn(8)\n",
    "y = randn(8)\n",
    "x, y"
   ]
  },
  {
   "cell_type": "code",
   "execution_count": 75,
   "metadata": {},
   "outputs": [
    {
     "data": {
      "text/plain": [
       "array([ 0.8858014 ,  0.50871517,  0.23088971,  1.42490107, -0.52087804,\n",
       "       -0.07302458,  1.24660707,  0.08249876])"
      ]
     },
     "execution_count": 75,
     "output_type": "execute_result",
     "metadata": {}
    }
   ],
   "source": [
    "np.maximum(x, y)"
   ]
  },
  {
   "cell_type": "markdown",
   "metadata": {},
   "source": [
    "## 利用数组进行数据处理"
   ]
  },
  {
   "cell_type": "markdown",
   "metadata": {},
   "source": [
    "### np.where：将条件逻辑表述为数组运算"
   ]
  },
  {
   "cell_type": "markdown",
   "metadata": {},
   "source": [
    "np.where函数是三元表达式x if condition else y的矢量化版本"
   ]
  },
  {
   "cell_type": "markdown",
   "metadata": {},
   "source": [
    "+ 3个参数是等长数组"
   ]
  },
  {
   "cell_type": "code",
   "execution_count": 76,
   "metadata": {},
   "outputs": [],
   "source": [
    "xarr = np.array([1.1, 1.2, 1.3, 1.4, 1.5])\n",
    "yarr = np.array([2.1, 2.2, 2.3, 2.4, 2.5])\n",
    "cond = np.array([True, False, True, True, False])"
   ]
  },
  {
   "cell_type": "code",
   "execution_count": 77,
   "metadata": {},
   "outputs": [
    {
     "data": {
      "text/plain": [
       "[1.1000000000000001, 2.2000000000000002, 1.3, 1.3999999999999999, 2.5]"
      ]
     },
     "execution_count": 77,
     "output_type": "execute_result",
     "metadata": {}
    }
   ],
   "source": [
    "result = [(x if c else y)\n",
    "          for x, y, c in zip(xarr, yarr, cond)]\n",
    "result"
   ]
  },
  {
   "cell_type": "code",
   "execution_count": 78,
   "metadata": {},
   "outputs": [
    {
     "data": {
      "text/plain": [
       "array([ 1.1,  2.2,  1.3,  1.4,  2.5])"
      ]
     },
     "execution_count": 78,
     "output_type": "execute_result",
     "metadata": {}
    }
   ],
   "source": [
    "result = np.where(cond, xarr, yarr) # 以上两种方式等价，cond值为True时，选取xarr的值，否则选取yarr的值\n",
    "result"
   ]
  },
  {
   "cell_type": "markdown",
   "metadata": {},
   "source": [
    "+ 第2、3个参数不是数组，用于根据另一个数组产生一个新的数组"
   ]
  },
  {
   "cell_type": "code",
   "execution_count": 79,
   "metadata": {},
   "outputs": [
    {
     "data": {
      "text/plain": [
       "array([[-0.02564568,  1.35821718, -0.20947704, -1.25218089],\n",
       "       [-0.21938282, -0.4786935 , -0.11440673, -0.79357692],\n",
       "       [-0.26683798,  0.00721901, -0.33810263,  1.40485558],\n",
       "       [-1.33559877, -0.57900868, -2.50237571,  0.48548505]])"
      ]
     },
     "execution_count": 79,
     "output_type": "execute_result",
     "metadata": {}
    }
   ],
   "source": [
    "arr = randn(4, 4)\n",
    "arr"
   ]
  },
  {
   "cell_type": "code",
   "execution_count": 80,
   "metadata": {},
   "outputs": [
    {
     "data": {
      "text/plain": [
       "array([[-2,  2, -2, -2],\n",
       "       [-2, -2, -2, -2],\n",
       "       [-2,  2, -2,  2],\n",
       "       [-2, -2, -2,  2]])"
      ]
     },
     "execution_count": 80,
     "output_type": "execute_result",
     "metadata": {}
    }
   ],
   "source": [
    "np.where(arr > 0, 2, -2)"
   ]
  },
  {
   "cell_type": "code",
   "execution_count": 81,
   "metadata": {},
   "outputs": [
    {
     "data": {
      "text/plain": [
       "array([[-0.02564568,  2.        , -0.20947704, -1.25218089],\n",
       "       [-0.21938282, -0.4786935 , -0.11440673, -0.79357692],\n",
       "       [-0.26683798,  2.        , -0.33810263,  2.        ],\n",
       "       [-1.33559877, -0.57900868, -2.50237571,  2.        ]])"
      ]
     },
     "execution_count": 81,
     "output_type": "execute_result",
     "metadata": {}
    }
   ],
   "source": [
    "np.where(arr > 0, 2, arr) # 只将正值设置为2"
   ]
  },
  {
   "cell_type": "markdown",
   "metadata": {},
   "source": [
    "+ 嵌套的where表达式"
   ]
  },
  {
   "cell_type": "code",
   "execution_count": 82,
   "metadata": {},
   "outputs": [],
   "source": [
    "cond1 = np.array([False, False, True, False, True])\n",
    "cond2 = np.array([True, False, False, True, False])"
   ]
  },
  {
   "cell_type": "code",
   "execution_count": 83,
   "metadata": {},
   "outputs": [
    {
     "data": {
      "text/plain": [
       "[2, 3, 1, 2, 1]"
      ]
     },
     "execution_count": 83,
     "output_type": "execute_result",
     "metadata": {}
    }
   ],
   "source": [
    "result = []\n",
    "for i in range(len(cond1)):\n",
    "    if cond1[i] and cond2[i]:\n",
    "        result.append(0)\n",
    "    elif cond1[i]:\n",
    "        result.append(1)\n",
    "    elif cond2[i]:\n",
    "        result.append(2)\n",
    "    else:\n",
    "        result.append(3)\n",
    "result"
   ]
  },
  {
   "cell_type": "code",
   "execution_count": 84,
   "metadata": {},
   "outputs": [
    {
     "data": {
      "text/plain": [
       "array([2, 3, 1, 2, 1])"
      ]
     },
     "execution_count": 84,
     "output_type": "execute_result",
     "metadata": {}
    }
   ],
   "source": [
    "np.where(cond1 & cond2, 0,\n",
    "         np.where(cond1, 1,\n",
    "                  np.where(cond2, 2, 3))) # 以上两种方式等价"
   ]
  },
  {
   "cell_type": "markdown",
   "metadata": {},
   "source": [
    "### 数学和统计方法"
   ]
  },
  {
   "cell_type": "markdown",
   "metadata": {},
   "source": [
    "+ sum  \n",
    "对数组中全部或某轴向的元素求和。零长度的数组的sum为0\n",
    "+ mean  \n",
    "算术平均数。零长度的数组的mean为NaN\n",
    "+ std、var  \n",
    "分别为标准差和方差，自由度可调（默认为n）\n",
    "+ min、max  \n",
    "最大值和最小值\n",
    "+ argmin、argmax  \n",
    "分别为排在第一个的最大和最小元素的索引\n",
    "+ cumsum  \n",
    "所有元素的累计和\n",
    "+ cumprod  \n",
    "所有元素的累计积"
   ]
  },
  {
   "cell_type": "code",
   "execution_count": 85,
   "metadata": {},
   "outputs": [
    {
     "data": {
      "text/plain": [
       "array([[-0.49834218, -0.85626571, -1.09607239,  0.56899632],\n",
       "       [-1.75566584,  1.16315487, -1.03124507,  0.03414199],\n",
       "       [ 0.79011418, -1.8143928 ,  0.3591387 , -0.240595  ],\n",
       "       [-0.08124013, -0.41158156,  2.01909405, -1.19292641],\n",
       "       [-0.59491177,  1.43741011,  1.56301181, -0.79553903]])"
      ]
     },
     "execution_count": 85,
     "output_type": "execute_result",
     "metadata": {}
    }
   ],
   "source": [
    "arr = np.random.randn(5, 4)\n",
    "arr"
   ]
  },
  {
   "cell_type": "code",
   "execution_count": 86,
   "metadata": {},
   "outputs": [
    {
     "data": {
      "text/plain": [
       "-0.12168579328687516"
      ]
     },
     "execution_count": 86,
     "output_type": "execute_result",
     "metadata": {}
    }
   ],
   "source": [
    "arr.mean()"
   ]
  },
  {
   "cell_type": "code",
   "execution_count": 87,
   "metadata": {},
   "outputs": [
    {
     "data": {
      "text/plain": [
       "-0.12168579328687516"
      ]
     },
     "execution_count": 87,
     "output_type": "execute_result",
     "metadata": {}
    }
   ],
   "source": [
    "np.mean(arr) # 既是方法，也是顶级函数，返回标量值"
   ]
  },
  {
   "cell_type": "code",
   "execution_count": 88,
   "metadata": {},
   "outputs": [
    {
     "data": {
      "text/plain": [
       "array([-0.47042099, -0.39740352, -0.22643373,  0.08333649,  0.40249278])"
      ]
     },
     "execution_count": 88,
     "output_type": "execute_result",
     "metadata": {}
    }
   ],
   "source": [
    "arr.mean(axis=1) # 接受axis = 1参数，按行计算统计值，返回少一维的数组，0为列，1为行"
   ]
  },
  {
   "cell_type": "code",
   "execution_count": 89,
   "metadata": {},
   "outputs": [
    {
     "data": {
      "text/plain": [
       "array([-2.14004574, -0.48167509,  1.81392709, -1.62592214])"
      ]
     },
     "execution_count": 89,
     "output_type": "execute_result",
     "metadata": {}
    }
   ],
   "source": [
    "arr.sum(0) # 可以不输入axis = 参数名，按列计算统计值"
   ]
  },
  {
   "cell_type": "code",
   "execution_count": 90,
   "metadata": {},
   "outputs": [
    {
     "data": {
      "text/plain": [
       "array([[0, 1, 2],\n",
       "       [3, 4, 5],\n",
       "       [6, 7, 8]])"
      ]
     },
     "execution_count": 90,
     "output_type": "execute_result",
     "metadata": {}
    }
   ],
   "source": [
    "arr = np.array([[0, 1, 2], [3, 4, 5], [6, 7, 8]])\n",
    "arr"
   ]
  },
  {
   "cell_type": "code",
   "execution_count": 91,
   "metadata": {},
   "outputs": [
    {
     "data": {
      "text/plain": [
       "array([[ 0,  1,  2],\n",
       "       [ 3,  5,  7],\n",
       "       [ 9, 12, 15]])"
      ]
     },
     "execution_count": 91,
     "output_type": "execute_result",
     "metadata": {}
    }
   ],
   "source": [
    "arr.cumsum(0)"
   ]
  },
  {
   "cell_type": "code",
   "execution_count": 92,
   "metadata": {},
   "outputs": [
    {
     "data": {
      "text/plain": [
       "array([[  0,   0,   0],\n",
       "       [  3,  12,  60],\n",
       "       [  6,  42, 336]])"
      ]
     },
     "execution_count": 92,
     "output_type": "execute_result",
     "metadata": {}
    }
   ],
   "source": [
    "arr.cumprod(1) # cumsum、cumprod之类的方法不聚合，返回由中间结果组成的数组"
   ]
  },
  {
   "cell_type": "markdown",
   "metadata": {},
   "source": [
    "### any, all：用于布尔型数组的方法"
   ]
  },
  {
   "cell_type": "code",
   "execution_count": 93,
   "metadata": {},
   "outputs": [
    {
     "data": {
      "text/plain": [
       "48"
      ]
     },
     "execution_count": 93,
     "output_type": "execute_result",
     "metadata": {}
    }
   ],
   "source": [
    "arr = randn(100)\n",
    "(arr > 0).sum() # 布尔值会被转换为1（True）和0（False），sum用于对布尔型数组中的True值计数"
   ]
  },
  {
   "cell_type": "code",
   "execution_count": 94,
   "metadata": {},
   "outputs": [
    {
     "data": {
      "text/plain": [
       "array([[False, False],\n",
       "       [ True, False]], dtype=bool)"
      ]
     },
     "execution_count": 94,
     "output_type": "execute_result",
     "metadata": {}
    }
   ],
   "source": [
    "bools = np.array([False, False, True, False]).reshape(2, 2)\n",
    "bools"
   ]
  },
  {
   "cell_type": "code",
   "execution_count": 95,
   "metadata": {},
   "outputs": [
    {
     "data": {
      "text/plain": [
       "True"
      ]
     },
     "execution_count": 95,
     "output_type": "execute_result",
     "metadata": {}
    }
   ],
   "source": [
    "bools.any() # any检查整个数组中是否存在True"
   ]
  },
  {
   "cell_type": "code",
   "execution_count": 96,
   "metadata": {},
   "outputs": [
    {
     "data": {
      "text/plain": [
       "array([ True, False], dtype=bool)"
      ]
     },
     "execution_count": 96,
     "output_type": "execute_result",
     "metadata": {}
    }
   ],
   "source": [
    "bools.any(0) # 检查每列中是否存在True"
   ]
  },
  {
   "cell_type": "code",
   "execution_count": 97,
   "metadata": {},
   "outputs": [
    {
     "data": {
      "text/plain": [
       "array([False,  True], dtype=bool)"
      ]
     },
     "execution_count": 97,
     "output_type": "execute_result",
     "metadata": {}
    }
   ],
   "source": [
    "bools.any(1) # 检查每行中是否存在True"
   ]
  },
  {
   "cell_type": "code",
   "execution_count": 98,
   "metadata": {},
   "outputs": [
    {
     "data": {
      "text/plain": [
       "False"
      ]
     },
     "execution_count": 98,
     "output_type": "execute_result",
     "metadata": {}
    }
   ],
   "source": [
    "bools.all() # all检测整个数组中是否全为True"
   ]
  },
  {
   "cell_type": "markdown",
   "metadata": {},
   "source": [
    "### 排序"
   ]
  },
  {
   "cell_type": "markdown",
   "metadata": {},
   "source": [
    "+ sort方法就地排序"
   ]
  },
  {
   "cell_type": "code",
   "execution_count": 99,
   "metadata": {},
   "outputs": [
    {
     "data": {
      "text/plain": [
       "array([ 0.1737478 ,  0.04011146, -0.3489737 , -0.50747262, -0.83202677,\n",
       "        0.20183228,  1.1809926 , -0.02612075])"
      ]
     },
     "execution_count": 99,
     "output_type": "execute_result",
     "metadata": {}
    }
   ],
   "source": [
    "arr = randn(8)\n",
    "arr"
   ]
  },
  {
   "cell_type": "code",
   "execution_count": 100,
   "metadata": {},
   "outputs": [
    {
     "data": {
      "text/plain": [
       "array([-0.83202677, -0.50747262, -0.3489737 , -0.02612075,  0.04011146,\n",
       "        0.1737478 ,  0.20183228,  1.1809926 ])"
      ]
     },
     "execution_count": 100,
     "output_type": "execute_result",
     "metadata": {}
    }
   ],
   "source": [
    "arr.sort()\n",
    "arr"
   ]
  },
  {
   "cell_type": "code",
   "execution_count": 101,
   "metadata": {},
   "outputs": [
    {
     "data": {
      "text/plain": [
       "array([[-0.06583483,  1.52712891,  0.81103274],\n",
       "       [ 1.0617139 , -1.16818809,  0.49337766],\n",
       "       [-0.75988098, -1.39305294, -1.02151848],\n",
       "       [ 1.01386242,  0.28054317, -1.35817294],\n",
       "       [-0.22403719, -0.89314143,  1.17427466]])"
      ]
     },
     "execution_count": 101,
     "output_type": "execute_result",
     "metadata": {}
    }
   ],
   "source": [
    "arr = randn(5, 3)\n",
    "arr"
   ]
  },
  {
   "cell_type": "code",
   "execution_count": 102,
   "metadata": {},
   "outputs": [
    {
     "data": {
      "text/plain": [
       "array([[-0.06583483,  0.81103274,  1.52712891],\n",
       "       [-1.16818809,  0.49337766,  1.0617139 ],\n",
       "       [-1.39305294, -1.02151848, -0.75988098],\n",
       "       [-1.35817294,  0.28054317,  1.01386242],\n",
       "       [-0.89314143, -0.22403719,  1.17427466]])"
      ]
     },
     "execution_count": 102,
     "output_type": "execute_result",
     "metadata": {}
    }
   ],
   "source": [
    "arr.sort(1) # 多维数组可以在某一轴上排序\n",
    "arr"
   ]
  },
  {
   "cell_type": "markdown",
   "metadata": {},
   "source": [
    "+ np.sort函数返回数组排序后的副本"
   ]
  },
  {
   "cell_type": "code",
   "execution_count": 103,
   "metadata": {},
   "outputs": [
    {
     "data": {
      "text/plain": [
       "array([ 1.63029816,  0.16227418,  0.41996972,  0.48562972,  1.777026  ,\n",
       "        2.8643341 , -0.80974526, -0.77779174])"
      ]
     },
     "execution_count": 103,
     "output_type": "execute_result",
     "metadata": {}
    }
   ],
   "source": [
    "arr = randn(8)\n",
    "arr"
   ]
  },
  {
   "cell_type": "code",
   "execution_count": 104,
   "metadata": {},
   "outputs": [
    {
     "data": {
      "text/plain": [
       "array([-0.80974526, -0.77779174,  0.16227418,  0.41996972,  0.48562972,\n",
       "        1.63029816,  1.777026  ,  2.8643341 ])"
      ]
     },
     "execution_count": 104,
     "output_type": "execute_result",
     "metadata": {}
    }
   ],
   "source": [
    "np.sort(arr)"
   ]
  },
  {
   "cell_type": "markdown",
   "metadata": {},
   "source": [
    "+ 利用排序计算数组分位数"
   ]
  },
  {
   "cell_type": "code",
   "execution_count": 105,
   "metadata": {},
   "outputs": [],
   "source": [
    "large_arr = randn(1000)\n",
    "large_arr.sort() # 先对数组进行就地排序（升序）"
   ]
  },
  {
   "cell_type": "code",
   "execution_count": 106,
   "metadata": {},
   "outputs": [
    {
     "data": {
      "text/plain": [
       "-1.6785563175142182"
      ]
     },
     "execution_count": 106,
     "output_type": "execute_result",
     "metadata": {}
    }
   ],
   "source": [
    "large_arr[int(0.05 * len(large_arr))] # 5%分位数"
   ]
  },
  {
   "cell_type": "markdown",
   "metadata": {},
   "source": [
    "### 唯一化与集合运算"
   ]
  },
  {
   "cell_type": "markdown",
   "metadata": {},
   "source": [
    "+ 集合运算都是NumPy的顶级函数"
   ]
  },
  {
   "cell_type": "markdown",
   "metadata": {},
   "source": [
    "+ unique(x)  \n",
    "计算x中的唯一元素，并返回有序结果\n",
    "+ intersect1d(x, y)  \n",
    "计算x和y中的公共元素，并返回有序结果\n",
    "+ union1d(x, y)  \n",
    "计算x和y的并集，并返回有序结果\n",
    "+ in1d(x, y)  \n",
    "得到一个表示“x的元素是否包含于y”的布尔型数组\n",
    "+ setdiff1d(x, y)  \n",
    "集合的差，即元素在x中且不在y中\n",
    "+ setxor1d(x, y)  \n",
    "集合的对称差，即存在于一个数组中但不同时存在于两个数组中的元素（异或）"
   ]
  },
  {
   "cell_type": "code",
   "execution_count": 107,
   "metadata": {},
   "outputs": [
    {
     "data": {
      "text/plain": [
       "array(['Bob', 'Joe', 'Will'], \n",
       "      dtype='|S4')"
      ]
     },
     "execution_count": 107,
     "output_type": "execute_result",
     "metadata": {}
    }
   ],
   "source": [
    "names = np.array(['Bob', 'Joe', 'Will', 'Bob', 'Will', 'Joe', 'Joe'])\n",
    "np.unique(names)"
   ]
  },
  {
   "cell_type": "code",
   "execution_count": 108,
   "metadata": {},
   "outputs": [
    {
     "data": {
      "text/plain": [
       "['Bob', 'Joe', 'Will']"
      ]
     },
     "execution_count": 108,
     "output_type": "execute_result",
     "metadata": {}
    }
   ],
   "source": [
    "sorted(set(names)) # 等价的纯Python代码"
   ]
  },
  {
   "cell_type": "code",
   "execution_count": 109,
   "metadata": {},
   "outputs": [
    {
     "data": {
      "text/plain": [
       "array([ True, False, False,  True,  True, False,  True], dtype=bool)"
      ]
     },
     "execution_count": 109,
     "output_type": "execute_result",
     "metadata": {}
    }
   ],
   "source": [
    "values = np.array([6, 0, 0, 3, 2, 5, 6])\n",
    "np.in1d(values, [2, 3, 6])"
   ]
  },
  {
   "cell_type": "markdown",
   "metadata": {},
   "source": [
    "## 用于数组的文件输入输出"
   ]
  },
  {
   "cell_type": "markdown",
   "metadata": {},
   "source": [
    "### 将数组以二进制格式保存到磁盘"
   ]
  },
  {
   "cell_type": "markdown",
   "metadata": {},
   "source": [
    "+ np.save  \n",
    "默认情况下，数组以未压缩的原始二进制格式保存在扩展名为**.npy**的文件中"
   ]
  },
  {
   "cell_type": "code",
   "execution_count": 110,
   "metadata": {},
   "outputs": [],
   "source": [
    "arr = np.arange(10)\n",
    "np.save('./data/ch04/some_array', arr) # 文件路径末尾没有.npy，会被自动加上"
   ]
  },
  {
   "cell_type": "markdown",
   "metadata": {},
   "source": [
    "+ np.load  \n",
    "读取磁盘上的数组"
   ]
  },
  {
   "cell_type": "code",
   "execution_count": 111,
   "metadata": {},
   "outputs": [
    {
     "data": {
      "text/plain": [
       "array([0, 1, 2, 3, 4, 5, 6, 7, 8, 9])"
      ]
     },
     "execution_count": 111,
     "output_type": "execute_result",
     "metadata": {}
    }
   ],
   "source": [
    "np.load('./data/ch04/some_array.npy')"
   ]
  },
  {
   "cell_type": "markdown",
   "metadata": {},
   "source": [
    "+ np.savez  \n",
    "将多个数组保存到一个扩展名为**.npz**的压缩文件中，数组以关键字参数的形式传入"
   ]
  },
  {
   "cell_type": "code",
   "execution_count": 112,
   "metadata": {},
   "outputs": [],
   "source": [
    "np.savez('./data/ch04/some_array_archive.npz', a=arr, b=arr)"
   ]
  },
  {
   "cell_type": "code",
   "execution_count": 113,
   "metadata": {},
   "outputs": [
    {
     "data": {
      "text/plain": [
       "array([0, 1, 2, 3, 4, 5, 6, 7, 8, 9])"
      ]
     },
     "execution_count": 113,
     "output_type": "execute_result",
     "metadata": {}
    }
   ],
   "source": [
    "arch = np.load('./data/ch04/some_array_archive.npz') # 加载.npz文件，会得到一个类似字典的对象\n",
    "arch['b'] # 通过关键字参数的键来读取数组"
   ]
  },
  {
   "cell_type": "markdown",
   "metadata": {},
   "source": [
    "### 存取文本文件"
   ]
  },
  {
   "cell_type": "markdown",
   "metadata": {},
   "source": [
    "+ np.savetxt  \n",
    "将数组写到以某种分隔符隔开的文本文件中"
   ]
  },
  {
   "cell_type": "code",
   "execution_count": 114,
   "metadata": {},
   "outputs": [],
   "source": [
    "np.savetxt('./data/ch04/some_array_ex.txt', arr)"
   ]
  },
  {
   "cell_type": "markdown",
   "metadata": {},
   "source": [
    "+ np.loadtxt  \n",
    "可以指定各种分隔符、针对特定列的转换器函数、需要跳过的函数等"
   ]
  },
  {
   "cell_type": "code",
   "execution_count": 115,
   "metadata": {},
   "outputs": [
    {
     "data": {
      "text/plain": [
       "array([ 0.,  1.,  2.,  3.,  4.,  5.,  6.,  7.,  8.,  9.])"
      ]
     },
     "execution_count": 115,
     "output_type": "execute_result",
     "metadata": {}
    }
   ],
   "source": [
    "arr = np.loadtxt('./data/ch04/some_array_ex.txt', delimiter=',') # delimiter参数设置分隔符\n",
    "arr"
   ]
  },
  {
   "cell_type": "markdown",
   "metadata": {},
   "source": [
    "## 线性代数"
   ]
  },
  {
   "cell_type": "markdown",
   "metadata": {},
   "source": [
    "### numpy函数\n",
    "+ diag  \n",
    "以一维数组的形式返回方阵的对角线（或非对角线）元素，或将一维数组转换为方阵（非对角线元素为0）\n",
    "+ dot  \n",
    "矩阵乘法\n",
    "+ trace  \n",
    "计算对角线元素的和"
   ]
  },
  {
   "cell_type": "code",
   "execution_count": 116,
   "metadata": {},
   "outputs": [
    {
     "data": {
      "text/plain": [
       "array([[ 1.,  2.,  3.],\n",
       "       [ 4.,  5.,  6.]])"
      ]
     },
     "execution_count": 116,
     "output_type": "execute_result",
     "metadata": {}
    }
   ],
   "source": [
    "x = np.array([[1., 2., 3.], [4., 5., 6.]])\n",
    "x"
   ]
  },
  {
   "cell_type": "code",
   "execution_count": 117,
   "metadata": {},
   "outputs": [
    {
     "data": {
      "text/plain": [
       "array([[  6.,  23.],\n",
       "       [ -1.,   7.],\n",
       "       [  8.,   9.]])"
      ]
     },
     "execution_count": 117,
     "output_type": "execute_result",
     "metadata": {}
    }
   ],
   "source": [
    "y = np.array([[6., 23.], [-1, 7], [8, 9]])\n",
    "y"
   ]
  },
  {
   "cell_type": "code",
   "execution_count": 118,
   "metadata": {},
   "outputs": [
    {
     "data": {
      "text/plain": [
       "array([[  28.,   64.],\n",
       "       [  67.,  181.]])"
      ]
     },
     "execution_count": 118,
     "output_type": "execute_result",
     "metadata": {}
    }
   ],
   "source": [
    "x.dot(y)"
   ]
  },
  {
   "cell_type": "code",
   "execution_count": 119,
   "metadata": {},
   "outputs": [
    {
     "data": {
      "text/plain": [
       "array([[  28.,   64.],\n",
       "       [  67.,  181.]])"
      ]
     },
     "execution_count": 119,
     "output_type": "execute_result",
     "metadata": {}
    }
   ],
   "source": [
    "np.dot(x, y) # 以上两种方式等价"
   ]
  },
  {
   "cell_type": "code",
   "execution_count": 120,
   "metadata": {},
   "outputs": [
    {
     "data": {
      "text/plain": [
       "array([  6.,  15.])"
      ]
     },
     "execution_count": 120,
     "output_type": "execute_result",
     "metadata": {}
    }
   ],
   "source": [
    "np.dot(x, np.ones(3)) # 矩阵与向量相乘"
   ]
  },
  {
   "cell_type": "markdown",
   "metadata": {},
   "source": [
    "### numpy.linalg模块\n",
    "+ det  \n",
    "计算矩阵行列式\n",
    "+ eig  \n",
    "计算方阵的本征值和本征向量\n",
    "+ inv  \n",
    "计算方阵的逆\n",
    "+ pinv  \n",
    "计算矩阵的Moore-Penrose伪逆\n",
    "+ qr  \n",
    "计算QR分解\n",
    "+ svd  \n",
    "计算奇异值分解（SVD）\n",
    "+ solve  \n",
    "解线性方程组Ax = b，其中A为一个方阵\n",
    "+ lstsq  \n",
    "计算Ax = b的最小二乘解\n"
   ]
  },
  {
   "cell_type": "code",
   "execution_count": 121,
   "metadata": {},
   "outputs": [
    {
     "data": {
      "text/plain": [
       "array([[-0.73837097,  0.28174978, -1.74512174,  0.37745827,  0.87508199],\n",
       "       [-1.47430285,  0.69356149, -0.33516754,  0.70997336, -0.9296247 ],\n",
       "       [ 0.13633935, -1.50015217,  1.72183173, -1.13364725,  0.85130604],\n",
       "       [-1.63604067,  0.49330855, -0.03309101, -0.623156  , -0.0122295 ],\n",
       "       [ 0.37011029,  0.56647206, -1.05881181,  0.05015962, -0.74018756]])"
      ]
     },
     "execution_count": 121,
     "output_type": "execute_result",
     "metadata": {}
    }
   ],
   "source": [
    "from numpy.linalg import inv, qr\n",
    "X = randn(5, 5)\n",
    "X"
   ]
  },
  {
   "cell_type": "code",
   "execution_count": 122,
   "metadata": {},
   "outputs": [
    {
     "data": {
      "text/plain": [
       "array([[ 5.55095969, -2.03250102,  1.67970021, -0.44190756,  0.58653666],\n",
       "       [-2.03250102,  3.37511093, -3.92326795,  2.02040819, -2.10061483],\n",
       "       [ 1.67970021, -3.92326795,  7.24466911, -2.88110919,  1.03438519],\n",
       "       [-0.44190756,  2.02040819, -2.88110919,  2.3225324 , -1.32428923],\n",
       "       [ 0.58653666, -2.10061483,  1.03438519, -1.32428923,  2.90271973]])"
      ]
     },
     "execution_count": 122,
     "output_type": "execute_result",
     "metadata": {}
    }
   ],
   "source": [
    "mat = X.T.dot(X) # 矩阵乘法\n",
    "mat"
   ]
  },
  {
   "cell_type": "code",
   "execution_count": 123,
   "metadata": {},
   "outputs": [
    {
     "data": {
      "text/plain": [
       "array([[ 0.35162638,  0.82781448,  0.2756283 , -0.08953296,  0.38894704],\n",
       "       [ 0.82781448,  4.53764677,  1.89631069, -0.06189342,  2.41250438],\n",
       "       [ 0.2756283 ,  1.89631069,  1.10298412,  0.40233792,  1.10711812],\n",
       "       [-0.08953296, -0.06189342,  0.40233792,  1.17521285,  0.36608752],\n",
       "       [ 0.38894704,  2.41250438,  1.10711812,  0.36608752,  1.78426801]])"
      ]
     },
     "execution_count": 123,
     "output_type": "execute_result",
     "metadata": {}
    }
   ],
   "source": [
    "inv(mat) # 求逆"
   ]
  },
  {
   "cell_type": "code",
   "execution_count": 124,
   "metadata": {},
   "outputs": [
    {
     "data": {
      "text/plain": [
       "array([[  1.00000000e+00,   4.44089210e-16,  -1.11022302e-16,\n",
       "         -1.38777878e-16,  -2.22044605e-16],\n",
       "       [ -3.33066907e-16,   1.00000000e+00,  -8.88178420e-16,\n",
       "         -3.33066907e-16,   0.00000000e+00],\n",
       "       [  5.55111512e-17,   4.44089210e-16,   1.00000000e+00,\n",
       "         -5.55111512e-17,   8.88178420e-16],\n",
       "       [  1.11022302e-16,   4.44089210e-16,  -6.66133815e-16,\n",
       "          1.00000000e+00,  -8.88178420e-16],\n",
       "       [  0.00000000e+00,  -8.88178420e-16,   4.44089210e-16,\n",
       "          2.22044605e-16,   1.00000000e+00]])"
      ]
     },
     "execution_count": 124,
     "output_type": "execute_result",
     "metadata": {}
    }
   ],
   "source": [
    "mat.dot(inv(mat)) # 返回单位阵"
   ]
  },
  {
   "cell_type": "code",
   "execution_count": 125,
   "metadata": {},
   "outputs": [
    {
     "data": {
      "text/plain": [
       "(array([[-0.8968934 , -0.40990933,  0.01953504,  0.11308243,  0.11994716],\n",
       "        [ 0.32840029, -0.4298701 , -0.25176331,  0.30076201,  0.74399086],\n",
       "        [-0.27139668,  0.60523537, -0.63138076, -0.21171277,  0.34142353],\n",
       "        [ 0.07140098, -0.37707994, -0.02389377, -0.91618549,  0.11289752],\n",
       "        [-0.09476935,  0.37240691,  0.73281719, -0.11196616,  0.5502494 ]]),\n",
       " array([[-6.18909639,  4.33941907, -5.06483551,  2.13310319, -1.86627649],\n",
       "        [ 0.        , -4.53635754,  6.85432145, -3.80007505,  2.86896694],\n",
       "        [ 0.        ,  0.        , -2.72674098,  0.27582362,  2.04603004],\n",
       "        [ 0.        ,  0.        ,  0.        , -0.81193726,  0.1038375 ],\n",
       "        [ 0.        ,  0.        ,  0.        ,  0.        ,  0.30838943]]))"
      ]
     },
     "execution_count": 125,
     "output_type": "execute_result",
     "metadata": {}
    }
   ],
   "source": [
    "q, r = qr(mat) # QR分解\n",
    "q, r"
   ]
  },
  {
   "cell_type": "markdown",
   "metadata": {},
   "source": [
    "## 随机数生成"
   ]
  },
  {
   "cell_type": "markdown",
   "metadata": {},
   "source": [
    "### numpy.random模块\n",
    "+ seed  \n",
    "确定随机数生成器的种子\n",
    "+ permutation  \n",
    "返回一个序列的随机排列或返回一个随机排列的范围\n",
    "+ shuffle  \n",
    "对一个序列就地随机排列\n",
    "+ rand  \n",
    "产生均匀分布的样本值\n",
    "+ randint  \n",
    "从给定的上下限范围内随机选取整数\n",
    "+ randn  \n",
    "产生正态分布（平均值为0，标准差为1）的样本值，类似于MATLAB接口\n",
    "+ binomial  \n",
    "产生二项分布的样本值\n",
    "+ normal  \n",
    "产生正态（高斯）分布的样本值\n",
    "+ beta  \n",
    "产生Beta分布的样本值\n",
    "+ chisquare  \n",
    "产生卡方分布的样本值\n",
    "+ gamma  \n",
    "产生Gamma分布的样本值\n",
    "+ uniform  \n",
    "产生在[0, 1)中均匀分布的样本值"
   ]
  },
  {
   "cell_type": "code",
   "execution_count": 126,
   "metadata": {},
   "outputs": [
    {
     "data": {
      "text/plain": [
       "array([[-1.4995464 ,  1.29649796, -0.85135062, -0.26672194],\n",
       "       [-1.37228497, -0.02825433, -0.03155046,  0.22939946],\n",
       "       [ 0.58945495,  2.81129822, -0.77264084, -0.27409189],\n",
       "       [-2.2037048 , -0.61358449, -0.28770217,  0.25510283]])"
      ]
     },
     "execution_count": 126,
     "output_type": "execute_result",
     "metadata": {}
    }
   ],
   "source": [
    "samples = np.random.normal(size=(4, 4)) # 产生标准正态分布的4 * 4样本数组\n",
    "samples"
   ]
  },
  {
   "cell_type": "code",
   "execution_count": 127,
   "metadata": {},
   "outputs": [
    {
     "data": {
      "text/plain": [
       "array([[ 2.21047637,  0.65098855, -0.67818653,  3.07387483],\n",
       "       [-0.42997057, -0.65124204,  0.46532538,  1.00333631],\n",
       "       [-0.65550571, -0.21816793, -1.32781128, -0.38701414],\n",
       "       [ 0.46211408,  1.11715406, -2.39894015, -0.51229134]])"
      ]
     },
     "execution_count": 127,
     "output_type": "execute_result",
     "metadata": {}
    }
   ],
   "source": [
    "np.random.randn(4, 4) # 产生标准正态分布的4 * 4样本数组"
   ]
  },
  {
   "cell_type": "code",
   "execution_count": 128,
   "metadata": {},
   "outputs": [
    {
     "name": "stdout",
     "output_type": "stream",
     "text": [
      "1 loops, best of 3: 901 ms per loop\n"
     ]
    }
   ],
   "source": [
    "from random import normalvariate\n",
    "N = 1000000\n",
    "%timeit samples = [normalvariate(0, 1) for _ in xrange(N)]"
   ]
  },
  {
   "cell_type": "code",
   "execution_count": 129,
   "metadata": {},
   "outputs": [
    {
     "name": "stdout",
     "output_type": "stream",
     "text": [
      "10 loops, best of 3: 39.3 ms per loop\n"
     ]
    }
   ],
   "source": [
    "%timeit np.random.normal(size=N) # 产生大量样本值的情况下，numpy.random比纯Python快几个数量级"
   ]
  },
  {
   "cell_type": "markdown",
   "metadata": {},
   "source": [
    "## 范例：随机漫步"
   ]
  },
  {
   "cell_type": "code",
   "execution_count": 130,
   "metadata": {},
   "outputs": [],
   "source": [
    "from pandas import DataFrame, Series\n",
    "%matplotlib inline"
   ]
  },
  {
   "cell_type": "code",
   "execution_count": 131,
   "metadata": {},
   "outputs": [
    {
     "data": {
      "image/png": "[encoded data removed]"
     },
     "output_type": "display_data",
     "metadata": {}
    }
   ],
   "source": [
    "# 纯Python代码\n",
    "import random\n",
    "position = 0\n",
    "walk = [position]\n",
    "steps = 1000\n",
    "for i in xrange(steps):\n",
    "    step = 1 if random.randint(0, 1) else -1\n",
    "    position += step\n",
    "    walk.append(position)\n",
    "Series(walk).plot();"
   ]
  },
  {
   "cell_type": "code",
   "execution_count": 132,
   "metadata": {},
   "outputs": [
    {
     "data": {
      "image/png": "[encoded data removed]"
     },
     "output_type": "display_data",
     "metadata": {}
    }
   ],
   "source": [
    "# numpy.random代码\n",
    "nsteps = 1000\n",
    "draws = np.random.randint(0, 2, size=nsteps)\n",
    "steps = np.where(draws > 0, 1, -1)\n",
    "walk = steps.cumsum()\n",
    "Series(walk).plot();"
   ]
  },
  {
   "cell_type": "code",
   "execution_count": 133,
   "metadata": {},
   "outputs": [
    {
     "data": {
      "text/plain": [
       "22"
      ]
     },
     "execution_count": 133,
     "output_type": "execute_result",
     "metadata": {}
    }
   ],
   "source": [
    "walk.min()\n",
    "walk.max() # 对随机漫步的统计工作"
   ]
  },
  {
   "cell_type": "code",
   "execution_count": 134,
   "metadata": {},
   "outputs": [
    {
     "data": {
      "text/plain": [
       "121"
      ]
     },
     "execution_count": 134,
     "output_type": "execute_result",
     "metadata": {}
    }
   ],
   "source": [
    "(np.abs(walk) >= 10).argmax() # 得到本次随机漫步需要多久，才能距离0点至少10步远"
   ]
  },
  {
   "cell_type": "markdown",
   "metadata": {},
   "source": [
    "### 一次模拟多个随机漫步"
   ]
  },
  {
   "cell_type": "code",
   "execution_count": 135,
   "metadata": {},
   "outputs": [],
   "source": [
    "nwalks = 10 # 10个随机漫步\n",
    "nsteps = 1000\n",
    "draws = np.random.randint(0, 2, size=(nsteps, nwalks)) # 0 or 1\n",
    "steps = np.where(draws > 0, 1, -1)\n",
    "walks = steps.cumsum(0)"
   ]
  },
  {
   "cell_type": "code",
   "execution_count": 136,
   "metadata": {},
   "outputs": [
    {
     "data": {
      "image/png": "[encoded data removed]"
     },
     "output_type": "display_data",
     "metadata": {}
    }
   ],
   "source": [
    "DataFrame(walks).plot(legend=False);"
   ]
  },
  {
   "cell_type": "code",
   "execution_count": 137,
   "metadata": {},
   "outputs": [
    {
     "data": {
      "text/plain": [
       "-74"
      ]
     },
     "execution_count": 137,
     "output_type": "execute_result",
     "metadata": {}
    }
   ],
   "source": [
    "walks.max()\n",
    "walks.min()"
   ]
  },
  {
   "cell_type": "code",
   "execution_count": 138,
   "metadata": {},
   "outputs": [
    {
     "data": {
      "text/plain": [
       "6"
      ]
     },
     "execution_count": 138,
     "output_type": "execute_result",
     "metadata": {}
    }
   ],
   "source": [
    "hits30 = (np.abs(walks) >= 30).any(0)\n",
    "hits30.sum() # 到达30或-30的随机漫步数量"
   ]
  },
  {
   "cell_type": "code",
   "execution_count": 139,
   "metadata": {},
   "outputs": [
    {
     "data": {
      "text/plain": [
       "array([ True, False,  True,  True,  True,  True, False,  True, False, False], dtype=bool)"
      ]
     },
     "execution_count": 139,
     "output_type": "execute_result",
     "metadata": {}
    }
   ],
   "source": [
    "hits30"
   ]
  },
  {
   "cell_type": "code",
   "execution_count": 140,
   "metadata": {},
   "outputs": [
    {
     "data": {
      "text/plain": [
       "499.0"
      ]
     },
     "execution_count": 140,
     "output_type": "execute_result",
     "metadata": {}
    }
   ],
   "source": [
    "crossing_times = (np.abs(walks[:, hits30]) >= 30).argmax(0)\n",
    "crossing_times.mean() # 穿越了30步的随机漫步，所用穿越时间的均值"
   ]
  },
  {
   "cell_type": "code",
   "execution_count": 141,
   "metadata": {},
   "outputs": [],
   "source": [
    "steps = np.random.normal(loc=0, scale=0.25,\n",
    "                         size=(nsteps, nwalks)) # 用指定均值和标准差的正态分布生成随机漫步"
   ]
  }
 ],
 "metadata": {
  "kernelspec": {
   "display_name": "Python 2",
   "language": "python",
   "name": "python2"
  },
  "language_info": {
   "codemirror_mode": {
    "name": "ipython",
    "version": 2.0
   },
   "file_extension": ".py",
   "mimetype": "text/x-python",
   "name": "python",
   "nbconvert_exporter": "python",
   "pygments_lexer": "ipython2",
   "version": "2.7.11"
  }
 },
 "nbformat": 4,
 "nbformat_minor": 0
}