{
 "cells": [
  {
   "cell_type": "markdown",
   "metadata": {},
   "source": [
    "[TOC]"
   ]
  },
  {
   "cell_type": "markdown",
   "metadata": {
    "deletable": true,
    "editable": true
   },
   "source": [
    "# 10分钟入门pandas\n",
    "\n",
    "这是一篇针对pandas新手的简短入门。\n",
    "\n",
    "在开始之前，首先导入以下几个库："
   ]
  },
  {
   "cell_type": "code",
   "execution_count": 129,
   "metadata": {
    "collapsed": true,
    "deletable": true,
    "editable": true
   },
   "outputs": [],
   "source": [
    "import pandas as pd\n",
    "import numpy as np\n",
    "import matplotlib.pyplot as plt\n",
    "\n",
    "%matplotlib inline"
   ]
  },
  {
   "cell_type": "markdown",
   "metadata": {
    "deletable": true,
    "editable": true
   },
   "source": [
    "## 创建对象\n",
    "\n",
    "通过传递一个list来创建**Series **,pandas会默认创建整型index："
   ]
  },
  {
   "cell_type": "code",
   "execution_count": 2,
   "metadata": {
    "collapsed": false,
    "deletable": true,
    "editable": true
   },
   "outputs": [
    {
     "data": {
      "text/plain": [
       "0    1.0\n",
       "1    3.0\n",
       "2    5.0\n",
       "3    NaN\n",
       "4    6.0\n",
       "5    8.0\n",
       "dtype: float64"
      ]
     },
     "execution_count": 2,
     "metadata": {},
     "output_type": "execute_result"
    }
   ],
   "source": [
    "s = pd.Series([1,3,5,np.nan,6,8])\n",
    "s"
   ]
  },
  {
   "cell_type": "markdown",
   "metadata": {
    "deletable": true,
    "editable": true
   },
   "source": [
    "通过传递一个numpy array，日期index以及column标签来创建一个**DataFrame**:"
   ]
  },
  {
   "cell_type": "code",
   "execution_count": 3,
   "metadata": {
    "collapsed": false,
    "deletable": true,
    "editable": true
   },
   "outputs": [
    {
     "data": {
      "text/plain": [
       "DatetimeIndex(['2016-01-01', '2016-01-02', '2016-01-03', '2016-01-04',\n",
       "               '2016-01-05', '2016-01-06'],\n",
       "              dtype='datetime64[ns]', freq='D')"
      ]
     },
     "execution_count": 3,
     "metadata": {},
     "output_type": "execute_result"
    }
   ],
   "source": [
    "dates = pd.date_range('20160101',periods=6)\n",
    "dates"
   ]
  },
  {
   "cell_type": "code",
   "execution_count": 4,
   "metadata": {
    "collapsed": false,
    "deletable": true,
    "editable": true
   },
   "outputs": [
    {
     "data": {
      "text/html": [
       "<div>\n",
       "<table border=\"1\" class=\"dataframe\">\n",
       "  <thead>\n",
       "    <tr style=\"text-align: right;\">\n",
       "      <th></th>\n",
       "      <th>A</th>\n",
       "      <th>B</th>\n",
       "      <th>C</th>\n",
       "      <th>D</th>\n",
       "    </tr>\n",
       "  </thead>\n",
       "  <tbody>\n",
       "    <tr>\n",
       "      <th>2016-01-01</th>\n",
       "      <td>0.928369</td>\n",
       "      <td>0.333578</td>\n",
       "      <td>-0.105632</td>\n",
       "      <td>-0.712419</td>\n",
       "    </tr>\n",
       "    <tr>\n",
       "      <th>2016-01-02</th>\n",
       "      <td>-0.523376</td>\n",
       "      <td>-0.150959</td>\n",
       "      <td>0.178486</td>\n",
       "      <td>-0.178268</td>\n",
       "    </tr>\n",
       "    <tr>\n",
       "      <th>2016-01-03</th>\n",
       "      <td>-0.541057</td>\n",
       "      <td>-0.397324</td>\n",
       "      <td>-2.580032</td>\n",
       "      <td>-0.778315</td>\n",
       "    </tr>\n",
       "    <tr>\n",
       "      <th>2016-01-04</th>\n",
       "      <td>1.282084</td>\n",
       "      <td>-0.205098</td>\n",
       "      <td>-0.665331</td>\n",
       "      <td>-0.686336</td>\n",
       "    </tr>\n",
       "    <tr>\n",
       "      <th>2016-01-05</th>\n",
       "      <td>-1.279960</td>\n",
       "      <td>0.279432</td>\n",
       "      <td>1.300774</td>\n",
       "      <td>-0.698074</td>\n",
       "    </tr>\n",
       "    <tr>\n",
       "      <th>2016-01-06</th>\n",
       "      <td>0.669912</td>\n",
       "      <td>0.172428</td>\n",
       "      <td>0.980341</td>\n",
       "      <td>1.248861</td>\n",
       "    </tr>\n",
       "  </tbody>\n",
       "</table>\n",
       "</div>"
      ],
      "text/plain": [
       "                   A         B         C         D\n",
       "2016-01-01  0.928369  0.333578 -0.105632 -0.712419\n",
       "2016-01-02 -0.523376 -0.150959  0.178486 -0.178268\n",
       "2016-01-03 -0.541057 -0.397324 -2.580032 -0.778315\n",
       "2016-01-04  1.282084 -0.205098 -0.665331 -0.686336\n",
       "2016-01-05 -1.279960  0.279432  1.300774 -0.698074\n",
       "2016-01-06  0.669912  0.172428  0.980341  1.248861"
      ]
     },
     "execution_count": 4,
     "metadata": {},
     "output_type": "execute_result"
    }
   ],
   "source": [
    "df = pd.DataFrame(np.random.randn(6,4),index=dates,columns=list('ABCD'))\n",
    "df"
   ]
  },
  {
   "cell_type": "markdown",
   "metadata": {
    "deletable": true,
    "editable": true
   },
   "source": [
    "通过传递一个dictionary来创建一个**DataFrame**:"
   ]
  },
  {
   "cell_type": "code",
   "execution_count": 5,
   "metadata": {
    "collapsed": false,
    "deletable": true,
    "editable": true
   },
   "outputs": [
    {
     "data": {
      "text/html": [
       "<div>\n",
       "<table border=\"1\" class=\"dataframe\">\n",
       "  <thead>\n",
       "    <tr style=\"text-align: right;\">\n",
       "      <th></th>\n",
       "      <th>A</th>\n",
       "      <th>B</th>\n",
       "      <th>C</th>\n",
       "      <th>D</th>\n",
       "      <th>E</th>\n",
       "      <th>F</th>\n",
       "    </tr>\n",
       "  </thead>\n",
       "  <tbody>\n",
       "    <tr>\n",
       "      <th>0</th>\n",
       "      <td>1.0</td>\n",
       "      <td>2016-01-02</td>\n",
       "      <td>1.0</td>\n",
       "      <td>3</td>\n",
       "      <td>test</td>\n",
       "      <td>foo</td>\n",
       "    </tr>\n",
       "    <tr>\n",
       "      <th>1</th>\n",
       "      <td>1.0</td>\n",
       "      <td>2016-01-02</td>\n",
       "      <td>1.0</td>\n",
       "      <td>3</td>\n",
       "      <td>train</td>\n",
       "      <td>foo</td>\n",
       "    </tr>\n",
       "    <tr>\n",
       "      <th>2</th>\n",
       "      <td>1.0</td>\n",
       "      <td>2016-01-02</td>\n",
       "      <td>1.0</td>\n",
       "      <td>3</td>\n",
       "      <td>test</td>\n",
       "      <td>foo</td>\n",
       "    </tr>\n",
       "    <tr>\n",
       "      <th>3</th>\n",
       "      <td>1.0</td>\n",
       "      <td>2016-01-02</td>\n",
       "      <td>1.0</td>\n",
       "      <td>3</td>\n",
       "      <td>train</td>\n",
       "      <td>foo</td>\n",
       "    </tr>\n",
       "  </tbody>\n",
       "</table>\n",
       "</div>"
      ],
      "text/plain": [
       "     A          B    C  D      E    F\n",
       "0  1.0 2016-01-02  1.0  3   test  foo\n",
       "1  1.0 2016-01-02  1.0  3  train  foo\n",
       "2  1.0 2016-01-02  1.0  3   test  foo\n",
       "3  1.0 2016-01-02  1.0  3  train  foo"
      ]
     },
     "execution_count": 5,
     "metadata": {},
     "output_type": "execute_result"
    }
   ],
   "source": [
    "df2 = pd.DataFrame({ 'A' : 1.,\n",
    "                     'B' : pd.Timestamp('20160102'),\n",
    "                     'C' : pd.Series(1,index=list(range(4)),dtype='float32'),\n",
    "                     'D' : np.array([3]*4,dtype='int32'),\n",
    "                     'E' : pd.Categorical([\"test\",\"train\",\"test\",\"train\"]),\n",
    "                     'F' : 'foo' })\n",
    "df2"
   ]
  },
  {
   "cell_type": "markdown",
   "metadata": {
    "deletable": true,
    "editable": true
   },
   "source": [
    "查看每一列的数据类型："
   ]
  },
  {
   "cell_type": "code",
   "execution_count": 6,
   "metadata": {
    "collapsed": false,
    "deletable": true,
    "editable": true
   },
   "outputs": [
    {
     "data": {
      "text/plain": [
       "A           float64\n",
       "B    datetime64[ns]\n",
       "C           float32\n",
       "D             int32\n",
       "E          category\n",
       "F            object\n",
       "dtype: object"
      ]
     },
     "execution_count": 6,
     "metadata": {},
     "output_type": "execute_result"
    }
   ],
   "source": [
    "df2.dtypes"
   ]
  },
  {
   "cell_type": "markdown",
   "metadata": {
    "deletable": true,
    "editable": true
   },
   "source": [
    "## 查看数据\n",
    "\n",
    "查看DataFrame中前几行和最后几行："
   ]
  },
  {
   "cell_type": "code",
   "execution_count": 7,
   "metadata": {
    "collapsed": false,
    "deletable": true,
    "editable": true
   },
   "outputs": [
    {
     "data": {
      "text/html": [
       "<div>\n",
       "<table border=\"1\" class=\"dataframe\">\n",
       "  <thead>\n",
       "    <tr style=\"text-align: right;\">\n",
       "      <th></th>\n",
       "      <th>A</th>\n",
       "      <th>B</th>\n",
       "      <th>C</th>\n",
       "      <th>D</th>\n",
       "    </tr>\n",
       "  </thead>\n",
       "  <tbody>\n",
       "    <tr>\n",
       "      <th>2016-01-01</th>\n",
       "      <td>0.928369</td>\n",
       "      <td>0.333578</td>\n",
       "      <td>-0.105632</td>\n",
       "      <td>-0.712419</td>\n",
       "    </tr>\n",
       "    <tr>\n",
       "      <th>2016-01-02</th>\n",
       "      <td>-0.523376</td>\n",
       "      <td>-0.150959</td>\n",
       "      <td>0.178486</td>\n",
       "      <td>-0.178268</td>\n",
       "    </tr>\n",
       "    <tr>\n",
       "      <th>2016-01-03</th>\n",
       "      <td>-0.541057</td>\n",
       "      <td>-0.397324</td>\n",
       "      <td>-2.580032</td>\n",
       "      <td>-0.778315</td>\n",
       "    </tr>\n",
       "    <tr>\n",
       "      <th>2016-01-04</th>\n",
       "      <td>1.282084</td>\n",
       "      <td>-0.205098</td>\n",
       "      <td>-0.665331</td>\n",
       "      <td>-0.686336</td>\n",
       "    </tr>\n",
       "    <tr>\n",
       "      <th>2016-01-05</th>\n",
       "      <td>-1.279960</td>\n",
       "      <td>0.279432</td>\n",
       "      <td>1.300774</td>\n",
       "      <td>-0.698074</td>\n",
       "    </tr>\n",
       "  </tbody>\n",
       "</table>\n",
       "</div>"
      ],
      "text/plain": [
       "                   A         B         C         D\n",
       "2016-01-01  0.928369  0.333578 -0.105632 -0.712419\n",
       "2016-01-02 -0.523376 -0.150959  0.178486 -0.178268\n",
       "2016-01-03 -0.541057 -0.397324 -2.580032 -0.778315\n",
       "2016-01-04  1.282084 -0.205098 -0.665331 -0.686336\n",
       "2016-01-05 -1.279960  0.279432  1.300774 -0.698074"
      ]
     },
     "execution_count": 7,
     "metadata": {},
     "output_type": "execute_result"
    }
   ],
   "source": [
    "df.head()"
   ]
  },
  {
   "cell_type": "code",
   "execution_count": 8,
   "metadata": {
    "collapsed": false,
    "deletable": true,
    "editable": true
   },
   "outputs": [
    {
     "data": {
      "text/html": [
       "<div>\n",
       "<table border=\"1\" class=\"dataframe\">\n",
       "  <thead>\n",
       "    <tr style=\"text-align: right;\">\n",
       "      <th></th>\n",
       "      <th>A</th>\n",
       "      <th>B</th>\n",
       "      <th>C</th>\n",
       "      <th>D</th>\n",
       "    </tr>\n",
       "  </thead>\n",
       "  <tbody>\n",
       "    <tr>\n",
       "      <th>2016-01-04</th>\n",
       "      <td>1.282084</td>\n",
       "      <td>-0.205098</td>\n",
       "      <td>-0.665331</td>\n",
       "      <td>-0.686336</td>\n",
       "    </tr>\n",
       "    <tr>\n",
       "      <th>2016-01-05</th>\n",
       "      <td>-1.279960</td>\n",
       "      <td>0.279432</td>\n",
       "      <td>1.300774</td>\n",
       "      <td>-0.698074</td>\n",
       "    </tr>\n",
       "    <tr>\n",
       "      <th>2016-01-06</th>\n",
       "      <td>0.669912</td>\n",
       "      <td>0.172428</td>\n",
       "      <td>0.980341</td>\n",
       "      <td>1.248861</td>\n",
       "    </tr>\n",
       "  </tbody>\n",
       "</table>\n",
       "</div>"
      ],
      "text/plain": [
       "                   A         B         C         D\n",
       "2016-01-04  1.282084 -0.205098 -0.665331 -0.686336\n",
       "2016-01-05 -1.279960  0.279432  1.300774 -0.698074\n",
       "2016-01-06  0.669912  0.172428  0.980341  1.248861"
      ]
     },
     "execution_count": 8,
     "metadata": {},
     "output_type": "execute_result"
    }
   ],
   "source": [
    "df.tail(3)"
   ]
  },
  {
   "cell_type": "markdown",
   "metadata": {
    "deletable": true,
    "editable": true
   },
   "source": [
    "显示index，columns以及底层的numpy数据："
   ]
  },
  {
   "cell_type": "code",
   "execution_count": 9,
   "metadata": {
    "collapsed": false,
    "deletable": true,
    "editable": true
   },
   "outputs": [
    {
     "data": {
      "text/plain": [
       "DatetimeIndex(['2016-01-01', '2016-01-02', '2016-01-03', '2016-01-04',\n",
       "               '2016-01-05', '2016-01-06'],\n",
       "              dtype='datetime64[ns]', freq='D')"
      ]
     },
     "execution_count": 9,
     "metadata": {},
     "output_type": "execute_result"
    }
   ],
   "source": [
    "df.index"
   ]
  },
  {
   "cell_type": "code",
   "execution_count": 10,
   "metadata": {
    "collapsed": false,
    "deletable": true,
    "editable": true
   },
   "outputs": [
    {
     "data": {
      "text/plain": [
       "Index([u'A', u'B', u'C', u'D'], dtype='object')"
      ]
     },
     "execution_count": 10,
     "metadata": {},
     "output_type": "execute_result"
    }
   ],
   "source": [
    "df.columns"
   ]
  },
  {
   "cell_type": "code",
   "execution_count": 11,
   "metadata": {
    "collapsed": false,
    "deletable": true,
    "editable": true
   },
   "outputs": [
    {
     "data": {
      "text/plain": [
       "array([[ 0.92836868,  0.33357795, -0.10563178, -0.71241949],\n",
       "       [-0.5233758 , -0.15095921,  0.17848586, -0.17826755],\n",
       "       [-0.54105741, -0.39732389, -2.58003191, -0.77831501],\n",
       "       [ 1.28208414, -0.20509759, -0.66533112, -0.68633603],\n",
       "       [-1.27995972,  0.27943192,  1.3007739 , -0.69807398],\n",
       "       [ 0.66991176,  0.17242801,  0.98034059,  1.24886146]])"
      ]
     },
     "execution_count": 11,
     "metadata": {},
     "output_type": "execute_result"
    }
   ],
   "source": [
    "df.values"
   ]
  },
  {
   "cell_type": "markdown",
   "metadata": {
    "deletable": true,
    "editable": true
   },
   "source": [
    "describe()方法能对数据做一个快速统计汇总:"
   ]
  },
  {
   "cell_type": "code",
   "execution_count": 12,
   "metadata": {
    "collapsed": false,
    "deletable": true,
    "editable": true
   },
   "outputs": [
    {
     "data": {
      "text/html": [
       "<div>\n",
       "<table border=\"1\" class=\"dataframe\">\n",
       "  <thead>\n",
       "    <tr style=\"text-align: right;\">\n",
       "      <th></th>\n",
       "      <th>A</th>\n",
       "      <th>B</th>\n",
       "      <th>C</th>\n",
       "      <th>D</th>\n",
       "    </tr>\n",
       "  </thead>\n",
       "  <tbody>\n",
       "    <tr>\n",
       "      <th>count</th>\n",
       "      <td>6.000000</td>\n",
       "      <td>6.000000</td>\n",
       "      <td>6.000000</td>\n",
       "      <td>6.000000</td>\n",
       "    </tr>\n",
       "    <tr>\n",
       "      <th>mean</th>\n",
       "      <td>0.089329</td>\n",
       "      <td>0.005343</td>\n",
       "      <td>-0.148566</td>\n",
       "      <td>-0.300758</td>\n",
       "    </tr>\n",
       "    <tr>\n",
       "      <th>std</th>\n",
       "      <td>1.011086</td>\n",
       "      <td>0.297199</td>\n",
       "      <td>1.390172</td>\n",
       "      <td>0.789985</td>\n",
       "    </tr>\n",
       "    <tr>\n",
       "      <th>min</th>\n",
       "      <td>-1.279960</td>\n",
       "      <td>-0.397324</td>\n",
       "      <td>-2.580032</td>\n",
       "      <td>-0.778315</td>\n",
       "    </tr>\n",
       "    <tr>\n",
       "      <th>25%</th>\n",
       "      <td>-0.536637</td>\n",
       "      <td>-0.191563</td>\n",
       "      <td>-0.525406</td>\n",
       "      <td>-0.708833</td>\n",
       "    </tr>\n",
       "    <tr>\n",
       "      <th>50%</th>\n",
       "      <td>0.073268</td>\n",
       "      <td>0.010734</td>\n",
       "      <td>0.036427</td>\n",
       "      <td>-0.692205</td>\n",
       "    </tr>\n",
       "    <tr>\n",
       "      <th>75%</th>\n",
       "      <td>0.863754</td>\n",
       "      <td>0.252681</td>\n",
       "      <td>0.779877</td>\n",
       "      <td>-0.305285</td>\n",
       "    </tr>\n",
       "    <tr>\n",
       "      <th>max</th>\n",
       "      <td>1.282084</td>\n",
       "      <td>0.333578</td>\n",
       "      <td>1.300774</td>\n",
       "      <td>1.248861</td>\n",
       "    </tr>\n",
       "  </tbody>\n",
       "</table>\n",
       "</div>"
      ],
      "text/plain": [
       "              A         B         C         D\n",
       "count  6.000000  6.000000  6.000000  6.000000\n",
       "mean   0.089329  0.005343 -0.148566 -0.300758\n",
       "std    1.011086  0.297199  1.390172  0.789985\n",
       "min   -1.279960 -0.397324 -2.580032 -0.778315\n",
       "25%   -0.536637 -0.191563 -0.525406 -0.708833\n",
       "50%    0.073268  0.010734  0.036427 -0.692205\n",
       "75%    0.863754  0.252681  0.779877 -0.305285\n",
       "max    1.282084  0.333578  1.300774  1.248861"
      ]
     },
     "execution_count": 12,
     "metadata": {},
     "output_type": "execute_result"
    }
   ],
   "source": [
    "df.describe()"
   ]
  },
  {
   "cell_type": "markdown",
   "metadata": {
    "deletable": true,
    "editable": true
   },
   "source": [
    "对数据进行转置："
   ]
  },
  {
   "cell_type": "code",
   "execution_count": 13,
   "metadata": {
    "collapsed": false,
    "deletable": true,
    "editable": true
   },
   "outputs": [
    {
     "data": {
      "text/html": [
       "<div>\n",
       "<table border=\"1\" class=\"dataframe\">\n",
       "  <thead>\n",
       "    <tr style=\"text-align: right;\">\n",
       "      <th></th>\n",
       "      <th>2016-01-01 00:00:00</th>\n",
       "      <th>2016-01-02 00:00:00</th>\n",
       "      <th>2016-01-03 00:00:00</th>\n",
       "      <th>2016-01-04 00:00:00</th>\n",
       "      <th>2016-01-05 00:00:00</th>\n",
       "      <th>2016-01-06 00:00:00</th>\n",
       "    </tr>\n",
       "  </thead>\n",
       "  <tbody>\n",
       "    <tr>\n",
       "      <th>A</th>\n",
       "      <td>0.928369</td>\n",
       "      <td>-0.523376</td>\n",
       "      <td>-0.541057</td>\n",
       "      <td>1.282084</td>\n",
       "      <td>-1.279960</td>\n",
       "      <td>0.669912</td>\n",
       "    </tr>\n",
       "    <tr>\n",
       "      <th>B</th>\n",
       "      <td>0.333578</td>\n",
       "      <td>-0.150959</td>\n",
       "      <td>-0.397324</td>\n",
       "      <td>-0.205098</td>\n",
       "      <td>0.279432</td>\n",
       "      <td>0.172428</td>\n",
       "    </tr>\n",
       "    <tr>\n",
       "      <th>C</th>\n",
       "      <td>-0.105632</td>\n",
       "      <td>0.178486</td>\n",
       "      <td>-2.580032</td>\n",
       "      <td>-0.665331</td>\n",
       "      <td>1.300774</td>\n",
       "      <td>0.980341</td>\n",
       "    </tr>\n",
       "    <tr>\n",
       "      <th>D</th>\n",
       "      <td>-0.712419</td>\n",
       "      <td>-0.178268</td>\n",
       "      <td>-0.778315</td>\n",
       "      <td>-0.686336</td>\n",
       "      <td>-0.698074</td>\n",
       "      <td>1.248861</td>\n",
       "    </tr>\n",
       "  </tbody>\n",
       "</table>\n",
       "</div>"
      ],
      "text/plain": [
       "   2016-01-01  2016-01-02  2016-01-03  2016-01-04  2016-01-05  2016-01-06\n",
       "A    0.928369   -0.523376   -0.541057    1.282084   -1.279960    0.669912\n",
       "B    0.333578   -0.150959   -0.397324   -0.205098    0.279432    0.172428\n",
       "C   -0.105632    0.178486   -2.580032   -0.665331    1.300774    0.980341\n",
       "D   -0.712419   -0.178268   -0.778315   -0.686336   -0.698074    1.248861"
      ]
     },
     "execution_count": 13,
     "metadata": {},
     "output_type": "execute_result"
    }
   ],
   "source": [
    "df.T"
   ]
  },
  {
   "cell_type": "markdown",
   "metadata": {
    "deletable": true,
    "editable": true
   },
   "source": [
    "按某一坐标轴进行排序："
   ]
  },
  {
   "cell_type": "code",
   "execution_count": 14,
   "metadata": {
    "collapsed": false,
    "deletable": true,
    "editable": true
   },
   "outputs": [
    {
     "data": {
      "text/html": [
       "<div>\n",
       "<table border=\"1\" class=\"dataframe\">\n",
       "  <thead>\n",
       "    <tr style=\"text-align: right;\">\n",
       "      <th></th>\n",
       "      <th>D</th>\n",
       "      <th>C</th>\n",
       "      <th>B</th>\n",
       "      <th>A</th>\n",
       "    </tr>\n",
       "  </thead>\n",
       "  <tbody>\n",
       "    <tr>\n",
       "      <th>2016-01-01</th>\n",
       "      <td>-0.712419</td>\n",
       "      <td>-0.105632</td>\n",
       "      <td>0.333578</td>\n",
       "      <td>0.928369</td>\n",
       "    </tr>\n",
       "    <tr>\n",
       "      <th>2016-01-02</th>\n",
       "      <td>-0.178268</td>\n",
       "      <td>0.178486</td>\n",
       "      <td>-0.150959</td>\n",
       "      <td>-0.523376</td>\n",
       "    </tr>\n",
       "    <tr>\n",
       "      <th>2016-01-03</th>\n",
       "      <td>-0.778315</td>\n",
       "      <td>-2.580032</td>\n",
       "      <td>-0.397324</td>\n",
       "      <td>-0.541057</td>\n",
       "    </tr>\n",
       "    <tr>\n",
       "      <th>2016-01-04</th>\n",
       "      <td>-0.686336</td>\n",
       "      <td>-0.665331</td>\n",
       "      <td>-0.205098</td>\n",
       "      <td>1.282084</td>\n",
       "    </tr>\n",
       "    <tr>\n",
       "      <th>2016-01-05</th>\n",
       "      <td>-0.698074</td>\n",
       "      <td>1.300774</td>\n",
       "      <td>0.279432</td>\n",
       "      <td>-1.279960</td>\n",
       "    </tr>\n",
       "    <tr>\n",
       "      <th>2016-01-06</th>\n",
       "      <td>1.248861</td>\n",
       "      <td>0.980341</td>\n",
       "      <td>0.172428</td>\n",
       "      <td>0.669912</td>\n",
       "    </tr>\n",
       "  </tbody>\n",
       "</table>\n",
       "</div>"
      ],
      "text/plain": [
       "                   D         C         B         A\n",
       "2016-01-01 -0.712419 -0.105632  0.333578  0.928369\n",
       "2016-01-02 -0.178268  0.178486 -0.150959 -0.523376\n",
       "2016-01-03 -0.778315 -2.580032 -0.397324 -0.541057\n",
       "2016-01-04 -0.686336 -0.665331 -0.205098  1.282084\n",
       "2016-01-05 -0.698074  1.300774  0.279432 -1.279960\n",
       "2016-01-06  1.248861  0.980341  0.172428  0.669912"
      ]
     },
     "execution_count": 14,
     "metadata": {},
     "output_type": "execute_result"
    }
   ],
   "source": [
    "df.sort_index(axis=1,ascending=False)"
   ]
  },
  {
   "cell_type": "markdown",
   "metadata": {
    "deletable": true,
    "editable": true
   },
   "source": [
    "按值进行排序："
   ]
  },
  {
   "cell_type": "code",
   "execution_count": 15,
   "metadata": {
    "collapsed": false,
    "deletable": true,
    "editable": true
   },
   "outputs": [
    {
     "data": {
      "text/html": [
       "<div>\n",
       "<table border=\"1\" class=\"dataframe\">\n",
       "  <thead>\n",
       "    <tr style=\"text-align: right;\">\n",
       "      <th></th>\n",
       "      <th>A</th>\n",
       "      <th>B</th>\n",
       "      <th>C</th>\n",
       "      <th>D</th>\n",
       "    </tr>\n",
       "  </thead>\n",
       "  <tbody>\n",
       "    <tr>\n",
       "      <th>2016-01-03</th>\n",
       "      <td>-0.541057</td>\n",
       "      <td>-0.397324</td>\n",
       "      <td>-2.580032</td>\n",
       "      <td>-0.778315</td>\n",
       "    </tr>\n",
       "    <tr>\n",
       "      <th>2016-01-04</th>\n",
       "      <td>1.282084</td>\n",
       "      <td>-0.205098</td>\n",
       "      <td>-0.665331</td>\n",
       "      <td>-0.686336</td>\n",
       "    </tr>\n",
       "    <tr>\n",
       "      <th>2016-01-02</th>\n",
       "      <td>-0.523376</td>\n",
       "      <td>-0.150959</td>\n",
       "      <td>0.178486</td>\n",
       "      <td>-0.178268</td>\n",
       "    </tr>\n",
       "    <tr>\n",
       "      <th>2016-01-06</th>\n",
       "      <td>0.669912</td>\n",
       "      <td>0.172428</td>\n",
       "      <td>0.980341</td>\n",
       "      <td>1.248861</td>\n",
       "    </tr>\n",
       "    <tr>\n",
       "      <th>2016-01-05</th>\n",
       "      <td>-1.279960</td>\n",
       "      <td>0.279432</td>\n",
       "      <td>1.300774</td>\n",
       "      <td>-0.698074</td>\n",
       "    </tr>\n",
       "    <tr>\n",
       "      <th>2016-01-01</th>\n",
       "      <td>0.928369</td>\n",
       "      <td>0.333578</td>\n",
       "      <td>-0.105632</td>\n",
       "      <td>-0.712419</td>\n",
       "    </tr>\n",
       "  </tbody>\n",
       "</table>\n",
       "</div>"
      ],
      "text/plain": [
       "                   A         B         C         D\n",
       "2016-01-03 -0.541057 -0.397324 -2.580032 -0.778315\n",
       "2016-01-04  1.282084 -0.205098 -0.665331 -0.686336\n",
       "2016-01-02 -0.523376 -0.150959  0.178486 -0.178268\n",
       "2016-01-06  0.669912  0.172428  0.980341  1.248861\n",
       "2016-01-05 -1.279960  0.279432  1.300774 -0.698074\n",
       "2016-01-01  0.928369  0.333578 -0.105632 -0.712419"
      ]
     },
     "execution_count": 15,
     "metadata": {},
     "output_type": "execute_result"
    }
   ],
   "source": [
    "df.sort_values(by='B')"
   ]
  },
  {
   "cell_type": "markdown",
   "metadata": {
    "deletable": true,
    "editable": true
   },
   "source": [
    "## 数据选择\n",
    "\n",
    "注意：虽然标准的Python/Numpy的表达式能完成选择与赋值等功能，但我们仍推荐使用优化过的pandas数据访问方法：.at，.iat，.loc，.iloc和.ix\n",
    "\n",
    "### 选取\n",
    "\n",
    "选择某一列数据，它会返回一个Series，等同于df.A："
   ]
  },
  {
   "cell_type": "code",
   "execution_count": 16,
   "metadata": {
    "collapsed": false,
    "deletable": true,
    "editable": true
   },
   "outputs": [
    {
     "data": {
      "text/plain": [
       "2016-01-01    0.928369\n",
       "2016-01-02   -0.523376\n",
       "2016-01-03   -0.541057\n",
       "2016-01-04    1.282084\n",
       "2016-01-05   -1.279960\n",
       "2016-01-06    0.669912\n",
       "Freq: D, Name: A, dtype: float64"
      ]
     },
     "execution_count": 16,
     "metadata": {},
     "output_type": "execute_result"
    }
   ],
   "source": [
    "df['A']"
   ]
  },
  {
   "cell_type": "markdown",
   "metadata": {
    "deletable": true,
    "editable": true
   },
   "source": [
    "使用[]，对行进行切片选取。\n",
    "\n",
    "**注意**，[]内必须是一个范围，而不能仅仅是一个值。否则报错："
   ]
  },
  {
   "cell_type": "code",
   "execution_count": 24,
   "metadata": {
    "collapsed": false,
    "deletable": true,
    "editable": true
   },
   "outputs": [
    {
     "data": {
      "text/html": [
       "<div>\n",
       "<table border=\"1\" class=\"dataframe\">\n",
       "  <thead>\n",
       "    <tr style=\"text-align: right;\">\n",
       "      <th></th>\n",
       "      <th>A</th>\n",
       "      <th>B</th>\n",
       "      <th>C</th>\n",
       "      <th>D</th>\n",
       "    </tr>\n",
       "  </thead>\n",
       "  <tbody>\n",
       "    <tr>\n",
       "      <th>2016-01-01</th>\n",
       "      <td>0.928369</td>\n",
       "      <td>0.333578</td>\n",
       "      <td>-0.105632</td>\n",
       "      <td>-0.712419</td>\n",
       "    </tr>\n",
       "    <tr>\n",
       "      <th>2016-01-02</th>\n",
       "      <td>-0.523376</td>\n",
       "      <td>-0.150959</td>\n",
       "      <td>0.178486</td>\n",
       "      <td>-0.178268</td>\n",
       "    </tr>\n",
       "    <tr>\n",
       "      <th>2016-01-03</th>\n",
       "      <td>-0.541057</td>\n",
       "      <td>-0.397324</td>\n",
       "      <td>-2.580032</td>\n",
       "      <td>-0.778315</td>\n",
       "    </tr>\n",
       "  </tbody>\n",
       "</table>\n",
       "</div>"
      ],
      "text/plain": [
       "                   A         B         C         D\n",
       "2016-01-01  0.928369  0.333578 -0.105632 -0.712419\n",
       "2016-01-02 -0.523376 -0.150959  0.178486 -0.178268\n",
       "2016-01-03 -0.541057 -0.397324 -2.580032 -0.778315"
      ]
     },
     "execution_count": 24,
     "metadata": {},
     "output_type": "execute_result"
    }
   ],
   "source": [
    "df[0:3] # 选取范围是[)，前闭合，后开"
   ]
  },
  {
   "cell_type": "code",
   "execution_count": 25,
   "metadata": {
    "collapsed": false,
    "deletable": true,
    "editable": true
   },
   "outputs": [
    {
     "data": {
      "text/html": [
       "<div>\n",
       "<table border=\"1\" class=\"dataframe\">\n",
       "  <thead>\n",
       "    <tr style=\"text-align: right;\">\n",
       "      <th></th>\n",
       "      <th>A</th>\n",
       "      <th>B</th>\n",
       "      <th>C</th>\n",
       "      <th>D</th>\n",
       "    </tr>\n",
       "  </thead>\n",
       "  <tbody>\n",
       "    <tr>\n",
       "      <th>2016-01-02</th>\n",
       "      <td>-0.523376</td>\n",
       "      <td>-0.150959</td>\n",
       "      <td>0.178486</td>\n",
       "      <td>-0.178268</td>\n",
       "    </tr>\n",
       "    <tr>\n",
       "      <th>2016-01-03</th>\n",
       "      <td>-0.541057</td>\n",
       "      <td>-0.397324</td>\n",
       "      <td>-2.580032</td>\n",
       "      <td>-0.778315</td>\n",
       "    </tr>\n",
       "    <tr>\n",
       "      <th>2016-01-04</th>\n",
       "      <td>1.282084</td>\n",
       "      <td>-0.205098</td>\n",
       "      <td>-0.665331</td>\n",
       "      <td>-0.686336</td>\n",
       "    </tr>\n",
       "  </tbody>\n",
       "</table>\n",
       "</div>"
      ],
      "text/plain": [
       "                   A         B         C         D\n",
       "2016-01-02 -0.523376 -0.150959  0.178486 -0.178268\n",
       "2016-01-03 -0.541057 -0.397324 -2.580032 -0.778315\n",
       "2016-01-04  1.282084 -0.205098 -0.665331 -0.686336"
      ]
     },
     "execution_count": 25,
     "metadata": {},
     "output_type": "execute_result"
    }
   ],
   "source": [
    "df['20160102':'20160104'] # 选取范围是[], 前闭合，后闭合"
   ]
  },
  {
   "cell_type": "code",
   "execution_count": 40,
   "metadata": {
    "collapsed": false,
    "deletable": true,
    "editable": true
   },
   "outputs": [],
   "source": [
    "# []内必须是一个范围，而不能仅仅是一个值。否则报错\n",
    "\n",
    "# df[1]  # 报错\n",
    "\n",
    "# df['20160102'] # 报错\n",
    "# df[dates[0]] # 报错"
   ]
  },
  {
   "cell_type": "markdown",
   "metadata": {
    "deletable": true,
    "editable": true
   },
   "source": [
    "### 通过label选取\n",
    "\n",
    "**Series的label就是index。DataFrame的label包括index和columns**。\n",
    "\n",
    "通过label选取比使用整形下标选取直观的多。方法很简单，调用.loc[], .loc[]内可以是一个label值，也可以是一个label取值范围。注意切片范围是前后闭合。\n",
    "\n",
    "通过label进行交叉选取："
   ]
  },
  {
   "cell_type": "code",
   "execution_count": 19,
   "metadata": {
    "collapsed": false,
    "deletable": true,
    "editable": true
   },
   "outputs": [
    {
     "data": {
      "text/plain": [
       "A    0.928369\n",
       "B    0.333578\n",
       "C   -0.105632\n",
       "D   -0.712419\n",
       "Name: 2016-01-01 00:00:00, dtype: float64"
      ]
     },
     "execution_count": 19,
     "metadata": {},
     "output_type": "execute_result"
    }
   ],
   "source": [
    "df.loc[dates[0]]"
   ]
  },
  {
   "cell_type": "markdown",
   "metadata": {
    "deletable": true,
    "editable": true
   },
   "source": [
    "使用label对多个轴进行选取："
   ]
  },
  {
   "cell_type": "code",
   "execution_count": 32,
   "metadata": {
    "collapsed": false,
    "deletable": true,
    "editable": true
   },
   "outputs": [
    {
     "data": {
      "text/html": [
       "<div>\n",
       "<table border=\"1\" class=\"dataframe\">\n",
       "  <thead>\n",
       "    <tr style=\"text-align: right;\">\n",
       "      <th></th>\n",
       "      <th>A</th>\n",
       "      <th>B</th>\n",
       "    </tr>\n",
       "  </thead>\n",
       "  <tbody>\n",
       "    <tr>\n",
       "      <th>2016-01-01</th>\n",
       "      <td>0.928369</td>\n",
       "      <td>0.333578</td>\n",
       "    </tr>\n",
       "    <tr>\n",
       "      <th>2016-01-02</th>\n",
       "      <td>-0.523376</td>\n",
       "      <td>-0.150959</td>\n",
       "    </tr>\n",
       "    <tr>\n",
       "      <th>2016-01-03</th>\n",
       "      <td>-0.541057</td>\n",
       "      <td>-0.397324</td>\n",
       "    </tr>\n",
       "    <tr>\n",
       "      <th>2016-01-04</th>\n",
       "      <td>1.282084</td>\n",
       "      <td>-0.205098</td>\n",
       "    </tr>\n",
       "    <tr>\n",
       "      <th>2016-01-05</th>\n",
       "      <td>-1.279960</td>\n",
       "      <td>0.279432</td>\n",
       "    </tr>\n",
       "    <tr>\n",
       "      <th>2016-01-06</th>\n",
       "      <td>0.669912</td>\n",
       "      <td>0.172428</td>\n",
       "    </tr>\n",
       "  </tbody>\n",
       "</table>\n",
       "</div>"
      ],
      "text/plain": [
       "                   A         B\n",
       "2016-01-01  0.928369  0.333578\n",
       "2016-01-02 -0.523376 -0.150959\n",
       "2016-01-03 -0.541057 -0.397324\n",
       "2016-01-04  1.282084 -0.205098\n",
       "2016-01-05 -1.279960  0.279432\n",
       "2016-01-06  0.669912  0.172428"
      ]
     },
     "execution_count": 32,
     "metadata": {},
     "output_type": "execute_result"
    }
   ],
   "source": [
    "df.loc[:, ['A', 'B']]"
   ]
  },
  {
   "cell_type": "markdown",
   "metadata": {
    "deletable": true,
    "editable": true
   },
   "source": [
    "根据label进行切片选择，注意切片范围是前后闭合："
   ]
  },
  {
   "cell_type": "code",
   "execution_count": 34,
   "metadata": {
    "collapsed": false,
    "deletable": true,
    "editable": true
   },
   "outputs": [
    {
     "data": {
      "text/html": [
       "<div>\n",
       "<table border=\"1\" class=\"dataframe\">\n",
       "  <thead>\n",
       "    <tr style=\"text-align: right;\">\n",
       "      <th></th>\n",
       "      <th>A</th>\n",
       "      <th>B</th>\n",
       "    </tr>\n",
       "  </thead>\n",
       "  <tbody>\n",
       "    <tr>\n",
       "      <th>2016-01-02</th>\n",
       "      <td>-0.523376</td>\n",
       "      <td>-0.150959</td>\n",
       "    </tr>\n",
       "    <tr>\n",
       "      <th>2016-01-03</th>\n",
       "      <td>-0.541057</td>\n",
       "      <td>-0.397324</td>\n",
       "    </tr>\n",
       "    <tr>\n",
       "      <th>2016-01-04</th>\n",
       "      <td>1.282084</td>\n",
       "      <td>-0.205098</td>\n",
       "    </tr>\n",
       "  </tbody>\n",
       "</table>\n",
       "</div>"
      ],
      "text/plain": [
       "                   A         B\n",
       "2016-01-02 -0.523376 -0.150959\n",
       "2016-01-03 -0.541057 -0.397324\n",
       "2016-01-04  1.282084 -0.205098"
      ]
     },
     "execution_count": 34,
     "metadata": {},
     "output_type": "execute_result"
    }
   ],
   "source": [
    "df.loc['20160102':'20160104',['A','B']]"
   ]
  },
  {
   "cell_type": "code",
   "execution_count": 36,
   "metadata": {
    "collapsed": false,
    "deletable": true,
    "editable": true
   },
   "outputs": [],
   "source": [
    "# .loc[] 内的值只能是label，如果传入整数下标，报错\n",
    "# df.loc[0:3, ['A','B']]"
   ]
  },
  {
   "cell_type": "code",
   "execution_count": 43,
   "metadata": {
    "collapsed": false,
    "deletable": true,
    "editable": true
   },
   "outputs": [
    {
     "data": {
      "text/plain": [
       "A   -0.523376\n",
       "B   -0.150959\n",
       "Name: 2016-01-02 00:00:00, dtype: float64"
      ]
     },
     "execution_count": 43,
     "metadata": {},
     "output_type": "execute_result"
    }
   ],
   "source": [
    "df.loc['20160102',['A','B']]"
   ]
  },
  {
   "cell_type": "markdown",
   "metadata": {
    "deletable": true,
    "editable": true
   },
   "source": [
    "获取一个标量值："
   ]
  },
  {
   "cell_type": "code",
   "execution_count": 44,
   "metadata": {
    "collapsed": false,
    "deletable": true,
    "editable": true
   },
   "outputs": [
    {
     "data": {
      "text/plain": [
       "0.9283686787182388"
      ]
     },
     "execution_count": 44,
     "metadata": {},
     "output_type": "execute_result"
    }
   ],
   "source": [
    "df.loc[dates[0],'A']"
   ]
  },
  {
   "cell_type": "code",
   "execution_count": 45,
   "metadata": {
    "collapsed": false,
    "deletable": true,
    "editable": true
   },
   "outputs": [
    {
     "data": {
      "text/plain": [
       "0.9283686787182388"
      ]
     },
     "execution_count": 45,
     "metadata": {},
     "output_type": "execute_result"
    }
   ],
   "source": [
    "df.loc['20160101', 'A']"
   ]
  },
  {
   "cell_type": "markdown",
   "metadata": {
    "deletable": true,
    "editable": true
   },
   "source": [
    "快速获取一个标量（与上面方法效果相同）"
   ]
  },
  {
   "cell_type": "code",
   "execution_count": 46,
   "metadata": {
    "collapsed": false,
    "deletable": true,
    "editable": true
   },
   "outputs": [
    {
     "data": {
      "text/plain": [
       "0.9283686787182388"
      ]
     },
     "execution_count": 46,
     "metadata": {},
     "output_type": "execute_result"
    }
   ],
   "source": [
    "df.at[dates[0],'A']"
   ]
  },
  {
   "cell_type": "markdown",
   "metadata": {
    "deletable": true,
    "editable": true
   },
   "source": [
    "### 通过下标选取\n",
    "\n",
    "下标(position), 是编程语言中的重要概念。\n",
    "\n",
    "pandas的数据结构也支持用下标进行检索。比如把DataFrame看做一个二维数组，用下标进行检索。\n",
    "\n",
    "用下标进行选取/检索的方法是调用 .iloc[]\n",
    "\n",
    ".loc[]内可以是一个整形下标值，也可以是一个下标取值范围（切片），甚至可以是一个list。注意，如果传入切片范围，范围是前闭合，后开的。\n"
   ]
  },
  {
   "cell_type": "markdown",
   "metadata": {
    "deletable": true,
    "editable": true
   },
   "source": [
    "传入单个整形下标："
   ]
  },
  {
   "cell_type": "code",
   "execution_count": 48,
   "metadata": {
    "collapsed": false,
    "deletable": true,
    "editable": true
   },
   "outputs": [
    {
     "data": {
      "text/plain": [
       "A    1.282084\n",
       "B   -0.205098\n",
       "C   -0.665331\n",
       "D   -0.686336\n",
       "Name: 2016-01-04 00:00:00, dtype: float64"
      ]
     },
     "execution_count": 48,
     "metadata": {},
     "output_type": "execute_result"
    }
   ],
   "source": [
    "df.iloc[3]"
   ]
  },
  {
   "cell_type": "markdown",
   "metadata": {
    "deletable": true,
    "editable": true
   },
   "source": [
    "传入整型的下标切片，与python/numpy形式相同"
   ]
  },
  {
   "cell_type": "code",
   "execution_count": 50,
   "metadata": {
    "collapsed": false,
    "deletable": true,
    "editable": true
   },
   "outputs": [
    {
     "data": {
      "text/html": [
       "<div>\n",
       "<table border=\"1\" class=\"dataframe\">\n",
       "  <thead>\n",
       "    <tr style=\"text-align: right;\">\n",
       "      <th></th>\n",
       "      <th>A</th>\n",
       "      <th>B</th>\n",
       "    </tr>\n",
       "  </thead>\n",
       "  <tbody>\n",
       "    <tr>\n",
       "      <th>2016-01-04</th>\n",
       "      <td>1.282084</td>\n",
       "      <td>-0.205098</td>\n",
       "    </tr>\n",
       "    <tr>\n",
       "      <th>2016-01-05</th>\n",
       "      <td>-1.279960</td>\n",
       "      <td>0.279432</td>\n",
       "    </tr>\n",
       "  </tbody>\n",
       "</table>\n",
       "</div>"
      ],
      "text/plain": [
       "                   A         B\n",
       "2016-01-04  1.282084 -0.205098\n",
       "2016-01-05 -1.279960  0.279432"
      ]
     },
     "execution_count": 50,
     "metadata": {},
     "output_type": "execute_result"
    }
   ],
   "source": [
    "df.iloc[3:5,0:2]"
   ]
  },
  {
   "cell_type": "markdown",
   "metadata": {
    "deletable": true,
    "editable": true
   },
   "source": [
    "传入list"
   ]
  },
  {
   "cell_type": "code",
   "execution_count": 51,
   "metadata": {
    "collapsed": false,
    "deletable": true,
    "editable": true
   },
   "outputs": [
    {
     "data": {
      "text/html": [
       "<div>\n",
       "<table border=\"1\" class=\"dataframe\">\n",
       "  <thead>\n",
       "    <tr style=\"text-align: right;\">\n",
       "      <th></th>\n",
       "      <th>A</th>\n",
       "      <th>C</th>\n",
       "    </tr>\n",
       "  </thead>\n",
       "  <tbody>\n",
       "    <tr>\n",
       "      <th>2016-01-02</th>\n",
       "      <td>-0.523376</td>\n",
       "      <td>0.178486</td>\n",
       "    </tr>\n",
       "    <tr>\n",
       "      <th>2016-01-03</th>\n",
       "      <td>-0.541057</td>\n",
       "      <td>-2.580032</td>\n",
       "    </tr>\n",
       "    <tr>\n",
       "      <th>2016-01-05</th>\n",
       "      <td>-1.279960</td>\n",
       "      <td>1.300774</td>\n",
       "    </tr>\n",
       "  </tbody>\n",
       "</table>\n",
       "</div>"
      ],
      "text/plain": [
       "                   A         C\n",
       "2016-01-02 -0.523376  0.178486\n",
       "2016-01-03 -0.541057 -2.580032\n",
       "2016-01-05 -1.279960  1.300774"
      ]
     },
     "execution_count": 51,
     "metadata": {},
     "output_type": "execute_result"
    }
   ],
   "source": [
    "df.iloc[[1,2,4], [0,2]]"
   ]
  },
  {
   "cell_type": "markdown",
   "metadata": {
    "deletable": true,
    "editable": true
   },
   "source": [
    "只对行进行切片"
   ]
  },
  {
   "cell_type": "code",
   "execution_count": 52,
   "metadata": {
    "collapsed": false,
    "deletable": true,
    "editable": true
   },
   "outputs": [
    {
     "data": {
      "text/html": [
       "<div>\n",
       "<table border=\"1\" class=\"dataframe\">\n",
       "  <thead>\n",
       "    <tr style=\"text-align: right;\">\n",
       "      <th></th>\n",
       "      <th>A</th>\n",
       "      <th>B</th>\n",
       "      <th>C</th>\n",
       "      <th>D</th>\n",
       "    </tr>\n",
       "  </thead>\n",
       "  <tbody>\n",
       "    <tr>\n",
       "      <th>2016-01-02</th>\n",
       "      <td>-0.523376</td>\n",
       "      <td>-0.150959</td>\n",
       "      <td>0.178486</td>\n",
       "      <td>-0.178268</td>\n",
       "    </tr>\n",
       "    <tr>\n",
       "      <th>2016-01-03</th>\n",
       "      <td>-0.541057</td>\n",
       "      <td>-0.397324</td>\n",
       "      <td>-2.580032</td>\n",
       "      <td>-0.778315</td>\n",
       "    </tr>\n",
       "  </tbody>\n",
       "</table>\n",
       "</div>"
      ],
      "text/plain": [
       "                   A         B         C         D\n",
       "2016-01-02 -0.523376 -0.150959  0.178486 -0.178268\n",
       "2016-01-03 -0.541057 -0.397324 -2.580032 -0.778315"
      ]
     },
     "execution_count": 52,
     "metadata": {},
     "output_type": "execute_result"
    }
   ],
   "source": [
    "df.iloc[1:3,:]"
   ]
  },
  {
   "cell_type": "markdown",
   "metadata": {
    "deletable": true,
    "editable": true
   },
   "source": [
    "只对列进行切片"
   ]
  },
  {
   "cell_type": "code",
   "execution_count": 53,
   "metadata": {
    "collapsed": false,
    "deletable": true,
    "editable": true
   },
   "outputs": [
    {
     "data": {
      "text/html": [
       "<div>\n",
       "<table border=\"1\" class=\"dataframe\">\n",
       "  <thead>\n",
       "    <tr style=\"text-align: right;\">\n",
       "      <th></th>\n",
       "      <th>B</th>\n",
       "      <th>C</th>\n",
       "    </tr>\n",
       "  </thead>\n",
       "  <tbody>\n",
       "    <tr>\n",
       "      <th>2016-01-01</th>\n",
       "      <td>0.333578</td>\n",
       "      <td>-0.105632</td>\n",
       "    </tr>\n",
       "    <tr>\n",
       "      <th>2016-01-02</th>\n",
       "      <td>-0.150959</td>\n",
       "      <td>0.178486</td>\n",
       "    </tr>\n",
       "    <tr>\n",
       "      <th>2016-01-03</th>\n",
       "      <td>-0.397324</td>\n",
       "      <td>-2.580032</td>\n",
       "    </tr>\n",
       "    <tr>\n",
       "      <th>2016-01-04</th>\n",
       "      <td>-0.205098</td>\n",
       "      <td>-0.665331</td>\n",
       "    </tr>\n",
       "    <tr>\n",
       "      <th>2016-01-05</th>\n",
       "      <td>0.279432</td>\n",
       "      <td>1.300774</td>\n",
       "    </tr>\n",
       "    <tr>\n",
       "      <th>2016-01-06</th>\n",
       "      <td>0.172428</td>\n",
       "      <td>0.980341</td>\n",
       "    </tr>\n",
       "  </tbody>\n",
       "</table>\n",
       "</div>"
      ],
      "text/plain": [
       "                   B         C\n",
       "2016-01-01  0.333578 -0.105632\n",
       "2016-01-02 -0.150959  0.178486\n",
       "2016-01-03 -0.397324 -2.580032\n",
       "2016-01-04 -0.205098 -0.665331\n",
       "2016-01-05  0.279432  1.300774\n",
       "2016-01-06  0.172428  0.980341"
      ]
     },
     "execution_count": 53,
     "metadata": {},
     "output_type": "execute_result"
    }
   ],
   "source": [
    "df.iloc[:,1:3]"
   ]
  },
  {
   "cell_type": "markdown",
   "metadata": {
    "deletable": true,
    "editable": true
   },
   "source": [
    "只获取某个值"
   ]
  },
  {
   "cell_type": "code",
   "execution_count": 55,
   "metadata": {
    "collapsed": false,
    "deletable": true,
    "editable": true
   },
   "outputs": [
    {
     "data": {
      "text/plain": [
       "-0.15095920811674263"
      ]
     },
     "execution_count": 55,
     "metadata": {},
     "output_type": "execute_result"
    }
   ],
   "source": [
    "df.iloc[1,1]"
   ]
  },
  {
   "cell_type": "markdown",
   "metadata": {
    "deletable": true,
    "editable": true
   },
   "source": [
    "快速获取某个值（与上面的方法等价）"
   ]
  },
  {
   "cell_type": "code",
   "execution_count": 56,
   "metadata": {
    "collapsed": false,
    "deletable": true,
    "editable": true
   },
   "outputs": [
    {
     "data": {
      "text/plain": [
       "-0.15095920811674263"
      ]
     },
     "execution_count": 56,
     "metadata": {},
     "output_type": "execute_result"
    }
   ],
   "source": [
    "df.iat[1,1]"
   ]
  },
  {
   "cell_type": "markdown",
   "metadata": {
    "deletable": true,
    "editable": true
   },
   "source": [
    "### 布尔索引\n",
    "\n"
   ]
  },
  {
   "cell_type": "markdown",
   "metadata": {
    "deletable": true,
    "editable": true
   },
   "source": [
    "用某列的值来选取数据"
   ]
  },
  {
   "cell_type": "code",
   "execution_count": 57,
   "metadata": {
    "collapsed": false,
    "deletable": true,
    "editable": true
   },
   "outputs": [
    {
     "data": {
      "text/html": [
       "<div>\n",
       "<table border=\"1\" class=\"dataframe\">\n",
       "  <thead>\n",
       "    <tr style=\"text-align: right;\">\n",
       "      <th></th>\n",
       "      <th>A</th>\n",
       "      <th>B</th>\n",
       "      <th>C</th>\n",
       "      <th>D</th>\n",
       "    </tr>\n",
       "  </thead>\n",
       "  <tbody>\n",
       "    <tr>\n",
       "      <th>2016-01-01</th>\n",
       "      <td>0.928369</td>\n",
       "      <td>0.333578</td>\n",
       "      <td>-0.105632</td>\n",
       "      <td>-0.712419</td>\n",
       "    </tr>\n",
       "    <tr>\n",
       "      <th>2016-01-04</th>\n",
       "      <td>1.282084</td>\n",
       "      <td>-0.205098</td>\n",
       "      <td>-0.665331</td>\n",
       "      <td>-0.686336</td>\n",
       "    </tr>\n",
       "    <tr>\n",
       "      <th>2016-01-06</th>\n",
       "      <td>0.669912</td>\n",
       "      <td>0.172428</td>\n",
       "      <td>0.980341</td>\n",
       "      <td>1.248861</td>\n",
       "    </tr>\n",
       "  </tbody>\n",
       "</table>\n",
       "</div>"
      ],
      "text/plain": [
       "                   A         B         C         D\n",
       "2016-01-01  0.928369  0.333578 -0.105632 -0.712419\n",
       "2016-01-04  1.282084 -0.205098 -0.665331 -0.686336\n",
       "2016-01-06  0.669912  0.172428  0.980341  1.248861"
      ]
     },
     "execution_count": 57,
     "metadata": {},
     "output_type": "execute_result"
    }
   ],
   "source": [
    "df[df.A > 0]"
   ]
  },
  {
   "cell_type": "markdown",
   "metadata": {
    "deletable": true,
    "editable": true
   },
   "source": [
    "用where操作来选取数据"
   ]
  },
  {
   "cell_type": "code",
   "execution_count": 59,
   "metadata": {
    "collapsed": false,
    "deletable": true,
    "editable": true
   },
   "outputs": [
    {
     "data": {
      "text/html": [
       "<div>\n",
       "<table border=\"1\" class=\"dataframe\">\n",
       "  <thead>\n",
       "    <tr style=\"text-align: right;\">\n",
       "      <th></th>\n",
       "      <th>A</th>\n",
       "      <th>B</th>\n",
       "      <th>C</th>\n",
       "      <th>D</th>\n",
       "    </tr>\n",
       "  </thead>\n",
       "  <tbody>\n",
       "    <tr>\n",
       "      <th>2016-01-01</th>\n",
       "      <td>0.928369</td>\n",
       "      <td>0.333578</td>\n",
       "      <td>NaN</td>\n",
       "      <td>NaN</td>\n",
       "    </tr>\n",
       "    <tr>\n",
       "      <th>2016-01-02</th>\n",
       "      <td>NaN</td>\n",
       "      <td>NaN</td>\n",
       "      <td>0.178486</td>\n",
       "      <td>NaN</td>\n",
       "    </tr>\n",
       "    <tr>\n",
       "      <th>2016-01-03</th>\n",
       "      <td>NaN</td>\n",
       "      <td>NaN</td>\n",
       "      <td>NaN</td>\n",
       "      <td>NaN</td>\n",
       "    </tr>\n",
       "    <tr>\n",
       "      <th>2016-01-04</th>\n",
       "      <td>1.282084</td>\n",
       "      <td>NaN</td>\n",
       "      <td>NaN</td>\n",
       "      <td>NaN</td>\n",
       "    </tr>\n",
       "    <tr>\n",
       "      <th>2016-01-05</th>\n",
       "      <td>NaN</td>\n",
       "      <td>0.279432</td>\n",
       "      <td>1.300774</td>\n",
       "      <td>NaN</td>\n",
       "    </tr>\n",
       "    <tr>\n",
       "      <th>2016-01-06</th>\n",
       "      <td>0.669912</td>\n",
       "      <td>0.172428</td>\n",
       "      <td>0.980341</td>\n",
       "      <td>1.248861</td>\n",
       "    </tr>\n",
       "  </tbody>\n",
       "</table>\n",
       "</div>"
      ],
      "text/plain": [
       "                   A         B         C         D\n",
       "2016-01-01  0.928369  0.333578       NaN       NaN\n",
       "2016-01-02       NaN       NaN  0.178486       NaN\n",
       "2016-01-03       NaN       NaN       NaN       NaN\n",
       "2016-01-04  1.282084       NaN       NaN       NaN\n",
       "2016-01-05       NaN  0.279432  1.300774       NaN\n",
       "2016-01-06  0.669912  0.172428  0.980341  1.248861"
      ]
     },
     "execution_count": 59,
     "metadata": {},
     "output_type": "execute_result"
    }
   ],
   "source": [
    "df[df > 0]"
   ]
  },
  {
   "cell_type": "markdown",
   "metadata": {
    "deletable": true,
    "editable": true
   },
   "source": [
    "用isin()方法来过滤数据"
   ]
  },
  {
   "cell_type": "code",
   "execution_count": 60,
   "metadata": {
    "collapsed": true,
    "deletable": true,
    "editable": true
   },
   "outputs": [],
   "source": [
    "df2 = df.copy()"
   ]
  },
  {
   "cell_type": "code",
   "execution_count": 61,
   "metadata": {
    "collapsed": false,
    "deletable": true,
    "editable": true
   },
   "outputs": [
    {
     "data": {
      "text/html": [
       "<div>\n",
       "<table border=\"1\" class=\"dataframe\">\n",
       "  <thead>\n",
       "    <tr style=\"text-align: right;\">\n",
       "      <th></th>\n",
       "      <th>A</th>\n",
       "      <th>B</th>\n",
       "      <th>C</th>\n",
       "      <th>D</th>\n",
       "      <th>E</th>\n",
       "    </tr>\n",
       "  </thead>\n",
       "  <tbody>\n",
       "    <tr>\n",
       "      <th>2016-01-01</th>\n",
       "      <td>0.928369</td>\n",
       "      <td>0.333578</td>\n",
       "      <td>-0.105632</td>\n",
       "      <td>-0.712419</td>\n",
       "      <td>one</td>\n",
       "    </tr>\n",
       "    <tr>\n",
       "      <th>2016-01-02</th>\n",
       "      <td>-0.523376</td>\n",
       "      <td>-0.150959</td>\n",
       "      <td>0.178486</td>\n",
       "      <td>-0.178268</td>\n",
       "      <td>one</td>\n",
       "    </tr>\n",
       "    <tr>\n",
       "      <th>2016-01-03</th>\n",
       "      <td>-0.541057</td>\n",
       "      <td>-0.397324</td>\n",
       "      <td>-2.580032</td>\n",
       "      <td>-0.778315</td>\n",
       "      <td>two</td>\n",
       "    </tr>\n",
       "    <tr>\n",
       "      <th>2016-01-04</th>\n",
       "      <td>1.282084</td>\n",
       "      <td>-0.205098</td>\n",
       "      <td>-0.665331</td>\n",
       "      <td>-0.686336</td>\n",
       "      <td>three</td>\n",
       "    </tr>\n",
       "    <tr>\n",
       "      <th>2016-01-05</th>\n",
       "      <td>-1.279960</td>\n",
       "      <td>0.279432</td>\n",
       "      <td>1.300774</td>\n",
       "      <td>-0.698074</td>\n",
       "      <td>four</td>\n",
       "    </tr>\n",
       "    <tr>\n",
       "      <th>2016-01-06</th>\n",
       "      <td>0.669912</td>\n",
       "      <td>0.172428</td>\n",
       "      <td>0.980341</td>\n",
       "      <td>1.248861</td>\n",
       "      <td>three</td>\n",
       "    </tr>\n",
       "  </tbody>\n",
       "</table>\n",
       "</div>"
      ],
      "text/plain": [
       "                   A         B         C         D      E\n",
       "2016-01-01  0.928369  0.333578 -0.105632 -0.712419    one\n",
       "2016-01-02 -0.523376 -0.150959  0.178486 -0.178268    one\n",
       "2016-01-03 -0.541057 -0.397324 -2.580032 -0.778315    two\n",
       "2016-01-04  1.282084 -0.205098 -0.665331 -0.686336  three\n",
       "2016-01-05 -1.279960  0.279432  1.300774 -0.698074   four\n",
       "2016-01-06  0.669912  0.172428  0.980341  1.248861  three"
      ]
     },
     "execution_count": 61,
     "metadata": {},
     "output_type": "execute_result"
    }
   ],
   "source": [
    "df2['E'] = ['one','one','two','three','four','three']\n",
    "df2"
   ]
  },
  {
   "cell_type": "code",
   "execution_count": 62,
   "metadata": {
    "collapsed": false,
    "deletable": true,
    "editable": true
   },
   "outputs": [
    {
     "data": {
      "text/html": [
       "<div>\n",
       "<table border=\"1\" class=\"dataframe\">\n",
       "  <thead>\n",
       "    <tr style=\"text-align: right;\">\n",
       "      <th></th>\n",
       "      <th>A</th>\n",
       "      <th>B</th>\n",
       "      <th>C</th>\n",
       "      <th>D</th>\n",
       "      <th>E</th>\n",
       "    </tr>\n",
       "  </thead>\n",
       "  <tbody>\n",
       "    <tr>\n",
       "      <th>2016-01-03</th>\n",
       "      <td>-0.541057</td>\n",
       "      <td>-0.397324</td>\n",
       "      <td>-2.580032</td>\n",
       "      <td>-0.778315</td>\n",
       "      <td>two</td>\n",
       "    </tr>\n",
       "    <tr>\n",
       "      <th>2016-01-05</th>\n",
       "      <td>-1.279960</td>\n",
       "      <td>0.279432</td>\n",
       "      <td>1.300774</td>\n",
       "      <td>-0.698074</td>\n",
       "      <td>four</td>\n",
       "    </tr>\n",
       "  </tbody>\n",
       "</table>\n",
       "</div>"
      ],
      "text/plain": [
       "                   A         B         C         D     E\n",
       "2016-01-03 -0.541057 -0.397324 -2.580032 -0.778315   two\n",
       "2016-01-05 -1.279960  0.279432  1.300774 -0.698074  four"
      ]
     },
     "execution_count": 62,
     "metadata": {},
     "output_type": "execute_result"
    }
   ],
   "source": [
    "df2[df2['E'].isin(['two','four'])]"
   ]
  },
  {
   "cell_type": "code",
   "execution_count": 63,
   "metadata": {
    "collapsed": false,
    "deletable": true,
    "editable": true
   },
   "outputs": [
    {
     "data": {
      "text/html": [
       "<div>\n",
       "<table border=\"1\" class=\"dataframe\">\n",
       "  <thead>\n",
       "    <tr style=\"text-align: right;\">\n",
       "      <th></th>\n",
       "      <th>A</th>\n",
       "      <th>B</th>\n",
       "      <th>C</th>\n",
       "      <th>D</th>\n",
       "      <th>E</th>\n",
       "    </tr>\n",
       "  </thead>\n",
       "  <tbody>\n",
       "    <tr>\n",
       "      <th>2016-01-01</th>\n",
       "      <td>0.928369</td>\n",
       "      <td>0.333578</td>\n",
       "      <td>-0.105632</td>\n",
       "      <td>-0.712419</td>\n",
       "      <td>one</td>\n",
       "    </tr>\n",
       "    <tr>\n",
       "      <th>2016-01-02</th>\n",
       "      <td>-0.523376</td>\n",
       "      <td>-0.150959</td>\n",
       "      <td>0.178486</td>\n",
       "      <td>-0.178268</td>\n",
       "      <td>one</td>\n",
       "    </tr>\n",
       "    <tr>\n",
       "      <th>2016-01-03</th>\n",
       "      <td>-0.541057</td>\n",
       "      <td>-0.397324</td>\n",
       "      <td>-2.580032</td>\n",
       "      <td>-0.778315</td>\n",
       "      <td>two</td>\n",
       "    </tr>\n",
       "  </tbody>\n",
       "</table>\n",
       "</div>"
      ],
      "text/plain": [
       "                   A         B         C         D    E\n",
       "2016-01-01  0.928369  0.333578 -0.105632 -0.712419  one\n",
       "2016-01-02 -0.523376 -0.150959  0.178486 -0.178268  one\n",
       "2016-01-03 -0.541057 -0.397324 -2.580032 -0.778315  two"
      ]
     },
     "execution_count": 63,
     "metadata": {},
     "output_type": "execute_result"
    }
   ],
   "source": [
    "df2[df2['E'].isin(['one','one','two'])]"
   ]
  },
  {
   "cell_type": "markdown",
   "metadata": {
    "deletable": true,
    "editable": true
   },
   "source": [
    "### 赋值\n",
    "\n",
    "为DataFrame增加新的一列，通过index来自动对齐数据"
   ]
  },
  {
   "cell_type": "code",
   "execution_count": 65,
   "metadata": {
    "collapsed": true,
    "deletable": true,
    "editable": true
   },
   "outputs": [],
   "source": [
    "s1 = pd.Series([1,2,3,4,5,6],index=pd.date_range('20160102',periods=6))"
   ]
  },
  {
   "cell_type": "code",
   "execution_count": 66,
   "metadata": {
    "collapsed": false,
    "deletable": true,
    "editable": true
   },
   "outputs": [
    {
     "data": {
      "text/plain": [
       "2016-01-02    1\n",
       "2016-01-03    2\n",
       "2016-01-04    3\n",
       "2016-01-05    4\n",
       "2016-01-06    5\n",
       "2016-01-07    6\n",
       "Freq: D, dtype: int64"
      ]
     },
     "execution_count": 66,
     "metadata": {},
     "output_type": "execute_result"
    }
   ],
   "source": [
    "s1"
   ]
  },
  {
   "cell_type": "code",
   "execution_count": 67,
   "metadata": {
    "collapsed": false,
    "deletable": true,
    "editable": true
   },
   "outputs": [
    {
     "data": {
      "text/plain": [
       "2016-01-02    1\n",
       "2016-01-03    2\n",
       "2016-01-04    3\n",
       "2016-01-05    4\n",
       "2016-01-06    5\n",
       "2016-01-07    6\n",
       "Freq: D, dtype: int64"
      ]
     },
     "execution_count": 67,
     "metadata": {},
     "output_type": "execute_result"
    }
   ],
   "source": [
    "df['F'] = s1\n",
    "s1"
   ]
  },
  {
   "cell_type": "code",
   "execution_count": 69,
   "metadata": {
    "collapsed": false,
    "deletable": true,
    "editable": true
   },
   "outputs": [
    {
     "data": {
      "text/html": [
       "<div>\n",
       "<table border=\"1\" class=\"dataframe\">\n",
       "  <thead>\n",
       "    <tr style=\"text-align: right;\">\n",
       "      <th></th>\n",
       "      <th>A</th>\n",
       "      <th>B</th>\n",
       "      <th>C</th>\n",
       "      <th>D</th>\n",
       "      <th>F</th>\n",
       "    </tr>\n",
       "  </thead>\n",
       "  <tbody>\n",
       "    <tr>\n",
       "      <th>2016-01-01</th>\n",
       "      <td>0.928369</td>\n",
       "      <td>0.333578</td>\n",
       "      <td>-0.105632</td>\n",
       "      <td>-0.712419</td>\n",
       "      <td>NaN</td>\n",
       "    </tr>\n",
       "    <tr>\n",
       "      <th>2016-01-02</th>\n",
       "      <td>-0.523376</td>\n",
       "      <td>-0.150959</td>\n",
       "      <td>0.178486</td>\n",
       "      <td>-0.178268</td>\n",
       "      <td>1.0</td>\n",
       "    </tr>\n",
       "    <tr>\n",
       "      <th>2016-01-03</th>\n",
       "      <td>-0.541057</td>\n",
       "      <td>-0.397324</td>\n",
       "      <td>-2.580032</td>\n",
       "      <td>-0.778315</td>\n",
       "      <td>2.0</td>\n",
       "    </tr>\n",
       "    <tr>\n",
       "      <th>2016-01-04</th>\n",
       "      <td>1.282084</td>\n",
       "      <td>-0.205098</td>\n",
       "      <td>-0.665331</td>\n",
       "      <td>-0.686336</td>\n",
       "      <td>3.0</td>\n",
       "    </tr>\n",
       "    <tr>\n",
       "      <th>2016-01-05</th>\n",
       "      <td>-1.279960</td>\n",
       "      <td>0.279432</td>\n",
       "      <td>1.300774</td>\n",
       "      <td>-0.698074</td>\n",
       "      <td>4.0</td>\n",
       "    </tr>\n",
       "    <tr>\n",
       "      <th>2016-01-06</th>\n",
       "      <td>0.669912</td>\n",
       "      <td>0.172428</td>\n",
       "      <td>0.980341</td>\n",
       "      <td>1.248861</td>\n",
       "      <td>5.0</td>\n",
       "    </tr>\n",
       "  </tbody>\n",
       "</table>\n",
       "</div>"
      ],
      "text/plain": [
       "                   A         B         C         D    F\n",
       "2016-01-01  0.928369  0.333578 -0.105632 -0.712419  NaN\n",
       "2016-01-02 -0.523376 -0.150959  0.178486 -0.178268  1.0\n",
       "2016-01-03 -0.541057 -0.397324 -2.580032 -0.778315  2.0\n",
       "2016-01-04  1.282084 -0.205098 -0.665331 -0.686336  3.0\n",
       "2016-01-05 -1.279960  0.279432  1.300774 -0.698074  4.0\n",
       "2016-01-06  0.669912  0.172428  0.980341  1.248861  5.0"
      ]
     },
     "execution_count": 69,
     "metadata": {},
     "output_type": "execute_result"
    }
   ],
   "source": [
    "df # 注意F列"
   ]
  },
  {
   "cell_type": "markdown",
   "metadata": {
    "deletable": true,
    "editable": true
   },
   "source": [
    "通过label赋值"
   ]
  },
  {
   "cell_type": "code",
   "execution_count": 70,
   "metadata": {
    "collapsed": false,
    "deletable": true,
    "editable": true
   },
   "outputs": [
    {
     "data": {
      "text/html": [
       "<div>\n",
       "<table border=\"1\" class=\"dataframe\">\n",
       "  <thead>\n",
       "    <tr style=\"text-align: right;\">\n",
       "      <th></th>\n",
       "      <th>A</th>\n",
       "      <th>B</th>\n",
       "      <th>C</th>\n",
       "      <th>D</th>\n",
       "      <th>F</th>\n",
       "    </tr>\n",
       "  </thead>\n",
       "  <tbody>\n",
       "    <tr>\n",
       "      <th>2016-01-01</th>\n",
       "      <td>0.000000</td>\n",
       "      <td>0.333578</td>\n",
       "      <td>-0.105632</td>\n",
       "      <td>-0.712419</td>\n",
       "      <td>NaN</td>\n",
       "    </tr>\n",
       "    <tr>\n",
       "      <th>2016-01-02</th>\n",
       "      <td>-0.523376</td>\n",
       "      <td>-0.150959</td>\n",
       "      <td>0.178486</td>\n",
       "      <td>-0.178268</td>\n",
       "      <td>1.0</td>\n",
       "    </tr>\n",
       "    <tr>\n",
       "      <th>2016-01-03</th>\n",
       "      <td>-0.541057</td>\n",
       "      <td>-0.397324</td>\n",
       "      <td>-2.580032</td>\n",
       "      <td>-0.778315</td>\n",
       "      <td>2.0</td>\n",
       "    </tr>\n",
       "    <tr>\n",
       "      <th>2016-01-04</th>\n",
       "      <td>1.282084</td>\n",
       "      <td>-0.205098</td>\n",
       "      <td>-0.665331</td>\n",
       "      <td>-0.686336</td>\n",
       "      <td>3.0</td>\n",
       "    </tr>\n",
       "    <tr>\n",
       "      <th>2016-01-05</th>\n",
       "      <td>-1.279960</td>\n",
       "      <td>0.279432</td>\n",
       "      <td>1.300774</td>\n",
       "      <td>-0.698074</td>\n",
       "      <td>4.0</td>\n",
       "    </tr>\n",
       "    <tr>\n",
       "      <th>2016-01-06</th>\n",
       "      <td>0.669912</td>\n",
       "      <td>0.172428</td>\n",
       "      <td>0.980341</td>\n",
       "      <td>1.248861</td>\n",
       "      <td>5.0</td>\n",
       "    </tr>\n",
       "  </tbody>\n",
       "</table>\n",
       "</div>"
      ],
      "text/plain": [
       "                   A         B         C         D    F\n",
       "2016-01-01  0.000000  0.333578 -0.105632 -0.712419  NaN\n",
       "2016-01-02 -0.523376 -0.150959  0.178486 -0.178268  1.0\n",
       "2016-01-03 -0.541057 -0.397324 -2.580032 -0.778315  2.0\n",
       "2016-01-04  1.282084 -0.205098 -0.665331 -0.686336  3.0\n",
       "2016-01-05 -1.279960  0.279432  1.300774 -0.698074  4.0\n",
       "2016-01-06  0.669912  0.172428  0.980341  1.248861  5.0"
      ]
     },
     "execution_count": 70,
     "metadata": {},
     "output_type": "execute_result"
    }
   ],
   "source": [
    "df.at[dates[0],'A'] = 0\n",
    "df"
   ]
  },
  {
   "cell_type": "markdown",
   "metadata": {
    "deletable": true,
    "editable": true
   },
   "source": [
    "通过下标赋值"
   ]
  },
  {
   "cell_type": "code",
   "execution_count": 71,
   "metadata": {
    "collapsed": false,
    "deletable": true,
    "editable": true
   },
   "outputs": [
    {
     "data": {
      "text/html": [
       "<div>\n",
       "<table border=\"1\" class=\"dataframe\">\n",
       "  <thead>\n",
       "    <tr style=\"text-align: right;\">\n",
       "      <th></th>\n",
       "      <th>A</th>\n",
       "      <th>B</th>\n",
       "      <th>C</th>\n",
       "      <th>D</th>\n",
       "      <th>F</th>\n",
       "    </tr>\n",
       "  </thead>\n",
       "  <tbody>\n",
       "    <tr>\n",
       "      <th>2016-01-01</th>\n",
       "      <td>0.000000</td>\n",
       "      <td>0.000000</td>\n",
       "      <td>-0.105632</td>\n",
       "      <td>-0.712419</td>\n",
       "      <td>NaN</td>\n",
       "    </tr>\n",
       "    <tr>\n",
       "      <th>2016-01-02</th>\n",
       "      <td>-0.523376</td>\n",
       "      <td>-0.150959</td>\n",
       "      <td>0.178486</td>\n",
       "      <td>-0.178268</td>\n",
       "      <td>1.0</td>\n",
       "    </tr>\n",
       "    <tr>\n",
       "      <th>2016-01-03</th>\n",
       "      <td>-0.541057</td>\n",
       "      <td>-0.397324</td>\n",
       "      <td>-2.580032</td>\n",
       "      <td>-0.778315</td>\n",
       "      <td>2.0</td>\n",
       "    </tr>\n",
       "    <tr>\n",
       "      <th>2016-01-04</th>\n",
       "      <td>1.282084</td>\n",
       "      <td>-0.205098</td>\n",
       "      <td>-0.665331</td>\n",
       "      <td>-0.686336</td>\n",
       "      <td>3.0</td>\n",
       "    </tr>\n",
       "    <tr>\n",
       "      <th>2016-01-05</th>\n",
       "      <td>-1.279960</td>\n",
       "      <td>0.279432</td>\n",
       "      <td>1.300774</td>\n",
       "      <td>-0.698074</td>\n",
       "      <td>4.0</td>\n",
       "    </tr>\n",
       "    <tr>\n",
       "      <th>2016-01-06</th>\n",
       "      <td>0.669912</td>\n",
       "      <td>0.172428</td>\n",
       "      <td>0.980341</td>\n",
       "      <td>1.248861</td>\n",
       "      <td>5.0</td>\n",
       "    </tr>\n",
       "  </tbody>\n",
       "</table>\n",
       "</div>"
      ],
      "text/plain": [
       "                   A         B         C         D    F\n",
       "2016-01-01  0.000000  0.000000 -0.105632 -0.712419  NaN\n",
       "2016-01-02 -0.523376 -0.150959  0.178486 -0.178268  1.0\n",
       "2016-01-03 -0.541057 -0.397324 -2.580032 -0.778315  2.0\n",
       "2016-01-04  1.282084 -0.205098 -0.665331 -0.686336  3.0\n",
       "2016-01-05 -1.279960  0.279432  1.300774 -0.698074  4.0\n",
       "2016-01-06  0.669912  0.172428  0.980341  1.248861  5.0"
      ]
     },
     "execution_count": 71,
     "metadata": {},
     "output_type": "execute_result"
    }
   ],
   "source": [
    "df.iat[0,1] = 0\n",
    "df"
   ]
  },
  {
   "cell_type": "markdown",
   "metadata": {
    "deletable": true,
    "editable": true
   },
   "source": [
    "通过传递numpy array赋值"
   ]
  },
  {
   "cell_type": "code",
   "execution_count": 72,
   "metadata": {
    "collapsed": false,
    "deletable": true,
    "editable": true
   },
   "outputs": [],
   "source": [
    "df.loc[:,'D'] = np.array([5] * len(df))"
   ]
  },
  {
   "cell_type": "code",
   "execution_count": 73,
   "metadata": {
    "collapsed": false,
    "deletable": true,
    "editable": true
   },
   "outputs": [
    {
     "data": {
      "text/html": [
       "<div>\n",
       "<table border=\"1\" class=\"dataframe\">\n",
       "  <thead>\n",
       "    <tr style=\"text-align: right;\">\n",
       "      <th></th>\n",
       "      <th>A</th>\n",
       "      <th>B</th>\n",
       "      <th>C</th>\n",
       "      <th>D</th>\n",
       "      <th>F</th>\n",
       "    </tr>\n",
       "  </thead>\n",
       "  <tbody>\n",
       "    <tr>\n",
       "      <th>2016-01-01</th>\n",
       "      <td>0.000000</td>\n",
       "      <td>0.000000</td>\n",
       "      <td>-0.105632</td>\n",
       "      <td>5</td>\n",
       "      <td>NaN</td>\n",
       "    </tr>\n",
       "    <tr>\n",
       "      <th>2016-01-02</th>\n",
       "      <td>-0.523376</td>\n",
       "      <td>-0.150959</td>\n",
       "      <td>0.178486</td>\n",
       "      <td>5</td>\n",
       "      <td>1.0</td>\n",
       "    </tr>\n",
       "    <tr>\n",
       "      <th>2016-01-03</th>\n",
       "      <td>-0.541057</td>\n",
       "      <td>-0.397324</td>\n",
       "      <td>-2.580032</td>\n",
       "      <td>5</td>\n",
       "      <td>2.0</td>\n",
       "    </tr>\n",
       "    <tr>\n",
       "      <th>2016-01-04</th>\n",
       "      <td>1.282084</td>\n",
       "      <td>-0.205098</td>\n",
       "      <td>-0.665331</td>\n",
       "      <td>5</td>\n",
       "      <td>3.0</td>\n",
       "    </tr>\n",
       "    <tr>\n",
       "      <th>2016-01-05</th>\n",
       "      <td>-1.279960</td>\n",
       "      <td>0.279432</td>\n",
       "      <td>1.300774</td>\n",
       "      <td>5</td>\n",
       "      <td>4.0</td>\n",
       "    </tr>\n",
       "    <tr>\n",
       "      <th>2016-01-06</th>\n",
       "      <td>0.669912</td>\n",
       "      <td>0.172428</td>\n",
       "      <td>0.980341</td>\n",
       "      <td>5</td>\n",
       "      <td>5.0</td>\n",
       "    </tr>\n",
       "  </tbody>\n",
       "</table>\n",
       "</div>"
      ],
      "text/plain": [
       "                   A         B         C  D    F\n",
       "2016-01-01  0.000000  0.000000 -0.105632  5  NaN\n",
       "2016-01-02 -0.523376 -0.150959  0.178486  5  1.0\n",
       "2016-01-03 -0.541057 -0.397324 -2.580032  5  2.0\n",
       "2016-01-04  1.282084 -0.205098 -0.665331  5  3.0\n",
       "2016-01-05 -1.279960  0.279432  1.300774  5  4.0\n",
       "2016-01-06  0.669912  0.172428  0.980341  5  5.0"
      ]
     },
     "execution_count": 73,
     "metadata": {},
     "output_type": "execute_result"
    }
   ],
   "source": [
    "df"
   ]
  },
  {
   "cell_type": "code",
   "execution_count": 74,
   "metadata": {
    "collapsed": false,
    "deletable": true,
    "editable": true
   },
   "outputs": [
    {
     "data": {
      "text/html": [
       "<div>\n",
       "<table border=\"1\" class=\"dataframe\">\n",
       "  <thead>\n",
       "    <tr style=\"text-align: right;\">\n",
       "      <th></th>\n",
       "      <th>A</th>\n",
       "      <th>B</th>\n",
       "      <th>C</th>\n",
       "      <th>D</th>\n",
       "      <th>F</th>\n",
       "    </tr>\n",
       "  </thead>\n",
       "  <tbody>\n",
       "    <tr>\n",
       "      <th>2016-01-01</th>\n",
       "      <td>0.000000</td>\n",
       "      <td>0.000000</td>\n",
       "      <td>-0.105632</td>\n",
       "      <td>-5</td>\n",
       "      <td>NaN</td>\n",
       "    </tr>\n",
       "    <tr>\n",
       "      <th>2016-01-02</th>\n",
       "      <td>-0.523376</td>\n",
       "      <td>-0.150959</td>\n",
       "      <td>-0.178486</td>\n",
       "      <td>-5</td>\n",
       "      <td>-1.0</td>\n",
       "    </tr>\n",
       "    <tr>\n",
       "      <th>2016-01-03</th>\n",
       "      <td>-0.541057</td>\n",
       "      <td>-0.397324</td>\n",
       "      <td>-2.580032</td>\n",
       "      <td>-5</td>\n",
       "      <td>-2.0</td>\n",
       "    </tr>\n",
       "    <tr>\n",
       "      <th>2016-01-04</th>\n",
       "      <td>-1.282084</td>\n",
       "      <td>-0.205098</td>\n",
       "      <td>-0.665331</td>\n",
       "      <td>-5</td>\n",
       "      <td>-3.0</td>\n",
       "    </tr>\n",
       "    <tr>\n",
       "      <th>2016-01-05</th>\n",
       "      <td>-1.279960</td>\n",
       "      <td>-0.279432</td>\n",
       "      <td>-1.300774</td>\n",
       "      <td>-5</td>\n",
       "      <td>-4.0</td>\n",
       "    </tr>\n",
       "    <tr>\n",
       "      <th>2016-01-06</th>\n",
       "      <td>-0.669912</td>\n",
       "      <td>-0.172428</td>\n",
       "      <td>-0.980341</td>\n",
       "      <td>-5</td>\n",
       "      <td>-5.0</td>\n",
       "    </tr>\n",
       "  </tbody>\n",
       "</table>\n",
       "</div>"
      ],
      "text/plain": [
       "                   A         B         C  D    F\n",
       "2016-01-01  0.000000  0.000000 -0.105632 -5  NaN\n",
       "2016-01-02 -0.523376 -0.150959 -0.178486 -5 -1.0\n",
       "2016-01-03 -0.541057 -0.397324 -2.580032 -5 -2.0\n",
       "2016-01-04 -1.282084 -0.205098 -0.665331 -5 -3.0\n",
       "2016-01-05 -1.279960 -0.279432 -1.300774 -5 -4.0\n",
       "2016-01-06 -0.669912 -0.172428 -0.980341 -5 -5.0"
      ]
     },
     "execution_count": 74,
     "metadata": {},
     "output_type": "execute_result"
    }
   ],
   "source": [
    "df2 = df.copy()\n",
    "df2[df2 > 0] = -df2\n",
    "df2"
   ]
  },
  {
   "cell_type": "markdown",
   "metadata": {
    "deletable": true,
    "editable": true
   },
   "source": [
    "## 缺失值处理\n",
    "\n",
    "在pandas中，用np.nan来填充缺失值，这些值默认不会参与运算。\n"
   ]
  },
  {
   "cell_type": "markdown",
   "metadata": {
    "deletable": true,
    "editable": true
   },
   "source": [
    "reindex()允许你修改、增加、删除指定轴上的index，并返回**数据副本**。"
   ]
  },
  {
   "cell_type": "code",
   "execution_count": 75,
   "metadata": {
    "collapsed": false,
    "deletable": true,
    "editable": true
   },
   "outputs": [
    {
     "data": {
      "text/html": [
       "<div>\n",
       "<table border=\"1\" class=\"dataframe\">\n",
       "  <thead>\n",
       "    <tr style=\"text-align: right;\">\n",
       "      <th></th>\n",
       "      <th>A</th>\n",
       "      <th>B</th>\n",
       "      <th>C</th>\n",
       "      <th>D</th>\n",
       "      <th>F</th>\n",
       "      <th>E</th>\n",
       "    </tr>\n",
       "  </thead>\n",
       "  <tbody>\n",
       "    <tr>\n",
       "      <th>2016-01-01</th>\n",
       "      <td>0.000000</td>\n",
       "      <td>0.000000</td>\n",
       "      <td>-0.105632</td>\n",
       "      <td>5</td>\n",
       "      <td>NaN</td>\n",
       "      <td>1.0</td>\n",
       "    </tr>\n",
       "    <tr>\n",
       "      <th>2016-01-02</th>\n",
       "      <td>-0.523376</td>\n",
       "      <td>-0.150959</td>\n",
       "      <td>0.178486</td>\n",
       "      <td>5</td>\n",
       "      <td>1.0</td>\n",
       "      <td>1.0</td>\n",
       "    </tr>\n",
       "    <tr>\n",
       "      <th>2016-01-03</th>\n",
       "      <td>-0.541057</td>\n",
       "      <td>-0.397324</td>\n",
       "      <td>-2.580032</td>\n",
       "      <td>5</td>\n",
       "      <td>2.0</td>\n",
       "      <td>NaN</td>\n",
       "    </tr>\n",
       "    <tr>\n",
       "      <th>2016-01-04</th>\n",
       "      <td>1.282084</td>\n",
       "      <td>-0.205098</td>\n",
       "      <td>-0.665331</td>\n",
       "      <td>5</td>\n",
       "      <td>3.0</td>\n",
       "      <td>NaN</td>\n",
       "    </tr>\n",
       "  </tbody>\n",
       "</table>\n",
       "</div>"
      ],
      "text/plain": [
       "                   A         B         C  D    F    E\n",
       "2016-01-01  0.000000  0.000000 -0.105632  5  NaN  1.0\n",
       "2016-01-02 -0.523376 -0.150959  0.178486  5  1.0  1.0\n",
       "2016-01-03 -0.541057 -0.397324 -2.580032  5  2.0  NaN\n",
       "2016-01-04  1.282084 -0.205098 -0.665331  5  3.0  NaN"
      ]
     },
     "execution_count": 75,
     "metadata": {},
     "output_type": "execute_result"
    }
   ],
   "source": [
    "df1 = df.reindex(index=dates[0:4],columns=list(df.columns)+['E'])\n",
    "df1.loc[dates[0]:dates[1],'E'] = 1\n",
    "df1"
   ]
  },
  {
   "cell_type": "markdown",
   "metadata": {
    "deletable": true,
    "editable": true
   },
   "source": [
    "剔除所有包含缺失值的行"
   ]
  },
  {
   "cell_type": "code",
   "execution_count": 76,
   "metadata": {
    "collapsed": false,
    "deletable": true,
    "editable": true
   },
   "outputs": [
    {
     "data": {
      "text/html": [
       "<div>\n",
       "<table border=\"1\" class=\"dataframe\">\n",
       "  <thead>\n",
       "    <tr style=\"text-align: right;\">\n",
       "      <th></th>\n",
       "      <th>A</th>\n",
       "      <th>B</th>\n",
       "      <th>C</th>\n",
       "      <th>D</th>\n",
       "      <th>F</th>\n",
       "      <th>E</th>\n",
       "    </tr>\n",
       "  </thead>\n",
       "  <tbody>\n",
       "    <tr>\n",
       "      <th>2016-01-02</th>\n",
       "      <td>-0.523376</td>\n",
       "      <td>-0.150959</td>\n",
       "      <td>0.178486</td>\n",
       "      <td>5</td>\n",
       "      <td>1.0</td>\n",
       "      <td>1.0</td>\n",
       "    </tr>\n",
       "  </tbody>\n",
       "</table>\n",
       "</div>"
      ],
      "text/plain": [
       "                   A         B         C  D    F    E\n",
       "2016-01-02 -0.523376 -0.150959  0.178486  5  1.0  1.0"
      ]
     },
     "execution_count": 76,
     "metadata": {},
     "output_type": "execute_result"
    }
   ],
   "source": [
    "df1.dropna(how='any')"
   ]
  },
  {
   "cell_type": "markdown",
   "metadata": {
    "deletable": true,
    "editable": true
   },
   "source": [
    "填充缺失值"
   ]
  },
  {
   "cell_type": "code",
   "execution_count": 77,
   "metadata": {
    "collapsed": false,
    "deletable": true,
    "editable": true
   },
   "outputs": [
    {
     "data": {
      "text/html": [
       "<div>\n",
       "<table border=\"1\" class=\"dataframe\">\n",
       "  <thead>\n",
       "    <tr style=\"text-align: right;\">\n",
       "      <th></th>\n",
       "      <th>A</th>\n",
       "      <th>B</th>\n",
       "      <th>C</th>\n",
       "      <th>D</th>\n",
       "      <th>F</th>\n",
       "      <th>E</th>\n",
       "    </tr>\n",
       "  </thead>\n",
       "  <tbody>\n",
       "    <tr>\n",
       "      <th>2016-01-01</th>\n",
       "      <td>0.000000</td>\n",
       "      <td>0.000000</td>\n",
       "      <td>-0.105632</td>\n",
       "      <td>5</td>\n",
       "      <td>5.0</td>\n",
       "      <td>1.0</td>\n",
       "    </tr>\n",
       "    <tr>\n",
       "      <th>2016-01-02</th>\n",
       "      <td>-0.523376</td>\n",
       "      <td>-0.150959</td>\n",
       "      <td>0.178486</td>\n",
       "      <td>5</td>\n",
       "      <td>1.0</td>\n",
       "      <td>1.0</td>\n",
       "    </tr>\n",
       "    <tr>\n",
       "      <th>2016-01-03</th>\n",
       "      <td>-0.541057</td>\n",
       "      <td>-0.397324</td>\n",
       "      <td>-2.580032</td>\n",
       "      <td>5</td>\n",
       "      <td>2.0</td>\n",
       "      <td>5.0</td>\n",
       "    </tr>\n",
       "    <tr>\n",
       "      <th>2016-01-04</th>\n",
       "      <td>1.282084</td>\n",
       "      <td>-0.205098</td>\n",
       "      <td>-0.665331</td>\n",
       "      <td>5</td>\n",
       "      <td>3.0</td>\n",
       "      <td>5.0</td>\n",
       "    </tr>\n",
       "  </tbody>\n",
       "</table>\n",
       "</div>"
      ],
      "text/plain": [
       "                   A         B         C  D    F    E\n",
       "2016-01-01  0.000000  0.000000 -0.105632  5  5.0  1.0\n",
       "2016-01-02 -0.523376 -0.150959  0.178486  5  1.0  1.0\n",
       "2016-01-03 -0.541057 -0.397324 -2.580032  5  2.0  5.0\n",
       "2016-01-04  1.282084 -0.205098 -0.665331  5  3.0  5.0"
      ]
     },
     "execution_count": 77,
     "metadata": {},
     "output_type": "execute_result"
    }
   ],
   "source": [
    "df1.fillna(value=5)"
   ]
  },
  {
   "cell_type": "markdown",
   "metadata": {
    "deletable": true,
    "editable": true
   },
   "source": [
    "获取值是否为nan的布尔标记"
   ]
  },
  {
   "cell_type": "code",
   "execution_count": 78,
   "metadata": {
    "collapsed": false,
    "deletable": true,
    "editable": true
   },
   "outputs": [
    {
     "data": {
      "text/html": [
       "<div>\n",
       "<table border=\"1\" class=\"dataframe\">\n",
       "  <thead>\n",
       "    <tr style=\"text-align: right;\">\n",
       "      <th></th>\n",
       "      <th>A</th>\n",
       "      <th>B</th>\n",
       "      <th>C</th>\n",
       "      <th>D</th>\n",
       "      <th>F</th>\n",
       "      <th>E</th>\n",
       "    </tr>\n",
       "  </thead>\n",
       "  <tbody>\n",
       "    <tr>\n",
       "      <th>2016-01-01</th>\n",
       "      <td>False</td>\n",
       "      <td>False</td>\n",
       "      <td>False</td>\n",
       "      <td>False</td>\n",
       "      <td>True</td>\n",
       "      <td>False</td>\n",
       "    </tr>\n",
       "    <tr>\n",
       "      <th>2016-01-02</th>\n",
       "      <td>False</td>\n",
       "      <td>False</td>\n",
       "      <td>False</td>\n",
       "      <td>False</td>\n",
       "      <td>False</td>\n",
       "      <td>False</td>\n",
       "    </tr>\n",
       "    <tr>\n",
       "      <th>2016-01-03</th>\n",
       "      <td>False</td>\n",
       "      <td>False</td>\n",
       "      <td>False</td>\n",
       "      <td>False</td>\n",
       "      <td>False</td>\n",
       "      <td>True</td>\n",
       "    </tr>\n",
       "    <tr>\n",
       "      <th>2016-01-04</th>\n",
       "      <td>False</td>\n",
       "      <td>False</td>\n",
       "      <td>False</td>\n",
       "      <td>False</td>\n",
       "      <td>False</td>\n",
       "      <td>True</td>\n",
       "    </tr>\n",
       "  </tbody>\n",
       "</table>\n",
       "</div>"
      ],
      "text/plain": [
       "                A      B      C      D      F      E\n",
       "2016-01-01  False  False  False  False   True  False\n",
       "2016-01-02  False  False  False  False  False  False\n",
       "2016-01-03  False  False  False  False  False   True\n",
       "2016-01-04  False  False  False  False  False   True"
      ]
     },
     "execution_count": 78,
     "metadata": {},
     "output_type": "execute_result"
    }
   ],
   "source": [
    "pd.isnull(df1)"
   ]
  },
  {
   "cell_type": "markdown",
   "metadata": {
    "deletable": true,
    "editable": true
   },
   "source": [
    "## 运算\n",
    "\n"
   ]
  },
  {
   "cell_type": "markdown",
   "metadata": {
    "deletable": true,
    "editable": true
   },
   "source": [
    "### 统计\n",
    "\n",
    "运算过程中，缺失值不参与计算。\n",
    "\n",
    "得到描述性统计。"
   ]
  },
  {
   "cell_type": "code",
   "execution_count": 79,
   "metadata": {
    "collapsed": false,
    "deletable": true,
    "editable": true
   },
   "outputs": [
    {
     "data": {
      "text/html": [
       "<div>\n",
       "<table border=\"1\" class=\"dataframe\">\n",
       "  <thead>\n",
       "    <tr style=\"text-align: right;\">\n",
       "      <th></th>\n",
       "      <th>A</th>\n",
       "      <th>B</th>\n",
       "      <th>C</th>\n",
       "      <th>D</th>\n",
       "      <th>F</th>\n",
       "    </tr>\n",
       "  </thead>\n",
       "  <tbody>\n",
       "    <tr>\n",
       "      <th>2016-01-01</th>\n",
       "      <td>0.000000</td>\n",
       "      <td>0.000000</td>\n",
       "      <td>-0.105632</td>\n",
       "      <td>5</td>\n",
       "      <td>NaN</td>\n",
       "    </tr>\n",
       "    <tr>\n",
       "      <th>2016-01-02</th>\n",
       "      <td>-0.523376</td>\n",
       "      <td>-0.150959</td>\n",
       "      <td>0.178486</td>\n",
       "      <td>5</td>\n",
       "      <td>1.0</td>\n",
       "    </tr>\n",
       "    <tr>\n",
       "      <th>2016-01-03</th>\n",
       "      <td>-0.541057</td>\n",
       "      <td>-0.397324</td>\n",
       "      <td>-2.580032</td>\n",
       "      <td>5</td>\n",
       "      <td>2.0</td>\n",
       "    </tr>\n",
       "    <tr>\n",
       "      <th>2016-01-04</th>\n",
       "      <td>1.282084</td>\n",
       "      <td>-0.205098</td>\n",
       "      <td>-0.665331</td>\n",
       "      <td>5</td>\n",
       "      <td>3.0</td>\n",
       "    </tr>\n",
       "    <tr>\n",
       "      <th>2016-01-05</th>\n",
       "      <td>-1.279960</td>\n",
       "      <td>0.279432</td>\n",
       "      <td>1.300774</td>\n",
       "      <td>5</td>\n",
       "      <td>4.0</td>\n",
       "    </tr>\n",
       "    <tr>\n",
       "      <th>2016-01-06</th>\n",
       "      <td>0.669912</td>\n",
       "      <td>0.172428</td>\n",
       "      <td>0.980341</td>\n",
       "      <td>5</td>\n",
       "      <td>5.0</td>\n",
       "    </tr>\n",
       "  </tbody>\n",
       "</table>\n",
       "</div>"
      ],
      "text/plain": [
       "                   A         B         C  D    F\n",
       "2016-01-01  0.000000  0.000000 -0.105632  5  NaN\n",
       "2016-01-02 -0.523376 -0.150959  0.178486  5  1.0\n",
       "2016-01-03 -0.541057 -0.397324 -2.580032  5  2.0\n",
       "2016-01-04  1.282084 -0.205098 -0.665331  5  3.0\n",
       "2016-01-05 -1.279960  0.279432  1.300774  5  4.0\n",
       "2016-01-06  0.669912  0.172428  0.980341  5  5.0"
      ]
     },
     "execution_count": 79,
     "metadata": {},
     "output_type": "execute_result"
    }
   ],
   "source": [
    "df"
   ]
  },
  {
   "cell_type": "code",
   "execution_count": 80,
   "metadata": {
    "collapsed": false,
    "deletable": true,
    "editable": true
   },
   "outputs": [
    {
     "data": {
      "text/plain": [
       "A   -0.065400\n",
       "B   -0.050253\n",
       "C   -0.148566\n",
       "D    5.000000\n",
       "F    3.000000\n",
       "dtype: float64"
      ]
     },
     "execution_count": 80,
     "metadata": {},
     "output_type": "execute_result"
    }
   ],
   "source": [
    "df.mean()"
   ]
  },
  {
   "cell_type": "code",
   "execution_count": 82,
   "metadata": {
    "collapsed": false,
    "deletable": true,
    "editable": true
   },
   "outputs": [
    {
     "data": {
      "text/plain": [
       "A    -0.392397\n",
       "B    -0.301521\n",
       "C    -0.891394\n",
       "D    30.000000\n",
       "F    15.000000\n",
       "dtype: float64"
      ]
     },
     "execution_count": 82,
     "metadata": {},
     "output_type": "execute_result"
    }
   ],
   "source": [
    "df.sum()"
   ]
  },
  {
   "cell_type": "markdown",
   "metadata": {
    "deletable": true,
    "editable": true
   },
   "source": [
    "对其他轴进行同样的运算"
   ]
  },
  {
   "cell_type": "code",
   "execution_count": 81,
   "metadata": {
    "collapsed": false,
    "deletable": true,
    "editable": true
   },
   "outputs": [
    {
     "data": {
      "text/plain": [
       "2016-01-01    1.223592\n",
       "2016-01-02    1.100830\n",
       "2016-01-03    0.696317\n",
       "2016-01-04    1.682331\n",
       "2016-01-05    1.860049\n",
       "2016-01-06    2.364536\n",
       "Freq: D, dtype: float64"
      ]
     },
     "execution_count": 81,
     "metadata": {},
     "output_type": "execute_result"
    }
   ],
   "source": [
    "df.mean(1)"
   ]
  },
  {
   "cell_type": "markdown",
   "metadata": {
    "deletable": true,
    "editable": true
   },
   "source": [
    "对于拥有不同维度的对象进行运算时需要对齐。除此之外，pandas会自动沿着指定维度广播。"
   ]
  },
  {
   "cell_type": "code",
   "execution_count": 83,
   "metadata": {
    "collapsed": false,
    "deletable": true,
    "editable": true
   },
   "outputs": [
    {
     "data": {
      "text/plain": [
       "2016-01-01    NaN\n",
       "2016-01-02    NaN\n",
       "2016-01-03    1.0\n",
       "2016-01-04    3.0\n",
       "2016-01-05    5.0\n",
       "2016-01-06    NaN\n",
       "Freq: D, dtype: float64"
      ]
     },
     "execution_count": 83,
     "metadata": {},
     "output_type": "execute_result"
    }
   ],
   "source": [
    "s = pd.Series([1,3,5,np.nan,6,8],index=dates).shift(2)\n",
    "s"
   ]
  },
  {
   "cell_type": "code",
   "execution_count": 84,
   "metadata": {
    "collapsed": false,
    "deletable": true,
    "editable": true
   },
   "outputs": [
    {
     "data": {
      "text/html": [
       "<div>\n",
       "<table border=\"1\" class=\"dataframe\">\n",
       "  <thead>\n",
       "    <tr style=\"text-align: right;\">\n",
       "      <th></th>\n",
       "      <th>A</th>\n",
       "      <th>B</th>\n",
       "      <th>C</th>\n",
       "      <th>D</th>\n",
       "      <th>F</th>\n",
       "    </tr>\n",
       "  </thead>\n",
       "  <tbody>\n",
       "    <tr>\n",
       "      <th>2016-01-01</th>\n",
       "      <td>NaN</td>\n",
       "      <td>NaN</td>\n",
       "      <td>NaN</td>\n",
       "      <td>NaN</td>\n",
       "      <td>NaN</td>\n",
       "    </tr>\n",
       "    <tr>\n",
       "      <th>2016-01-02</th>\n",
       "      <td>NaN</td>\n",
       "      <td>NaN</td>\n",
       "      <td>NaN</td>\n",
       "      <td>NaN</td>\n",
       "      <td>NaN</td>\n",
       "    </tr>\n",
       "    <tr>\n",
       "      <th>2016-01-03</th>\n",
       "      <td>-1.541057</td>\n",
       "      <td>-1.397324</td>\n",
       "      <td>-3.580032</td>\n",
       "      <td>4.0</td>\n",
       "      <td>1.0</td>\n",
       "    </tr>\n",
       "    <tr>\n",
       "      <th>2016-01-04</th>\n",
       "      <td>-1.717916</td>\n",
       "      <td>-3.205098</td>\n",
       "      <td>-3.665331</td>\n",
       "      <td>2.0</td>\n",
       "      <td>0.0</td>\n",
       "    </tr>\n",
       "    <tr>\n",
       "      <th>2016-01-05</th>\n",
       "      <td>-6.279960</td>\n",
       "      <td>-4.720568</td>\n",
       "      <td>-3.699226</td>\n",
       "      <td>0.0</td>\n",
       "      <td>-1.0</td>\n",
       "    </tr>\n",
       "    <tr>\n",
       "      <th>2016-01-06</th>\n",
       "      <td>NaN</td>\n",
       "      <td>NaN</td>\n",
       "      <td>NaN</td>\n",
       "      <td>NaN</td>\n",
       "      <td>NaN</td>\n",
       "    </tr>\n",
       "  </tbody>\n",
       "</table>\n",
       "</div>"
      ],
      "text/plain": [
       "                   A         B         C    D    F\n",
       "2016-01-01       NaN       NaN       NaN  NaN  NaN\n",
       "2016-01-02       NaN       NaN       NaN  NaN  NaN\n",
       "2016-01-03 -1.541057 -1.397324 -3.580032  4.0  1.0\n",
       "2016-01-04 -1.717916 -3.205098 -3.665331  2.0  0.0\n",
       "2016-01-05 -6.279960 -4.720568 -3.699226  0.0 -1.0\n",
       "2016-01-06       NaN       NaN       NaN  NaN  NaN"
      ]
     },
     "execution_count": 84,
     "metadata": {},
     "output_type": "execute_result"
    }
   ],
   "source": [
    "df.sub(s,axis='index')"
   ]
  },
  {
   "cell_type": "markdown",
   "metadata": {
    "deletable": true,
    "editable": true
   },
   "source": [
    "### Apply函数\n",
    "\n",
    "这是一个高阶函数，它的参数也是函数，类似于map(),把参数函数作用在数据上。\n",
    "\n",
    "默认作用在一列数据上。"
   ]
  },
  {
   "cell_type": "code",
   "execution_count": 88,
   "metadata": {
    "collapsed": false,
    "deletable": true,
    "editable": true
   },
   "outputs": [
    {
     "data": {
      "text/html": [
       "<div>\n",
       "<table border=\"1\" class=\"dataframe\">\n",
       "  <thead>\n",
       "    <tr style=\"text-align: right;\">\n",
       "      <th></th>\n",
       "      <th>A</th>\n",
       "      <th>B</th>\n",
       "      <th>C</th>\n",
       "      <th>D</th>\n",
       "      <th>F</th>\n",
       "    </tr>\n",
       "  </thead>\n",
       "  <tbody>\n",
       "    <tr>\n",
       "      <th>2016-01-01</th>\n",
       "      <td>0.000000</td>\n",
       "      <td>0.000000</td>\n",
       "      <td>-0.105632</td>\n",
       "      <td>5</td>\n",
       "      <td>NaN</td>\n",
       "    </tr>\n",
       "    <tr>\n",
       "      <th>2016-01-02</th>\n",
       "      <td>-0.523376</td>\n",
       "      <td>-0.150959</td>\n",
       "      <td>0.072854</td>\n",
       "      <td>10</td>\n",
       "      <td>1.0</td>\n",
       "    </tr>\n",
       "    <tr>\n",
       "      <th>2016-01-03</th>\n",
       "      <td>-1.064433</td>\n",
       "      <td>-0.548283</td>\n",
       "      <td>-2.507178</td>\n",
       "      <td>15</td>\n",
       "      <td>3.0</td>\n",
       "    </tr>\n",
       "    <tr>\n",
       "      <th>2016-01-04</th>\n",
       "      <td>0.217651</td>\n",
       "      <td>-0.753381</td>\n",
       "      <td>-3.172509</td>\n",
       "      <td>20</td>\n",
       "      <td>6.0</td>\n",
       "    </tr>\n",
       "    <tr>\n",
       "      <th>2016-01-05</th>\n",
       "      <td>-1.062309</td>\n",
       "      <td>-0.473949</td>\n",
       "      <td>-1.871735</td>\n",
       "      <td>25</td>\n",
       "      <td>10.0</td>\n",
       "    </tr>\n",
       "    <tr>\n",
       "      <th>2016-01-06</th>\n",
       "      <td>-0.392397</td>\n",
       "      <td>-0.301521</td>\n",
       "      <td>-0.891394</td>\n",
       "      <td>30</td>\n",
       "      <td>15.0</td>\n",
       "    </tr>\n",
       "  </tbody>\n",
       "</table>\n",
       "</div>"
      ],
      "text/plain": [
       "                   A         B         C   D     F\n",
       "2016-01-01  0.000000  0.000000 -0.105632   5   NaN\n",
       "2016-01-02 -0.523376 -0.150959  0.072854  10   1.0\n",
       "2016-01-03 -1.064433 -0.548283 -2.507178  15   3.0\n",
       "2016-01-04  0.217651 -0.753381 -3.172509  20   6.0\n",
       "2016-01-05 -1.062309 -0.473949 -1.871735  25  10.0\n",
       "2016-01-06 -0.392397 -0.301521 -0.891394  30  15.0"
      ]
     },
     "execution_count": 88,
     "metadata": {},
     "output_type": "execute_result"
    }
   ],
   "source": [
    "df.apply(np.cumsum)"
   ]
  },
  {
   "cell_type": "code",
   "execution_count": 90,
   "metadata": {
    "collapsed": false,
    "deletable": true,
    "editable": true
   },
   "outputs": [
    {
     "data": {
      "text/plain": [
       "A    2.562044\n",
       "B    0.676756\n",
       "C    3.880806\n",
       "D    0.000000\n",
       "F    4.000000\n",
       "dtype: float64"
      ]
     },
     "execution_count": 90,
     "metadata": {},
     "output_type": "execute_result"
    }
   ],
   "source": [
    "df.apply(lambda x: x.max()-x.min())"
   ]
  },
  {
   "cell_type": "markdown",
   "metadata": {
    "deletable": true,
    "editable": true
   },
   "source": [
    "### 频数统计"
   ]
  },
  {
   "cell_type": "code",
   "execution_count": 91,
   "metadata": {
    "collapsed": false,
    "deletable": true,
    "editable": true
   },
   "outputs": [
    {
     "data": {
      "text/plain": [
       "0    0\n",
       "1    6\n",
       "2    0\n",
       "3    0\n",
       "4    6\n",
       "5    6\n",
       "6    3\n",
       "7    1\n",
       "8    2\n",
       "9    2\n",
       "dtype: int64"
      ]
     },
     "execution_count": 91,
     "metadata": {},
     "output_type": "execute_result"
    }
   ],
   "source": [
    "s = pd.Series(np.random.randint(0,7,size=10))\n",
    "s"
   ]
  },
  {
   "cell_type": "code",
   "execution_count": 92,
   "metadata": {
    "collapsed": false,
    "deletable": true,
    "editable": true
   },
   "outputs": [
    {
     "data": {
      "text/plain": [
       "6    3\n",
       "0    3\n",
       "2    2\n",
       "3    1\n",
       "1    1\n",
       "dtype: int64"
      ]
     },
     "execution_count": 92,
     "metadata": {},
     "output_type": "execute_result"
    }
   ],
   "source": [
    "s.value_counts()"
   ]
  },
  {
   "cell_type": "markdown",
   "metadata": {
    "deletable": true,
    "editable": true
   },
   "source": [
    "### 字符串方法\n",
    "\n",
    "对于Series对象，它的str属性包含一系列的字符串处理方法。\n",
    "\n",
    "就如同下段代码一样，能很方便的对array中各个元素进行运算。值得注意的是，在str属性中的模式匹配默认使用正则表达式。"
   ]
  },
  {
   "cell_type": "code",
   "execution_count": 93,
   "metadata": {
    "collapsed": false,
    "deletable": true,
    "editable": true
   },
   "outputs": [
    {
     "data": {
      "text/plain": [
       "0       a\n",
       "1       b\n",
       "2       c\n",
       "3    aaba\n",
       "4    baca\n",
       "5     NaN\n",
       "6    caba\n",
       "7     dog\n",
       "8     cat\n",
       "dtype: object"
      ]
     },
     "execution_count": 93,
     "metadata": {},
     "output_type": "execute_result"
    }
   ],
   "source": [
    "s = pd.Series(['A', 'B', 'C', 'Aaba', 'Baca', np.nan, 'CABA', 'dog', 'cat'])\n",
    "s.str.lower()"
   ]
  },
  {
   "cell_type": "markdown",
   "metadata": {
    "deletable": true,
    "editable": true
   },
   "source": [
    "## 合并(Merge)\n",
    "\n"
   ]
  },
  {
   "cell_type": "markdown",
   "metadata": {
    "deletable": true,
    "editable": true
   },
   "source": [
    "### Concat 连接\n",
    "\n",
    "pandas中提供了大量的方法能够轻松对Series，DataFrame和Panel对象进行多种逻辑关系的合并操作。\n",
    "\n"
   ]
  },
  {
   "cell_type": "markdown",
   "metadata": {
    "deletable": true,
    "editable": true
   },
   "source": [
    "通过pd.concat()来连接pandas对象："
   ]
  },
  {
   "cell_type": "code",
   "execution_count": 96,
   "metadata": {
    "collapsed": false,
    "deletable": true,
    "editable": true
   },
   "outputs": [
    {
     "data": {
      "text/html": [
       "<div>\n",
       "<table border=\"1\" class=\"dataframe\">\n",
       "  <thead>\n",
       "    <tr style=\"text-align: right;\">\n",
       "      <th></th>\n",
       "      <th>0</th>\n",
       "      <th>1</th>\n",
       "      <th>2</th>\n",
       "      <th>3</th>\n",
       "    </tr>\n",
       "  </thead>\n",
       "  <tbody>\n",
       "    <tr>\n",
       "      <th>0</th>\n",
       "      <td>0.247905</td>\n",
       "      <td>-2.345166</td>\n",
       "      <td>1.252221</td>\n",
       "      <td>0.670462</td>\n",
       "    </tr>\n",
       "    <tr>\n",
       "      <th>1</th>\n",
       "      <td>-0.314595</td>\n",
       "      <td>0.619986</td>\n",
       "      <td>2.421725</td>\n",
       "      <td>0.357492</td>\n",
       "    </tr>\n",
       "    <tr>\n",
       "      <th>2</th>\n",
       "      <td>1.826127</td>\n",
       "      <td>-0.483145</td>\n",
       "      <td>0.655893</td>\n",
       "      <td>-0.627891</td>\n",
       "    </tr>\n",
       "    <tr>\n",
       "      <th>3</th>\n",
       "      <td>0.071736</td>\n",
       "      <td>0.601667</td>\n",
       "      <td>-0.995181</td>\n",
       "      <td>-0.268664</td>\n",
       "    </tr>\n",
       "    <tr>\n",
       "      <th>4</th>\n",
       "      <td>-0.477940</td>\n",
       "      <td>-1.112391</td>\n",
       "      <td>-0.374552</td>\n",
       "      <td>0.058009</td>\n",
       "    </tr>\n",
       "    <tr>\n",
       "      <th>5</th>\n",
       "      <td>-0.781169</td>\n",
       "      <td>1.171458</td>\n",
       "      <td>-0.071877</td>\n",
       "      <td>-0.352357</td>\n",
       "    </tr>\n",
       "    <tr>\n",
       "      <th>6</th>\n",
       "      <td>-0.286301</td>\n",
       "      <td>-0.252232</td>\n",
       "      <td>0.342850</td>\n",
       "      <td>1.783261</td>\n",
       "    </tr>\n",
       "    <tr>\n",
       "      <th>7</th>\n",
       "      <td>1.670887</td>\n",
       "      <td>1.295367</td>\n",
       "      <td>-0.720624</td>\n",
       "      <td>-0.795947</td>\n",
       "    </tr>\n",
       "    <tr>\n",
       "      <th>8</th>\n",
       "      <td>0.174607</td>\n",
       "      <td>0.357461</td>\n",
       "      <td>1.990180</td>\n",
       "      <td>-0.521559</td>\n",
       "    </tr>\n",
       "    <tr>\n",
       "      <th>9</th>\n",
       "      <td>-1.561951</td>\n",
       "      <td>-1.539058</td>\n",
       "      <td>-0.640498</td>\n",
       "      <td>1.416332</td>\n",
       "    </tr>\n",
       "  </tbody>\n",
       "</table>\n",
       "</div>"
      ],
      "text/plain": [
       "          0         1         2         3\n",
       "0  0.247905 -2.345166  1.252221  0.670462\n",
       "1 -0.314595  0.619986  2.421725  0.357492\n",
       "2  1.826127 -0.483145  0.655893 -0.627891\n",
       "3  0.071736  0.601667 -0.995181 -0.268664\n",
       "4 -0.477940 -1.112391 -0.374552  0.058009\n",
       "5 -0.781169  1.171458 -0.071877 -0.352357\n",
       "6 -0.286301 -0.252232  0.342850  1.783261\n",
       "7  1.670887  1.295367 -0.720624 -0.795947\n",
       "8  0.174607  0.357461  1.990180 -0.521559\n",
       "9 -1.561951 -1.539058 -0.640498  1.416332"
      ]
     },
     "execution_count": 96,
     "metadata": {},
     "output_type": "execute_result"
    }
   ],
   "source": [
    "df = pd.DataFrame(np.random.randn(10,4))\n",
    "df"
   ]
  },
  {
   "cell_type": "code",
   "execution_count": 97,
   "metadata": {
    "collapsed": false,
    "deletable": true,
    "editable": true
   },
   "outputs": [
    {
     "data": {
      "text/plain": [
       "[          0         1         2         3\n",
       " 0  0.247905 -2.345166  1.252221  0.670462\n",
       " 1 -0.314595  0.619986  2.421725  0.357492\n",
       " 2  1.826127 -0.483145  0.655893 -0.627891,\n",
       "           0         1         2         3\n",
       " 3  0.071736  0.601667 -0.995181 -0.268664\n",
       " 4 -0.477940 -1.112391 -0.374552  0.058009\n",
       " 5 -0.781169  1.171458 -0.071877 -0.352357\n",
       " 6 -0.286301 -0.252232  0.342850  1.783261,\n",
       "           0         1         2         3\n",
       " 7  1.670887  1.295367 -0.720624 -0.795947\n",
       " 8  0.174607  0.357461  1.990180 -0.521559\n",
       " 9 -1.561951 -1.539058 -0.640498  1.416332]"
      ]
     },
     "execution_count": 97,
     "metadata": {},
     "output_type": "execute_result"
    }
   ],
   "source": [
    "# break it into pieces\n",
    "pieces = [df[:3], df[3:7], df[7:]]\n",
    "pieces"
   ]
  },
  {
   "cell_type": "code",
   "execution_count": 98,
   "metadata": {
    "collapsed": false,
    "deletable": true,
    "editable": true
   },
   "outputs": [
    {
     "data": {
      "text/html": [
       "<div>\n",
       "<table border=\"1\" class=\"dataframe\">\n",
       "  <thead>\n",
       "    <tr style=\"text-align: right;\">\n",
       "      <th></th>\n",
       "      <th>0</th>\n",
       "      <th>1</th>\n",
       "      <th>2</th>\n",
       "      <th>3</th>\n",
       "    </tr>\n",
       "  </thead>\n",
       "  <tbody>\n",
       "    <tr>\n",
       "      <th>0</th>\n",
       "      <td>0.247905</td>\n",
       "      <td>-2.345166</td>\n",
       "      <td>1.252221</td>\n",
       "      <td>0.670462</td>\n",
       "    </tr>\n",
       "    <tr>\n",
       "      <th>1</th>\n",
       "      <td>-0.314595</td>\n",
       "      <td>0.619986</td>\n",
       "      <td>2.421725</td>\n",
       "      <td>0.357492</td>\n",
       "    </tr>\n",
       "    <tr>\n",
       "      <th>2</th>\n",
       "      <td>1.826127</td>\n",
       "      <td>-0.483145</td>\n",
       "      <td>0.655893</td>\n",
       "      <td>-0.627891</td>\n",
       "    </tr>\n",
       "    <tr>\n",
       "      <th>3</th>\n",
       "      <td>0.071736</td>\n",
       "      <td>0.601667</td>\n",
       "      <td>-0.995181</td>\n",
       "      <td>-0.268664</td>\n",
       "    </tr>\n",
       "    <tr>\n",
       "      <th>4</th>\n",
       "      <td>-0.477940</td>\n",
       "      <td>-1.112391</td>\n",
       "      <td>-0.374552</td>\n",
       "      <td>0.058009</td>\n",
       "    </tr>\n",
       "    <tr>\n",
       "      <th>5</th>\n",
       "      <td>-0.781169</td>\n",
       "      <td>1.171458</td>\n",
       "      <td>-0.071877</td>\n",
       "      <td>-0.352357</td>\n",
       "    </tr>\n",
       "    <tr>\n",
       "      <th>6</th>\n",
       "      <td>-0.286301</td>\n",
       "      <td>-0.252232</td>\n",
       "      <td>0.342850</td>\n",
       "      <td>1.783261</td>\n",
       "    </tr>\n",
       "    <tr>\n",
       "      <th>7</th>\n",
       "      <td>1.670887</td>\n",
       "      <td>1.295367</td>\n",
       "      <td>-0.720624</td>\n",
       "      <td>-0.795947</td>\n",
       "    </tr>\n",
       "    <tr>\n",
       "      <th>8</th>\n",
       "      <td>0.174607</td>\n",
       "      <td>0.357461</td>\n",
       "      <td>1.990180</td>\n",
       "      <td>-0.521559</td>\n",
       "    </tr>\n",
       "    <tr>\n",
       "      <th>9</th>\n",
       "      <td>-1.561951</td>\n",
       "      <td>-1.539058</td>\n",
       "      <td>-0.640498</td>\n",
       "      <td>1.416332</td>\n",
       "    </tr>\n",
       "  </tbody>\n",
       "</table>\n",
       "</div>"
      ],
      "text/plain": [
       "          0         1         2         3\n",
       "0  0.247905 -2.345166  1.252221  0.670462\n",
       "1 -0.314595  0.619986  2.421725  0.357492\n",
       "2  1.826127 -0.483145  0.655893 -0.627891\n",
       "3  0.071736  0.601667 -0.995181 -0.268664\n",
       "4 -0.477940 -1.112391 -0.374552  0.058009\n",
       "5 -0.781169  1.171458 -0.071877 -0.352357\n",
       "6 -0.286301 -0.252232  0.342850  1.783261\n",
       "7  1.670887  1.295367 -0.720624 -0.795947\n",
       "8  0.174607  0.357461  1.990180 -0.521559\n",
       "9 -1.561951 -1.539058 -0.640498  1.416332"
      ]
     },
     "execution_count": 98,
     "metadata": {},
     "output_type": "execute_result"
    }
   ],
   "source": [
    "pd.concat(pieces)"
   ]
  },
  {
   "cell_type": "markdown",
   "metadata": {
    "deletable": true,
    "editable": true
   },
   "source": [
    "### Join 合并\n",
    "\n",
    "类似于SQL中的合并(merge)"
   ]
  },
  {
   "cell_type": "code",
   "execution_count": 99,
   "metadata": {
    "collapsed": false,
    "deletable": true,
    "editable": true
   },
   "outputs": [
    {
     "data": {
      "text/html": [
       "<div>\n",
       "<table border=\"1\" class=\"dataframe\">\n",
       "  <thead>\n",
       "    <tr style=\"text-align: right;\">\n",
       "      <th></th>\n",
       "      <th>key</th>\n",
       "      <th>lval</th>\n",
       "    </tr>\n",
       "  </thead>\n",
       "  <tbody>\n",
       "    <tr>\n",
       "      <th>0</th>\n",
       "      <td>foo</td>\n",
       "      <td>1</td>\n",
       "    </tr>\n",
       "    <tr>\n",
       "      <th>1</th>\n",
       "      <td>foo</td>\n",
       "      <td>2</td>\n",
       "    </tr>\n",
       "  </tbody>\n",
       "</table>\n",
       "</div>"
      ],
      "text/plain": [
       "   key  lval\n",
       "0  foo     1\n",
       "1  foo     2"
      ]
     },
     "execution_count": 99,
     "metadata": {},
     "output_type": "execute_result"
    }
   ],
   "source": [
    "left = pd.DataFrame({'key':['foo','foo'],'lval':[1,2]})\n",
    "left"
   ]
  },
  {
   "cell_type": "code",
   "execution_count": 100,
   "metadata": {
    "collapsed": false,
    "deletable": true,
    "editable": true
   },
   "outputs": [
    {
     "data": {
      "text/html": [
       "<div>\n",
       "<table border=\"1\" class=\"dataframe\">\n",
       "  <thead>\n",
       "    <tr style=\"text-align: right;\">\n",
       "      <th></th>\n",
       "      <th>key</th>\n",
       "      <th>lval</th>\n",
       "    </tr>\n",
       "  </thead>\n",
       "  <tbody>\n",
       "    <tr>\n",
       "      <th>0</th>\n",
       "      <td>foo</td>\n",
       "      <td>4</td>\n",
       "    </tr>\n",
       "    <tr>\n",
       "      <th>1</th>\n",
       "      <td>foo</td>\n",
       "      <td>5</td>\n",
       "    </tr>\n",
       "  </tbody>\n",
       "</table>\n",
       "</div>"
      ],
      "text/plain": [
       "   key  lval\n",
       "0  foo     4\n",
       "1  foo     5"
      ]
     },
     "execution_count": 100,
     "metadata": {},
     "output_type": "execute_result"
    }
   ],
   "source": [
    "right = pd.DataFrame({'key':['foo','foo'],'lval':[4,5]})\n",
    "right"
   ]
  },
  {
   "cell_type": "code",
   "execution_count": 101,
   "metadata": {
    "collapsed": false,
    "deletable": true,
    "editable": true
   },
   "outputs": [
    {
     "data": {
      "text/html": [
       "<div>\n",
       "<table border=\"1\" class=\"dataframe\">\n",
       "  <thead>\n",
       "    <tr style=\"text-align: right;\">\n",
       "      <th></th>\n",
       "      <th>key</th>\n",
       "      <th>lval_x</th>\n",
       "      <th>lval_y</th>\n",
       "    </tr>\n",
       "  </thead>\n",
       "  <tbody>\n",
       "    <tr>\n",
       "      <th>0</th>\n",
       "      <td>foo</td>\n",
       "      <td>1</td>\n",
       "      <td>4</td>\n",
       "    </tr>\n",
       "    <tr>\n",
       "      <th>1</th>\n",
       "      <td>foo</td>\n",
       "      <td>1</td>\n",
       "      <td>5</td>\n",
       "    </tr>\n",
       "    <tr>\n",
       "      <th>2</th>\n",
       "      <td>foo</td>\n",
       "      <td>2</td>\n",
       "      <td>4</td>\n",
       "    </tr>\n",
       "    <tr>\n",
       "      <th>3</th>\n",
       "      <td>foo</td>\n",
       "      <td>2</td>\n",
       "      <td>5</td>\n",
       "    </tr>\n",
       "  </tbody>\n",
       "</table>\n",
       "</div>"
      ],
      "text/plain": [
       "   key  lval_x  lval_y\n",
       "0  foo       1       4\n",
       "1  foo       1       5\n",
       "2  foo       2       4\n",
       "3  foo       2       5"
      ]
     },
     "execution_count": 101,
     "metadata": {},
     "output_type": "execute_result"
    }
   ],
   "source": [
    "pd.merge(left, right, on='key')"
   ]
  },
  {
   "cell_type": "markdown",
   "metadata": {
    "deletable": true,
    "editable": true
   },
   "source": [
    "pd.merge()的另一个例子："
   ]
  },
  {
   "cell_type": "code",
   "execution_count": 102,
   "metadata": {
    "collapsed": false,
    "deletable": true,
    "editable": true
   },
   "outputs": [
    {
     "data": {
      "text/html": [
       "<div>\n",
       "<table border=\"1\" class=\"dataframe\">\n",
       "  <thead>\n",
       "    <tr style=\"text-align: right;\">\n",
       "      <th></th>\n",
       "      <th>key</th>\n",
       "      <th>lval</th>\n",
       "    </tr>\n",
       "  </thead>\n",
       "  <tbody>\n",
       "    <tr>\n",
       "      <th>0</th>\n",
       "      <td>foo</td>\n",
       "      <td>1</td>\n",
       "    </tr>\n",
       "    <tr>\n",
       "      <th>1</th>\n",
       "      <td>bar</td>\n",
       "      <td>2</td>\n",
       "    </tr>\n",
       "  </tbody>\n",
       "</table>\n",
       "</div>"
      ],
      "text/plain": [
       "   key  lval\n",
       "0  foo     1\n",
       "1  bar     2"
      ]
     },
     "execution_count": 102,
     "metadata": {},
     "output_type": "execute_result"
    }
   ],
   "source": [
    "left = pd.DataFrame({'key': ['foo', 'bar'], 'lval': [1, 2]})\n",
    "left"
   ]
  },
  {
   "cell_type": "code",
   "execution_count": 103,
   "metadata": {
    "collapsed": false,
    "deletable": true,
    "editable": true
   },
   "outputs": [
    {
     "data": {
      "text/html": [
       "<div>\n",
       "<table border=\"1\" class=\"dataframe\">\n",
       "  <thead>\n",
       "    <tr style=\"text-align: right;\">\n",
       "      <th></th>\n",
       "      <th>key</th>\n",
       "      <th>rval</th>\n",
       "    </tr>\n",
       "  </thead>\n",
       "  <tbody>\n",
       "    <tr>\n",
       "      <th>0</th>\n",
       "      <td>foo</td>\n",
       "      <td>4</td>\n",
       "    </tr>\n",
       "    <tr>\n",
       "      <th>1</th>\n",
       "      <td>bar</td>\n",
       "      <td>5</td>\n",
       "    </tr>\n",
       "  </tbody>\n",
       "</table>\n",
       "</div>"
      ],
      "text/plain": [
       "   key  rval\n",
       "0  foo     4\n",
       "1  bar     5"
      ]
     },
     "execution_count": 103,
     "metadata": {},
     "output_type": "execute_result"
    }
   ],
   "source": [
    "right = pd.DataFrame({'key': ['foo', 'bar'], 'rval': [4, 5]})\n",
    "right"
   ]
  },
  {
   "cell_type": "code",
   "execution_count": 104,
   "metadata": {
    "collapsed": false,
    "deletable": true,
    "editable": true
   },
   "outputs": [
    {
     "data": {
      "text/html": [
       "<div>\n",
       "<table border=\"1\" class=\"dataframe\">\n",
       "  <thead>\n",
       "    <tr style=\"text-align: right;\">\n",
       "      <th></th>\n",
       "      <th>key</th>\n",
       "      <th>lval</th>\n",
       "      <th>rval</th>\n",
       "    </tr>\n",
       "  </thead>\n",
       "  <tbody>\n",
       "    <tr>\n",
       "      <th>0</th>\n",
       "      <td>foo</td>\n",
       "      <td>1</td>\n",
       "      <td>4</td>\n",
       "    </tr>\n",
       "    <tr>\n",
       "      <th>1</th>\n",
       "      <td>bar</td>\n",
       "      <td>2</td>\n",
       "      <td>5</td>\n",
       "    </tr>\n",
       "  </tbody>\n",
       "</table>\n",
       "</div>"
      ],
      "text/plain": [
       "   key  lval  rval\n",
       "0  foo     1     4\n",
       "1  bar     2     5"
      ]
     },
     "execution_count": 104,
     "metadata": {},
     "output_type": "execute_result"
    }
   ],
   "source": [
    "pd.merge(left, right, on='key')"
   ]
  },
  {
   "cell_type": "markdown",
   "metadata": {
    "deletable": true,
    "editable": true
   },
   "source": [
    "### Append 添加\n",
    "\n",
    "将若干行添加到dataFrame"
   ]
  },
  {
   "cell_type": "code",
   "execution_count": 105,
   "metadata": {
    "collapsed": false,
    "deletable": true,
    "editable": true
   },
   "outputs": [
    {
     "data": {
      "text/html": [
       "<div>\n",
       "<table border=\"1\" class=\"dataframe\">\n",
       "  <thead>\n",
       "    <tr style=\"text-align: right;\">\n",
       "      <th></th>\n",
       "      <th>A</th>\n",
       "      <th>B</th>\n",
       "      <th>C</th>\n",
       "      <th>D</th>\n",
       "    </tr>\n",
       "  </thead>\n",
       "  <tbody>\n",
       "    <tr>\n",
       "      <th>0</th>\n",
       "      <td>0.222672</td>\n",
       "      <td>0.443049</td>\n",
       "      <td>-1.257127</td>\n",
       "      <td>0.736807</td>\n",
       "    </tr>\n",
       "    <tr>\n",
       "      <th>1</th>\n",
       "      <td>-0.375083</td>\n",
       "      <td>-0.024848</td>\n",
       "      <td>-0.976872</td>\n",
       "      <td>-0.605654</td>\n",
       "    </tr>\n",
       "    <tr>\n",
       "      <th>2</th>\n",
       "      <td>-0.685383</td>\n",
       "      <td>0.229636</td>\n",
       "      <td>-0.970260</td>\n",
       "      <td>2.517385</td>\n",
       "    </tr>\n",
       "    <tr>\n",
       "      <th>3</th>\n",
       "      <td>-0.255183</td>\n",
       "      <td>-0.482105</td>\n",
       "      <td>0.703707</td>\n",
       "      <td>0.069610</td>\n",
       "    </tr>\n",
       "    <tr>\n",
       "      <th>4</th>\n",
       "      <td>-0.128585</td>\n",
       "      <td>2.153157</td>\n",
       "      <td>-1.720873</td>\n",
       "      <td>-0.598394</td>\n",
       "    </tr>\n",
       "    <tr>\n",
       "      <th>5</th>\n",
       "      <td>0.629814</td>\n",
       "      <td>-0.916473</td>\n",
       "      <td>0.264643</td>\n",
       "      <td>-0.412704</td>\n",
       "    </tr>\n",
       "    <tr>\n",
       "      <th>6</th>\n",
       "      <td>0.636748</td>\n",
       "      <td>0.450428</td>\n",
       "      <td>-0.665539</td>\n",
       "      <td>-0.608706</td>\n",
       "    </tr>\n",
       "    <tr>\n",
       "      <th>7</th>\n",
       "      <td>0.767546</td>\n",
       "      <td>-0.706155</td>\n",
       "      <td>0.594495</td>\n",
       "      <td>-0.213454</td>\n",
       "    </tr>\n",
       "  </tbody>\n",
       "</table>\n",
       "</div>"
      ],
      "text/plain": [
       "          A         B         C         D\n",
       "0  0.222672  0.443049 -1.257127  0.736807\n",
       "1 -0.375083 -0.024848 -0.976872 -0.605654\n",
       "2 -0.685383  0.229636 -0.970260  2.517385\n",
       "3 -0.255183 -0.482105  0.703707  0.069610\n",
       "4 -0.128585  2.153157 -1.720873 -0.598394\n",
       "5  0.629814 -0.916473  0.264643 -0.412704\n",
       "6  0.636748  0.450428 -0.665539 -0.608706\n",
       "7  0.767546 -0.706155  0.594495 -0.213454"
      ]
     },
     "execution_count": 105,
     "metadata": {},
     "output_type": "execute_result"
    }
   ],
   "source": [
    "df =pd.DataFrame(np.random.randn(8,4),columns=['A','B','C','D'])\n",
    "df"
   ]
  },
  {
   "cell_type": "code",
   "execution_count": 106,
   "metadata": {
    "collapsed": false,
    "deletable": true,
    "editable": true
   },
   "outputs": [
    {
     "data": {
      "text/plain": [
       "A   -0.255183\n",
       "B   -0.482105\n",
       "C    0.703707\n",
       "D    0.069610\n",
       "Name: 3, dtype: float64"
      ]
     },
     "execution_count": 106,
     "metadata": {},
     "output_type": "execute_result"
    }
   ],
   "source": [
    "s = df.iloc[3]\n",
    "s"
   ]
  },
  {
   "cell_type": "code",
   "execution_count": 107,
   "metadata": {
    "collapsed": false,
    "deletable": true,
    "editable": true
   },
   "outputs": [
    {
     "data": {
      "text/html": [
       "<div>\n",
       "<table border=\"1\" class=\"dataframe\">\n",
       "  <thead>\n",
       "    <tr style=\"text-align: right;\">\n",
       "      <th></th>\n",
       "      <th>A</th>\n",
       "      <th>B</th>\n",
       "      <th>C</th>\n",
       "      <th>D</th>\n",
       "    </tr>\n",
       "  </thead>\n",
       "  <tbody>\n",
       "    <tr>\n",
       "      <th>0</th>\n",
       "      <td>0.222672</td>\n",
       "      <td>0.443049</td>\n",
       "      <td>-1.257127</td>\n",
       "      <td>0.736807</td>\n",
       "    </tr>\n",
       "    <tr>\n",
       "      <th>1</th>\n",
       "      <td>-0.375083</td>\n",
       "      <td>-0.024848</td>\n",
       "      <td>-0.976872</td>\n",
       "      <td>-0.605654</td>\n",
       "    </tr>\n",
       "    <tr>\n",
       "      <th>2</th>\n",
       "      <td>-0.685383</td>\n",
       "      <td>0.229636</td>\n",
       "      <td>-0.970260</td>\n",
       "      <td>2.517385</td>\n",
       "    </tr>\n",
       "    <tr>\n",
       "      <th>3</th>\n",
       "      <td>-0.255183</td>\n",
       "      <td>-0.482105</td>\n",
       "      <td>0.703707</td>\n",
       "      <td>0.069610</td>\n",
       "    </tr>\n",
       "    <tr>\n",
       "      <th>4</th>\n",
       "      <td>-0.128585</td>\n",
       "      <td>2.153157</td>\n",
       "      <td>-1.720873</td>\n",
       "      <td>-0.598394</td>\n",
       "    </tr>\n",
       "    <tr>\n",
       "      <th>5</th>\n",
       "      <td>0.629814</td>\n",
       "      <td>-0.916473</td>\n",
       "      <td>0.264643</td>\n",
       "      <td>-0.412704</td>\n",
       "    </tr>\n",
       "    <tr>\n",
       "      <th>6</th>\n",
       "      <td>0.636748</td>\n",
       "      <td>0.450428</td>\n",
       "      <td>-0.665539</td>\n",
       "      <td>-0.608706</td>\n",
       "    </tr>\n",
       "    <tr>\n",
       "      <th>7</th>\n",
       "      <td>0.767546</td>\n",
       "      <td>-0.706155</td>\n",
       "      <td>0.594495</td>\n",
       "      <td>-0.213454</td>\n",
       "    </tr>\n",
       "    <tr>\n",
       "      <th>8</th>\n",
       "      <td>-0.255183</td>\n",
       "      <td>-0.482105</td>\n",
       "      <td>0.703707</td>\n",
       "      <td>0.069610</td>\n",
       "    </tr>\n",
       "  </tbody>\n",
       "</table>\n",
       "</div>"
      ],
      "text/plain": [
       "          A         B         C         D\n",
       "0  0.222672  0.443049 -1.257127  0.736807\n",
       "1 -0.375083 -0.024848 -0.976872 -0.605654\n",
       "2 -0.685383  0.229636 -0.970260  2.517385\n",
       "3 -0.255183 -0.482105  0.703707  0.069610\n",
       "4 -0.128585  2.153157 -1.720873 -0.598394\n",
       "5  0.629814 -0.916473  0.264643 -0.412704\n",
       "6  0.636748  0.450428 -0.665539 -0.608706\n",
       "7  0.767546 -0.706155  0.594495 -0.213454\n",
       "8 -0.255183 -0.482105  0.703707  0.069610"
      ]
     },
     "execution_count": 107,
     "metadata": {},
     "output_type": "execute_result"
    }
   ],
   "source": [
    "df.append(s,ignore_index=True)"
   ]
  },
  {
   "cell_type": "markdown",
   "metadata": {
    "deletable": true,
    "editable": true
   },
   "source": [
    "## group(分组)\n",
    "\n",
    "group by 操作过程如下: \n",
    "\n",
    "* **划分** 按照某些标准将数据分为不同的组\n",
    "* **应用** 对每组数据分别应用某个函数\n",
    "* **划分** 将结果组合到一个新的数据结构"
   ]
  },
  {
   "cell_type": "code",
   "execution_count": 108,
   "metadata": {
    "collapsed": false,
    "deletable": true,
    "editable": true
   },
   "outputs": [
    {
     "data": {
      "text/html": [
       "<div>\n",
       "<table border=\"1\" class=\"dataframe\">\n",
       "  <thead>\n",
       "    <tr style=\"text-align: right;\">\n",
       "      <th></th>\n",
       "      <th>A</th>\n",
       "      <th>B</th>\n",
       "      <th>C</th>\n",
       "      <th>D</th>\n",
       "    </tr>\n",
       "  </thead>\n",
       "  <tbody>\n",
       "    <tr>\n",
       "      <th>0</th>\n",
       "      <td>foo</td>\n",
       "      <td>one</td>\n",
       "      <td>1.389706</td>\n",
       "      <td>0.194864</td>\n",
       "    </tr>\n",
       "    <tr>\n",
       "      <th>1</th>\n",
       "      <td>bar</td>\n",
       "      <td>one</td>\n",
       "      <td>1.068122</td>\n",
       "      <td>0.548799</td>\n",
       "    </tr>\n",
       "    <tr>\n",
       "      <th>2</th>\n",
       "      <td>foo</td>\n",
       "      <td>two</td>\n",
       "      <td>-1.772096</td>\n",
       "      <td>0.656627</td>\n",
       "    </tr>\n",
       "    <tr>\n",
       "      <th>3</th>\n",
       "      <td>bar</td>\n",
       "      <td>three</td>\n",
       "      <td>-0.784895</td>\n",
       "      <td>-0.971999</td>\n",
       "    </tr>\n",
       "    <tr>\n",
       "      <th>4</th>\n",
       "      <td>foo</td>\n",
       "      <td>two</td>\n",
       "      <td>-1.601806</td>\n",
       "      <td>-0.986536</td>\n",
       "    </tr>\n",
       "    <tr>\n",
       "      <th>5</th>\n",
       "      <td>bar</td>\n",
       "      <td>two</td>\n",
       "      <td>-0.778508</td>\n",
       "      <td>-3.408366</td>\n",
       "    </tr>\n",
       "    <tr>\n",
       "      <th>6</th>\n",
       "      <td>foo</td>\n",
       "      <td>one</td>\n",
       "      <td>0.251064</td>\n",
       "      <td>-0.144214</td>\n",
       "    </tr>\n",
       "    <tr>\n",
       "      <th>7</th>\n",
       "      <td>bar</td>\n",
       "      <td>three</td>\n",
       "      <td>0.180176</td>\n",
       "      <td>0.669016</td>\n",
       "    </tr>\n",
       "  </tbody>\n",
       "</table>\n",
       "</div>"
      ],
      "text/plain": [
       "     A      B         C         D\n",
       "0  foo    one  1.389706  0.194864\n",
       "1  bar    one  1.068122  0.548799\n",
       "2  foo    two -1.772096  0.656627\n",
       "3  bar  three -0.784895 -0.971999\n",
       "4  foo    two -1.601806 -0.986536\n",
       "5  bar    two -0.778508 -3.408366\n",
       "6  foo    one  0.251064 -0.144214\n",
       "7  bar  three  0.180176  0.669016"
      ]
     },
     "execution_count": 108,
     "metadata": {},
     "output_type": "execute_result"
    }
   ],
   "source": [
    "df = pd.DataFrame({'A' : ['foo', 'bar', 'foo', 'bar', \n",
    "                          'foo', 'bar', 'foo', 'bar'],\n",
    "                   'B' : ['one', 'one', 'two', 'three', \n",
    "                          'two', 'two', 'one', 'three'],\n",
    "                   'C' : np.random.randn(8),\n",
    "                   'D' : np.random.randn(8)})\n",
    "df"
   ]
  },
  {
   "cell_type": "markdown",
   "metadata": {
    "deletable": true,
    "editable": true
   },
   "source": [
    "分组并对每个分组应用sum函数"
   ]
  },
  {
   "cell_type": "code",
   "execution_count": 109,
   "metadata": {
    "collapsed": false,
    "deletable": true,
    "editable": true
   },
   "outputs": [
    {
     "data": {
      "text/html": [
       "<div>\n",
       "<table border=\"1\" class=\"dataframe\">\n",
       "  <thead>\n",
       "    <tr style=\"text-align: right;\">\n",
       "      <th></th>\n",
       "      <th>C</th>\n",
       "      <th>D</th>\n",
       "    </tr>\n",
       "    <tr>\n",
       "      <th>A</th>\n",
       "      <th></th>\n",
       "      <th></th>\n",
       "    </tr>\n",
       "  </thead>\n",
       "  <tbody>\n",
       "    <tr>\n",
       "      <th>bar</th>\n",
       "      <td>-0.315105</td>\n",
       "      <td>-3.162549</td>\n",
       "    </tr>\n",
       "    <tr>\n",
       "      <th>foo</th>\n",
       "      <td>-1.733133</td>\n",
       "      <td>-0.279259</td>\n",
       "    </tr>\n",
       "  </tbody>\n",
       "</table>\n",
       "</div>"
      ],
      "text/plain": [
       "            C         D\n",
       "A                      \n",
       "bar -0.315105 -3.162549\n",
       "foo -1.733133 -0.279259"
      ]
     },
     "execution_count": 109,
     "metadata": {},
     "output_type": "execute_result"
    }
   ],
   "source": [
    "df.groupby('A').sum()"
   ]
  },
  {
   "cell_type": "markdown",
   "metadata": {
    "deletable": true,
    "editable": true
   },
   "source": [
    "按多个column分组形成层级index，然后应用sun函数"
   ]
  },
  {
   "cell_type": "code",
   "execution_count": 110,
   "metadata": {
    "collapsed": false,
    "deletable": true,
    "editable": true
   },
   "outputs": [
    {
     "data": {
      "text/html": [
       "<div>\n",
       "<table border=\"1\" class=\"dataframe\">\n",
       "  <thead>\n",
       "    <tr style=\"text-align: right;\">\n",
       "      <th></th>\n",
       "      <th></th>\n",
       "      <th>C</th>\n",
       "      <th>D</th>\n",
       "    </tr>\n",
       "    <tr>\n",
       "      <th>A</th>\n",
       "      <th>B</th>\n",
       "      <th></th>\n",
       "      <th></th>\n",
       "    </tr>\n",
       "  </thead>\n",
       "  <tbody>\n",
       "    <tr>\n",
       "      <th rowspan=\"3\" valign=\"top\">bar</th>\n",
       "      <th>one</th>\n",
       "      <td>1.068122</td>\n",
       "      <td>0.548799</td>\n",
       "    </tr>\n",
       "    <tr>\n",
       "      <th>three</th>\n",
       "      <td>-0.604719</td>\n",
       "      <td>-0.302983</td>\n",
       "    </tr>\n",
       "    <tr>\n",
       "      <th>two</th>\n",
       "      <td>-0.778508</td>\n",
       "      <td>-3.408366</td>\n",
       "    </tr>\n",
       "    <tr>\n",
       "      <th rowspan=\"2\" valign=\"top\">foo</th>\n",
       "      <th>one</th>\n",
       "      <td>1.640770</td>\n",
       "      <td>0.050650</td>\n",
       "    </tr>\n",
       "    <tr>\n",
       "      <th>two</th>\n",
       "      <td>-3.373903</td>\n",
       "      <td>-0.329909</td>\n",
       "    </tr>\n",
       "  </tbody>\n",
       "</table>\n",
       "</div>"
      ],
      "text/plain": [
       "                  C         D\n",
       "A   B                        \n",
       "bar one    1.068122  0.548799\n",
       "    three -0.604719 -0.302983\n",
       "    two   -0.778508 -3.408366\n",
       "foo one    1.640770  0.050650\n",
       "    two   -3.373903 -0.329909"
      ]
     },
     "execution_count": 110,
     "metadata": {},
     "output_type": "execute_result"
    }
   ],
   "source": [
    "df.groupby(['A','B']).sum()"
   ]
  },
  {
   "cell_type": "markdown",
   "metadata": {
    "deletable": true,
    "editable": true
   },
   "source": [
    "## reshape(变形)\n",
    "\n"
   ]
  },
  {
   "cell_type": "markdown",
   "metadata": {
    "deletable": true,
    "editable": true
   },
   "source": [
    "### stack"
   ]
  },
  {
   "cell_type": "code",
   "execution_count": 112,
   "metadata": {
    "collapsed": false,
    "deletable": true,
    "editable": true
   },
   "outputs": [
    {
     "data": {
      "text/plain": [
       "[('bar', 'one'),\n",
       " ('bar', 'two'),\n",
       " ('baz', 'one'),\n",
       " ('baz', 'two'),\n",
       " ('foo', 'one'),\n",
       " ('foo', 'two'),\n",
       " ('qux', 'one'),\n",
       " ('qux', 'two')]"
      ]
     },
     "execution_count": 112,
     "metadata": {},
     "output_type": "execute_result"
    }
   ],
   "source": [
    "tuples = list(zip(*[['bar', 'bar', 'baz', 'baz',\n",
    "                     'foo', 'foo', 'qux', 'qux'],\n",
    "                    ['one', 'two', 'one', 'two',\n",
    "                     'one', 'two', 'one', 'two']]))\n",
    "tuples\n"
   ]
  },
  {
   "cell_type": "code",
   "execution_count": 113,
   "metadata": {
    "collapsed": false,
    "deletable": true,
    "editable": true
   },
   "outputs": [
    {
     "data": {
      "text/html": [
       "<div>\n",
       "<table border=\"1\" class=\"dataframe\">\n",
       "  <thead>\n",
       "    <tr style=\"text-align: right;\">\n",
       "      <th></th>\n",
       "      <th></th>\n",
       "      <th>A</th>\n",
       "      <th>B</th>\n",
       "    </tr>\n",
       "    <tr>\n",
       "      <th>first</th>\n",
       "      <th>second</th>\n",
       "      <th></th>\n",
       "      <th></th>\n",
       "    </tr>\n",
       "  </thead>\n",
       "  <tbody>\n",
       "    <tr>\n",
       "      <th rowspan=\"2\" valign=\"top\">bar</th>\n",
       "      <th>one</th>\n",
       "      <td>-0.678641</td>\n",
       "      <td>0.196709</td>\n",
       "    </tr>\n",
       "    <tr>\n",
       "      <th>two</th>\n",
       "      <td>0.414739</td>\n",
       "      <td>-1.874639</td>\n",
       "    </tr>\n",
       "    <tr>\n",
       "      <th rowspan=\"2\" valign=\"top\">baz</th>\n",
       "      <th>one</th>\n",
       "      <td>0.526168</td>\n",
       "      <td>-0.586098</td>\n",
       "    </tr>\n",
       "    <tr>\n",
       "      <th>two</th>\n",
       "      <td>-0.794330</td>\n",
       "      <td>0.621687</td>\n",
       "    </tr>\n",
       "  </tbody>\n",
       "</table>\n",
       "</div>"
      ],
      "text/plain": [
       "                     A         B\n",
       "first second                    \n",
       "bar   one    -0.678641  0.196709\n",
       "      two     0.414739 -1.874639\n",
       "baz   one     0.526168 -0.586098\n",
       "      two    -0.794330  0.621687"
      ]
     },
     "execution_count": 113,
     "metadata": {},
     "output_type": "execute_result"
    }
   ],
   "source": [
    "index = pd.MultiIndex.from_tuples(tuples,names=['first', 'second'])\n",
    "df = pd.DataFrame(np.random.randn(8, 2), index=index, columns=['A', 'B'])\n",
    "\n",
    "df2 = df[:4]\n",
    "df2"
   ]
  },
  {
   "cell_type": "markdown",
   "metadata": {
    "deletable": true,
    "editable": true
   },
   "source": [
    "**stack()**方法对DataFrame的列“压缩”一个层级"
   ]
  },
  {
   "cell_type": "code",
   "execution_count": 114,
   "metadata": {
    "collapsed": false,
    "deletable": true,
    "editable": true
   },
   "outputs": [
    {
     "data": {
      "text/plain": [
       "first  second   \n",
       "bar    one     A   -0.678641\n",
       "               B    0.196709\n",
       "       two     A    0.414739\n",
       "               B   -1.874639\n",
       "baz    one     A    0.526168\n",
       "               B   -0.586098\n",
       "       two     A   -0.794330\n",
       "               B    0.621687\n",
       "dtype: float64"
      ]
     },
     "execution_count": 114,
     "metadata": {},
     "output_type": "execute_result"
    }
   ],
   "source": [
    "stacked = df2.stack()\n",
    "stacked"
   ]
  },
  {
   "cell_type": "markdown",
   "metadata": {
    "deletable": true,
    "editable": true
   },
   "source": [
    "对于一个“stacked” DataFrame或者Series（拥有MultiIndex作为索引），**stack()**的逆操作是**unstack()**，默认反堆叠到上一个层级"
   ]
  },
  {
   "cell_type": "code",
   "execution_count": 115,
   "metadata": {
    "collapsed": false,
    "deletable": true,
    "editable": true
   },
   "outputs": [
    {
     "data": {
      "text/html": [
       "<div>\n",
       "<table border=\"1\" class=\"dataframe\">\n",
       "  <thead>\n",
       "    <tr style=\"text-align: right;\">\n",
       "      <th></th>\n",
       "      <th></th>\n",
       "      <th>A</th>\n",
       "      <th>B</th>\n",
       "    </tr>\n",
       "    <tr>\n",
       "      <th>first</th>\n",
       "      <th>second</th>\n",
       "      <th></th>\n",
       "      <th></th>\n",
       "    </tr>\n",
       "  </thead>\n",
       "  <tbody>\n",
       "    <tr>\n",
       "      <th rowspan=\"2\" valign=\"top\">bar</th>\n",
       "      <th>one</th>\n",
       "      <td>-0.678641</td>\n",
       "      <td>0.196709</td>\n",
       "    </tr>\n",
       "    <tr>\n",
       "      <th>two</th>\n",
       "      <td>0.414739</td>\n",
       "      <td>-1.874639</td>\n",
       "    </tr>\n",
       "    <tr>\n",
       "      <th rowspan=\"2\" valign=\"top\">baz</th>\n",
       "      <th>one</th>\n",
       "      <td>0.526168</td>\n",
       "      <td>-0.586098</td>\n",
       "    </tr>\n",
       "    <tr>\n",
       "      <th>two</th>\n",
       "      <td>-0.794330</td>\n",
       "      <td>0.621687</td>\n",
       "    </tr>\n",
       "  </tbody>\n",
       "</table>\n",
       "</div>"
      ],
      "text/plain": [
       "                     A         B\n",
       "first second                    \n",
       "bar   one    -0.678641  0.196709\n",
       "      two     0.414739 -1.874639\n",
       "baz   one     0.526168 -0.586098\n",
       "      two    -0.794330  0.621687"
      ]
     },
     "execution_count": 115,
     "metadata": {},
     "output_type": "execute_result"
    }
   ],
   "source": [
    "stacked.unstack()"
   ]
  },
  {
   "cell_type": "code",
   "execution_count": 116,
   "metadata": {
    "collapsed": false,
    "deletable": true,
    "editable": true
   },
   "outputs": [
    {
     "data": {
      "text/html": [
       "<div>\n",
       "<table border=\"1\" class=\"dataframe\">\n",
       "  <thead>\n",
       "    <tr style=\"text-align: right;\">\n",
       "      <th></th>\n",
       "      <th>second</th>\n",
       "      <th>one</th>\n",
       "      <th>two</th>\n",
       "    </tr>\n",
       "    <tr>\n",
       "      <th>first</th>\n",
       "      <th></th>\n",
       "      <th></th>\n",
       "      <th></th>\n",
       "    </tr>\n",
       "  </thead>\n",
       "  <tbody>\n",
       "    <tr>\n",
       "      <th rowspan=\"2\" valign=\"top\">bar</th>\n",
       "      <th>A</th>\n",
       "      <td>-0.678641</td>\n",
       "      <td>0.414739</td>\n",
       "    </tr>\n",
       "    <tr>\n",
       "      <th>B</th>\n",
       "      <td>0.196709</td>\n",
       "      <td>-1.874639</td>\n",
       "    </tr>\n",
       "    <tr>\n",
       "      <th rowspan=\"2\" valign=\"top\">baz</th>\n",
       "      <th>A</th>\n",
       "      <td>0.526168</td>\n",
       "      <td>-0.794330</td>\n",
       "    </tr>\n",
       "    <tr>\n",
       "      <th>B</th>\n",
       "      <td>-0.586098</td>\n",
       "      <td>0.621687</td>\n",
       "    </tr>\n",
       "  </tbody>\n",
       "</table>\n",
       "</div>"
      ],
      "text/plain": [
       "second        one       two\n",
       "first                      \n",
       "bar   A -0.678641  0.414739\n",
       "      B  0.196709 -1.874639\n",
       "baz   A  0.526168 -0.794330\n",
       "      B -0.586098  0.621687"
      ]
     },
     "execution_count": 116,
     "metadata": {},
     "output_type": "execute_result"
    }
   ],
   "source": [
    "stacked.unstack(1)"
   ]
  },
  {
   "cell_type": "code",
   "execution_count": 117,
   "metadata": {
    "collapsed": false,
    "deletable": true,
    "editable": true
   },
   "outputs": [
    {
     "data": {
      "text/html": [
       "<div>\n",
       "<table border=\"1\" class=\"dataframe\">\n",
       "  <thead>\n",
       "    <tr style=\"text-align: right;\">\n",
       "      <th></th>\n",
       "      <th>first</th>\n",
       "      <th>bar</th>\n",
       "      <th>baz</th>\n",
       "    </tr>\n",
       "    <tr>\n",
       "      <th>second</th>\n",
       "      <th></th>\n",
       "      <th></th>\n",
       "      <th></th>\n",
       "    </tr>\n",
       "  </thead>\n",
       "  <tbody>\n",
       "    <tr>\n",
       "      <th rowspan=\"2\" valign=\"top\">one</th>\n",
       "      <th>A</th>\n",
       "      <td>-0.678641</td>\n",
       "      <td>0.526168</td>\n",
       "    </tr>\n",
       "    <tr>\n",
       "      <th>B</th>\n",
       "      <td>0.196709</td>\n",
       "      <td>-0.586098</td>\n",
       "    </tr>\n",
       "    <tr>\n",
       "      <th rowspan=\"2\" valign=\"top\">two</th>\n",
       "      <th>A</th>\n",
       "      <td>0.414739</td>\n",
       "      <td>-0.794330</td>\n",
       "    </tr>\n",
       "    <tr>\n",
       "      <th>B</th>\n",
       "      <td>-1.874639</td>\n",
       "      <td>0.621687</td>\n",
       "    </tr>\n",
       "  </tbody>\n",
       "</table>\n",
       "</div>"
      ],
      "text/plain": [
       "first          bar       baz\n",
       "second                      \n",
       "one    A -0.678641  0.526168\n",
       "       B  0.196709 -0.586098\n",
       "two    A  0.414739 -0.794330\n",
       "       B -1.874639  0.621687"
      ]
     },
     "execution_count": 117,
     "metadata": {},
     "output_type": "execute_result"
    }
   ],
   "source": [
    "stacked.unstack(0)"
   ]
  },
  {
   "cell_type": "markdown",
   "metadata": {
    "deletable": true,
    "editable": true
   },
   "source": [
    "### 数据透视表(pivot tables)"
   ]
  },
  {
   "cell_type": "code",
   "execution_count": 118,
   "metadata": {
    "collapsed": false,
    "deletable": true,
    "editable": true
   },
   "outputs": [
    {
     "data": {
      "text/html": [
       "<div>\n",
       "<table border=\"1\" class=\"dataframe\">\n",
       "  <thead>\n",
       "    <tr style=\"text-align: right;\">\n",
       "      <th></th>\n",
       "      <th>A</th>\n",
       "      <th>B</th>\n",
       "      <th>C</th>\n",
       "      <th>D</th>\n",
       "      <th>E</th>\n",
       "    </tr>\n",
       "  </thead>\n",
       "  <tbody>\n",
       "    <tr>\n",
       "      <th>0</th>\n",
       "      <td>one</td>\n",
       "      <td>A</td>\n",
       "      <td>foo</td>\n",
       "      <td>-0.484209</td>\n",
       "      <td>1.372559</td>\n",
       "    </tr>\n",
       "    <tr>\n",
       "      <th>1</th>\n",
       "      <td>one</td>\n",
       "      <td>B</td>\n",
       "      <td>foo</td>\n",
       "      <td>1.229735</td>\n",
       "      <td>1.155902</td>\n",
       "    </tr>\n",
       "    <tr>\n",
       "      <th>2</th>\n",
       "      <td>two</td>\n",
       "      <td>C</td>\n",
       "      <td>foo</td>\n",
       "      <td>0.540843</td>\n",
       "      <td>-0.244282</td>\n",
       "    </tr>\n",
       "    <tr>\n",
       "      <th>3</th>\n",
       "      <td>three</td>\n",
       "      <td>A</td>\n",
       "      <td>bar</td>\n",
       "      <td>1.639626</td>\n",
       "      <td>1.056057</td>\n",
       "    </tr>\n",
       "    <tr>\n",
       "      <th>4</th>\n",
       "      <td>one</td>\n",
       "      <td>B</td>\n",
       "      <td>bar</td>\n",
       "      <td>-1.323951</td>\n",
       "      <td>-0.729839</td>\n",
       "    </tr>\n",
       "    <tr>\n",
       "      <th>5</th>\n",
       "      <td>one</td>\n",
       "      <td>C</td>\n",
       "      <td>bar</td>\n",
       "      <td>0.855990</td>\n",
       "      <td>0.498600</td>\n",
       "    </tr>\n",
       "    <tr>\n",
       "      <th>6</th>\n",
       "      <td>two</td>\n",
       "      <td>A</td>\n",
       "      <td>foo</td>\n",
       "      <td>-1.298377</td>\n",
       "      <td>-0.219432</td>\n",
       "    </tr>\n",
       "    <tr>\n",
       "      <th>7</th>\n",
       "      <td>three</td>\n",
       "      <td>B</td>\n",
       "      <td>foo</td>\n",
       "      <td>-0.363005</td>\n",
       "      <td>-0.471282</td>\n",
       "    </tr>\n",
       "    <tr>\n",
       "      <th>8</th>\n",
       "      <td>one</td>\n",
       "      <td>C</td>\n",
       "      <td>foo</td>\n",
       "      <td>-1.430104</td>\n",
       "      <td>-0.466728</td>\n",
       "    </tr>\n",
       "    <tr>\n",
       "      <th>9</th>\n",
       "      <td>one</td>\n",
       "      <td>A</td>\n",
       "      <td>bar</td>\n",
       "      <td>1.216707</td>\n",
       "      <td>0.439948</td>\n",
       "    </tr>\n",
       "    <tr>\n",
       "      <th>10</th>\n",
       "      <td>two</td>\n",
       "      <td>B</td>\n",
       "      <td>bar</td>\n",
       "      <td>-2.140101</td>\n",
       "      <td>-1.813999</td>\n",
       "    </tr>\n",
       "    <tr>\n",
       "      <th>11</th>\n",
       "      <td>three</td>\n",
       "      <td>C</td>\n",
       "      <td>bar</td>\n",
       "      <td>1.620069</td>\n",
       "      <td>1.107080</td>\n",
       "    </tr>\n",
       "  </tbody>\n",
       "</table>\n",
       "</div>"
      ],
      "text/plain": [
       "        A  B    C         D         E\n",
       "0     one  A  foo -0.484209  1.372559\n",
       "1     one  B  foo  1.229735  1.155902\n",
       "2     two  C  foo  0.540843 -0.244282\n",
       "3   three  A  bar  1.639626  1.056057\n",
       "4     one  B  bar -1.323951 -0.729839\n",
       "5     one  C  bar  0.855990  0.498600\n",
       "6     two  A  foo -1.298377 -0.219432\n",
       "7   three  B  foo -0.363005 -0.471282\n",
       "8     one  C  foo -1.430104 -0.466728\n",
       "9     one  A  bar  1.216707  0.439948\n",
       "10    two  B  bar -2.140101 -1.813999\n",
       "11  three  C  bar  1.620069  1.107080"
      ]
     },
     "execution_count": 118,
     "metadata": {},
     "output_type": "execute_result"
    }
   ],
   "source": [
    "df = pd.DataFrame({'A' : ['one', 'one', 'two', 'three'] * 3,\n",
    "                   'B' : ['A', 'B', 'C'] * 4,\n",
    "                   'C' : ['foo', 'foo', 'foo', 'bar', 'bar', 'bar'] * 2,\n",
    "                   'D' : np.random.randn(12),\n",
    "                   'E' : np.random.randn(12)})\n",
    "df"
   ]
  },
  {
   "cell_type": "code",
   "execution_count": 119,
   "metadata": {
    "collapsed": false,
    "deletable": true,
    "editable": true
   },
   "outputs": [
    {
     "data": {
      "text/html": [
       "<div>\n",
       "<table border=\"1\" class=\"dataframe\">\n",
       "  <thead>\n",
       "    <tr style=\"text-align: right;\">\n",
       "      <th></th>\n",
       "      <th>C</th>\n",
       "      <th>bar</th>\n",
       "      <th>foo</th>\n",
       "    </tr>\n",
       "    <tr>\n",
       "      <th>A</th>\n",
       "      <th>B</th>\n",
       "      <th></th>\n",
       "      <th></th>\n",
       "    </tr>\n",
       "  </thead>\n",
       "  <tbody>\n",
       "    <tr>\n",
       "      <th rowspan=\"3\" valign=\"top\">one</th>\n",
       "      <th>A</th>\n",
       "      <td>1.216707</td>\n",
       "      <td>-0.484209</td>\n",
       "    </tr>\n",
       "    <tr>\n",
       "      <th>B</th>\n",
       "      <td>-1.323951</td>\n",
       "      <td>1.229735</td>\n",
       "    </tr>\n",
       "    <tr>\n",
       "      <th>C</th>\n",
       "      <td>0.855990</td>\n",
       "      <td>-1.430104</td>\n",
       "    </tr>\n",
       "    <tr>\n",
       "      <th rowspan=\"3\" valign=\"top\">three</th>\n",
       "      <th>A</th>\n",
       "      <td>1.639626</td>\n",
       "      <td>NaN</td>\n",
       "    </tr>\n",
       "    <tr>\n",
       "      <th>B</th>\n",
       "      <td>NaN</td>\n",
       "      <td>-0.363005</td>\n",
       "    </tr>\n",
       "    <tr>\n",
       "      <th>C</th>\n",
       "      <td>1.620069</td>\n",
       "      <td>NaN</td>\n",
       "    </tr>\n",
       "    <tr>\n",
       "      <th rowspan=\"3\" valign=\"top\">two</th>\n",
       "      <th>A</th>\n",
       "      <td>NaN</td>\n",
       "      <td>-1.298377</td>\n",
       "    </tr>\n",
       "    <tr>\n",
       "      <th>B</th>\n",
       "      <td>-2.140101</td>\n",
       "      <td>NaN</td>\n",
       "    </tr>\n",
       "    <tr>\n",
       "      <th>C</th>\n",
       "      <td>NaN</td>\n",
       "      <td>0.540843</td>\n",
       "    </tr>\n",
       "  </tbody>\n",
       "</table>\n",
       "</div>"
      ],
      "text/plain": [
       "C             bar       foo\n",
       "A     B                    \n",
       "one   A  1.216707 -0.484209\n",
       "      B -1.323951  1.229735\n",
       "      C  0.855990 -1.430104\n",
       "three A  1.639626       NaN\n",
       "      B       NaN -0.363005\n",
       "      C  1.620069       NaN\n",
       "two   A       NaN -1.298377\n",
       "      B -2.140101       NaN\n",
       "      C       NaN  0.540843"
      ]
     },
     "execution_count": 119,
     "metadata": {},
     "output_type": "execute_result"
    }
   ],
   "source": [
    "pd.pivot_table(df, values='D', index=['A', 'B'], columns=['C'])"
   ]
  },
  {
   "cell_type": "markdown",
   "metadata": {
    "deletable": true,
    "editable": true
   },
   "source": [
    "## 时间序列\n",
    "\n",
    "pandas在对频率转换进行重新采样时拥有着简单，强大而且高效的功能（例如把按秒采样的数据转换为按5分钟采样的数据）。"
   ]
  },
  {
   "cell_type": "code",
   "execution_count": 86,
   "metadata": {
    "collapsed": false,
    "deletable": true,
    "editable": true
   },
   "outputs": [
    {
     "data": {
      "text/plain": [
       "<class 'pandas.tseries.index.DatetimeIndex'>\n",
       "[2012-01-01 00:00:00, ..., 2012-01-01 00:01:39]\n",
       "Length: 100, Freq: S, Timezone: None"
      ]
     },
     "execution_count": 86,
     "metadata": {},
     "output_type": "execute_result"
    }
   ],
   "source": [
    "rng = pd.date_range('1/1/2012',periods=100,freq='S')\n",
    "rng"
   ]
  },
  {
   "cell_type": "code",
   "execution_count": 87,
   "metadata": {
    "collapsed": false,
    "deletable": true,
    "editable": true
   },
   "outputs": [
    {
     "data": {
      "text/plain": [
       "2012-01-01 00:00:00    114\n",
       "2012-01-01 00:00:01     62\n",
       "2012-01-01 00:00:02    370\n",
       "2012-01-01 00:00:03    379\n",
       "2012-01-01 00:00:04    360\n",
       "2012-01-01 00:00:05    234\n",
       "2012-01-01 00:00:06    198\n",
       "2012-01-01 00:00:07     55\n",
       "2012-01-01 00:00:08    458\n",
       "2012-01-01 00:00:09    241\n",
       "2012-01-01 00:00:10    117\n",
       "2012-01-01 00:00:11    110\n",
       "2012-01-01 00:00:12     57\n",
       "2012-01-01 00:00:13    293\n",
       "2012-01-01 00:00:14    150\n",
       "...\n",
       "2012-01-01 00:01:25    346\n",
       "2012-01-01 00:01:26    355\n",
       "2012-01-01 00:01:27     27\n",
       "2012-01-01 00:01:28     36\n",
       "2012-01-01 00:01:29     47\n",
       "2012-01-01 00:01:30    394\n",
       "2012-01-01 00:01:31    295\n",
       "2012-01-01 00:01:32    329\n",
       "2012-01-01 00:01:33     48\n",
       "2012-01-01 00:01:34    296\n",
       "2012-01-01 00:01:35     18\n",
       "2012-01-01 00:01:36    373\n",
       "2012-01-01 00:01:37    328\n",
       "2012-01-01 00:01:38    494\n",
       "2012-01-01 00:01:39    457\n",
       "Freq: S, Length: 100"
      ]
     },
     "execution_count": 87,
     "metadata": {},
     "output_type": "execute_result"
    }
   ],
   "source": [
    "ts = pd.Series(np.random.randint(0,500,len(rng)),index=rng)\n",
    "ts"
   ]
  },
  {
   "cell_type": "code",
   "execution_count": 88,
   "metadata": {
    "collapsed": false,
    "deletable": true,
    "editable": true
   },
   "outputs": [
    {
     "data": {
      "text/plain": [
       "2012-01-01    24374\n",
       "Freq: 5T, dtype: int64"
      ]
     },
     "execution_count": 88,
     "metadata": {},
     "output_type": "execute_result"
    }
   ],
   "source": [
    "ts.resample('5Min',how='sum')"
   ]
  },
  {
   "cell_type": "markdown",
   "metadata": {
    "deletable": true,
    "editable": true
   },
   "source": [
    "时区表示"
   ]
  },
  {
   "cell_type": "code",
   "execution_count": 89,
   "metadata": {
    "collapsed": false,
    "deletable": true,
    "editable": true
   },
   "outputs": [
    {
     "data": {
      "text/plain": [
       "<class 'pandas.tseries.index.DatetimeIndex'>\n",
       "[2012-03-06, ..., 2012-03-10]\n",
       "Length: 5, Freq: D, Timezone: None"
      ]
     },
     "execution_count": 89,
     "metadata": {},
     "output_type": "execute_result"
    }
   ],
   "source": [
    "rng = pd.date_range('3/6/2012',periods=5,freq='D')\n",
    "rng"
   ]
  },
  {
   "cell_type": "code",
   "execution_count": 90,
   "metadata": {
    "collapsed": false,
    "deletable": true,
    "editable": true
   },
   "outputs": [
    {
     "data": {
      "text/plain": [
       "2012-03-06   -1.062647\n",
       "2012-03-07   -0.988973\n",
       "2012-03-08    0.018998\n",
       "2012-03-09    0.882671\n",
       "2012-03-10   -0.566935\n",
       "Freq: D, dtype: float64"
      ]
     },
     "execution_count": 90,
     "metadata": {},
     "output_type": "execute_result"
    }
   ],
   "source": [
    "ts = pd.Series(np.random.randn(len(rng)),index=rng)\n",
    "ts"
   ]
  },
  {
   "cell_type": "code",
   "execution_count": 91,
   "metadata": {
    "collapsed": false,
    "deletable": true,
    "editable": true
   },
   "outputs": [
    {
     "data": {
      "text/plain": [
       "2012-03-06 00:00:00+00:00   -1.062647\n",
       "2012-03-07 00:00:00+00:00   -0.988973\n",
       "2012-03-08 00:00:00+00:00    0.018998\n",
       "2012-03-09 00:00:00+00:00    0.882671\n",
       "2012-03-10 00:00:00+00:00   -0.566935\n",
       "Freq: D, dtype: float64"
      ]
     },
     "execution_count": 91,
     "metadata": {},
     "output_type": "execute_result"
    }
   ],
   "source": [
    "ts_utc = ts.tz_localize('UTC')\n",
    "ts_utc"
   ]
  },
  {
   "cell_type": "markdown",
   "metadata": {
    "deletable": true,
    "editable": true
   },
   "source": [
    "时区转换"
   ]
  },
  {
   "cell_type": "code",
   "execution_count": 92,
   "metadata": {
    "collapsed": false,
    "deletable": true,
    "editable": true
   },
   "outputs": [
    {
     "data": {
      "text/plain": [
       "2012-03-05 19:00:00-05:00   -1.062647\n",
       "2012-03-06 19:00:00-05:00   -0.988973\n",
       "2012-03-07 19:00:00-05:00    0.018998\n",
       "2012-03-08 19:00:00-05:00    0.882671\n",
       "2012-03-09 19:00:00-05:00   -0.566935\n",
       "Freq: D, dtype: float64"
      ]
     },
     "execution_count": 92,
     "metadata": {},
     "output_type": "execute_result"
    }
   ],
   "source": [
    "ts_utc.tz_convert('US/Eastern')"
   ]
  },
  {
   "cell_type": "markdown",
   "metadata": {
    "deletable": true,
    "editable": true
   },
   "source": [
    "时间跨度转换"
   ]
  },
  {
   "cell_type": "code",
   "execution_count": 93,
   "metadata": {
    "collapsed": false,
    "deletable": true,
    "editable": true
   },
   "outputs": [
    {
     "data": {
      "text/plain": [
       "<class 'pandas.tseries.index.DatetimeIndex'>\n",
       "[2012-01-31, ..., 2012-05-31]\n",
       "Length: 5, Freq: M, Timezone: None"
      ]
     },
     "execution_count": 93,
     "metadata": {},
     "output_type": "execute_result"
    }
   ],
   "source": [
    "rng = pd.date_range('1/1/2012', periods=5, freq='M')\n",
    "rng"
   ]
  },
  {
   "cell_type": "code",
   "execution_count": 94,
   "metadata": {
    "collapsed": false,
    "deletable": true,
    "editable": true
   },
   "outputs": [
    {
     "data": {
      "text/plain": [
       "2012-01-31   -0.632847\n",
       "2012-02-29   -0.983099\n",
       "2012-03-31    1.646944\n",
       "2012-04-30   -2.136451\n",
       "2012-05-31   -0.048257\n",
       "Freq: M, dtype: float64"
      ]
     },
     "execution_count": 94,
     "metadata": {},
     "output_type": "execute_result"
    }
   ],
   "source": [
    "ts = pd.Series(np.random.randn(len(rng)), index=rng)\n",
    "ts"
   ]
  },
  {
   "cell_type": "code",
   "execution_count": 96,
   "metadata": {
    "collapsed": false,
    "deletable": true,
    "editable": true
   },
   "outputs": [
    {
     "data": {
      "text/plain": [
       "2012-01   -0.632847\n",
       "2012-02   -0.983099\n",
       "2012-03    1.646944\n",
       "2012-04   -2.136451\n",
       "2012-05   -0.048257\n",
       "Freq: M, dtype: float64"
      ]
     },
     "execution_count": 96,
     "metadata": {},
     "output_type": "execute_result"
    }
   ],
   "source": [
    "ps = ts.to_period()\n",
    "ps"
   ]
  },
  {
   "cell_type": "code",
   "execution_count": 97,
   "metadata": {
    "collapsed": false,
    "deletable": true,
    "editable": true
   },
   "outputs": [
    {
     "data": {
      "text/plain": [
       "2012-01-01   -0.632847\n",
       "2012-02-01   -0.983099\n",
       "2012-03-01    1.646944\n",
       "2012-04-01   -2.136451\n",
       "2012-05-01   -0.048257\n",
       "Freq: MS, dtype: float64"
      ]
     },
     "execution_count": 97,
     "metadata": {},
     "output_type": "execute_result"
    }
   ],
   "source": [
    "ps.to_timestamp()\n"
   ]
  },
  {
   "cell_type": "markdown",
   "metadata": {
    "deletable": true,
    "editable": true
   },
   "source": [
    "日期与时间戳之间的转换使得可以使用一些方便的算术函数。例如，我们把以11月为年底的季度数据转换为当前季度末月底为始的数据"
   ]
  },
  {
   "cell_type": "code",
   "execution_count": 98,
   "metadata": {
    "collapsed": false,
    "deletable": true,
    "editable": true
   },
   "outputs": [
    {
     "data": {
      "text/plain": [
       "<class 'pandas.tseries.period.PeriodIndex'>\n",
       "[1990Q1, ..., 2000Q4]\n",
       "Length: 44, Freq: Q-NOV"
      ]
     },
     "execution_count": 98,
     "metadata": {},
     "output_type": "execute_result"
    }
   ],
   "source": [
    "prng = pd.period_range('1990Q1', '2000Q4', freq='Q-NOV')\n",
    "prng"
   ]
  },
  {
   "cell_type": "code",
   "execution_count": 99,
   "metadata": {
    "collapsed": false,
    "deletable": true,
    "editable": true
   },
   "outputs": [
    {
     "data": {
      "text/plain": [
       "1990Q1   -0.529455\n",
       "1990Q2    0.570384\n",
       "1990Q3   -1.544862\n",
       "1990Q4   -0.297993\n",
       "1991Q1   -0.817410\n",
       "1991Q2   -0.409854\n",
       "1991Q3   -2.555214\n",
       "1991Q4    1.032389\n",
       "1992Q1   -0.378980\n",
       "1992Q2   -0.373298\n",
       "1992Q3   -0.290478\n",
       "1992Q4   -1.106722\n",
       "1993Q1   -1.118070\n",
       "1993Q2    1.683016\n",
       "1993Q3    2.278607\n",
       "1993Q4    1.070247\n",
       "1994Q1    0.911208\n",
       "1994Q2    0.632467\n",
       "1994Q3   -0.234640\n",
       "1994Q4   -1.545572\n",
       "1995Q1    0.707218\n",
       "1995Q2   -0.386264\n",
       "1995Q3    1.440627\n",
       "1995Q4    0.751621\n",
       "1996Q1   -1.640999\n",
       "1996Q2    0.125822\n",
       "1996Q3   -0.781528\n",
       "1996Q4    1.900030\n",
       "1997Q1    0.031440\n",
       "1997Q2   -1.521395\n",
       "1997Q3   -0.350913\n",
       "1997Q4   -1.335841\n",
       "1998Q1   -0.506609\n",
       "1998Q2    0.609221\n",
       "1998Q3   -0.092327\n",
       "1998Q4    0.742343\n",
       "1999Q1   -0.490511\n",
       "1999Q2    1.018211\n",
       "1999Q3    1.817720\n",
       "1999Q4    0.560937\n",
       "2000Q1   -1.012795\n",
       "2000Q2   -1.070557\n",
       "2000Q3    0.704798\n",
       "2000Q4    0.353916\n",
       "Freq: Q-NOV, dtype: float64"
      ]
     },
     "execution_count": 99,
     "metadata": {},
     "output_type": "execute_result"
    }
   ],
   "source": [
    "ts = pd.Series(np.random.randn(len(prng)), index = prng)\n",
    "ts"
   ]
  },
  {
   "cell_type": "code",
   "execution_count": 100,
   "metadata": {
    "collapsed": false,
    "deletable": true,
    "editable": true
   },
   "outputs": [
    {
     "data": {
      "text/plain": [
       "1990-02-01 09:00   -0.529455\n",
       "1990-05-01 09:00    0.570384\n",
       "1990-08-01 09:00   -1.544862\n",
       "1990-11-01 09:00   -0.297993\n",
       "1991-02-01 09:00   -0.817410\n",
       "1991-05-01 09:00   -0.409854\n",
       "1991-08-01 09:00   -2.555214\n",
       "1991-11-01 09:00    1.032389\n",
       "1992-02-01 09:00   -0.378980\n",
       "1992-05-01 09:00   -0.373298\n",
       "1992-08-01 09:00   -0.290478\n",
       "1992-11-01 09:00   -1.106722\n",
       "1993-02-01 09:00   -1.118070\n",
       "1993-05-01 09:00    1.683016\n",
       "1993-08-01 09:00    2.278607\n",
       "1993-11-01 09:00    1.070247\n",
       "1994-02-01 09:00    0.911208\n",
       "1994-05-01 09:00    0.632467\n",
       "1994-08-01 09:00   -0.234640\n",
       "1994-11-01 09:00   -1.545572\n",
       "1995-02-01 09:00    0.707218\n",
       "1995-05-01 09:00   -0.386264\n",
       "1995-08-01 09:00    1.440627\n",
       "1995-11-01 09:00    0.751621\n",
       "1996-02-01 09:00   -1.640999\n",
       "1996-05-01 09:00    0.125822\n",
       "1996-08-01 09:00   -0.781528\n",
       "1996-11-01 09:00    1.900030\n",
       "1997-02-01 09:00    0.031440\n",
       "1997-05-01 09:00   -1.521395\n",
       "1997-08-01 09:00   -0.350913\n",
       "1997-11-01 09:00   -1.335841\n",
       "1998-02-01 09:00   -0.506609\n",
       "1998-05-01 09:00    0.609221\n",
       "1998-08-01 09:00   -0.092327\n",
       "1998-11-01 09:00    0.742343\n",
       "1999-02-01 09:00   -0.490511\n",
       "1999-05-01 09:00    1.018211\n",
       "1999-08-01 09:00    1.817720\n",
       "1999-11-01 09:00    0.560937\n",
       "2000-02-01 09:00   -1.012795\n",
       "2000-05-01 09:00   -1.070557\n",
       "2000-08-01 09:00    0.704798\n",
       "2000-11-01 09:00    0.353916\n",
       "Freq: H, dtype: float64"
      ]
     },
     "execution_count": 100,
     "metadata": {},
     "output_type": "execute_result"
    }
   ],
   "source": [
    "ts.index = (prng.asfreq('M', 'end') ) .asfreq('H', 'start') +9\n",
    "ts"
   ]
  },
  {
   "cell_type": "markdown",
   "metadata": {
    "deletable": true,
    "editable": true
   },
   "source": [
    "## categoricals\n",
    "\n",
    "从版本0.15开始，DataFrame中可以包含categorical数据。"
   ]
  },
  {
   "cell_type": "code",
   "execution_count": 120,
   "metadata": {
    "collapsed": false,
    "deletable": true,
    "editable": true
   },
   "outputs": [
    {
     "data": {
      "text/html": [
       "<div>\n",
       "<table border=\"1\" class=\"dataframe\">\n",
       "  <thead>\n",
       "    <tr style=\"text-align: right;\">\n",
       "      <th></th>\n",
       "      <th>id</th>\n",
       "      <th>raw_grade</th>\n",
       "    </tr>\n",
       "  </thead>\n",
       "  <tbody>\n",
       "    <tr>\n",
       "      <th>0</th>\n",
       "      <td>1</td>\n",
       "      <td>a</td>\n",
       "    </tr>\n",
       "    <tr>\n",
       "      <th>1</th>\n",
       "      <td>2</td>\n",
       "      <td>b</td>\n",
       "    </tr>\n",
       "    <tr>\n",
       "      <th>2</th>\n",
       "      <td>3</td>\n",
       "      <td>b</td>\n",
       "    </tr>\n",
       "    <tr>\n",
       "      <th>3</th>\n",
       "      <td>4</td>\n",
       "      <td>a</td>\n",
       "    </tr>\n",
       "    <tr>\n",
       "      <th>4</th>\n",
       "      <td>5</td>\n",
       "      <td>e</td>\n",
       "    </tr>\n",
       "    <tr>\n",
       "      <th>5</th>\n",
       "      <td>6</td>\n",
       "      <td>e</td>\n",
       "    </tr>\n",
       "  </tbody>\n",
       "</table>\n",
       "</div>"
      ],
      "text/plain": [
       "   id raw_grade\n",
       "0   1         a\n",
       "1   2         b\n",
       "2   3         b\n",
       "3   4         a\n",
       "4   5         e\n",
       "5   6         e"
      ]
     },
     "execution_count": 120,
     "metadata": {},
     "output_type": "execute_result"
    }
   ],
   "source": [
    "df = pd.DataFrame({\"id\":[1,2,3,4,5,6], \"raw_grade\":['a', 'b', 'b', 'a', 'e', 'e']})\n",
    "df"
   ]
  },
  {
   "cell_type": "markdown",
   "metadata": {
    "deletable": true,
    "editable": true
   },
   "source": [
    "把raw_grade转换为categorical类型"
   ]
  },
  {
   "cell_type": "code",
   "execution_count": 121,
   "metadata": {
    "collapsed": false,
    "deletable": true,
    "editable": true
   },
   "outputs": [
    {
     "data": {
      "text/plain": [
       "0    a\n",
       "1    b\n",
       "2    b\n",
       "3    a\n",
       "4    e\n",
       "5    e\n",
       "Name: grade, dtype: category\n",
       "Categories (3, object): [a, b, e]"
      ]
     },
     "execution_count": 121,
     "metadata": {},
     "output_type": "execute_result"
    }
   ],
   "source": [
    "df[\"grade\"] = df[\"raw_grade\"].astype(\"category\")\n",
    "df[\"grade\"]"
   ]
  },
  {
   "cell_type": "markdown",
   "metadata": {
    "deletable": true,
    "editable": true
   },
   "source": [
    "对category进行重命名"
   ]
  },
  {
   "cell_type": "code",
   "execution_count": 122,
   "metadata": {
    "collapsed": true,
    "deletable": true,
    "editable": true
   },
   "outputs": [],
   "source": [
    "df[\"grade\"].cat.categories = [\"very good\",\"good\",\"very bad\"]"
   ]
  },
  {
   "cell_type": "markdown",
   "metadata": {
    "deletable": true,
    "editable": true
   },
   "source": [
    "对分类重新排序，并添加缺失的分类"
   ]
  },
  {
   "cell_type": "code",
   "execution_count": 108,
   "metadata": {
    "collapsed": false,
    "deletable": true,
    "editable": true
   },
   "outputs": [
    {
     "data": {
      "text/plain": [
       "0    very good\n",
       "1         good\n",
       "2         good\n",
       "3    very good\n",
       "4     very bad\n",
       "5     very bad\n",
       "Name: grade, dtype: category\n",
       "Categories (5, object): [very bad < bad < medium < good < very good]"
      ]
     },
     "execution_count": 108,
     "metadata": {},
     "output_type": "execute_result"
    }
   ],
   "source": [
    "df[\"grade\"] = df[\"grade\"].cat.set_categories([\"very bad\", \"bad\", \"medium\", \"good\", \"very good\"])\n",
    "df[\"grade\"]"
   ]
  },
  {
   "cell_type": "markdown",
   "metadata": {
    "deletable": true,
    "editable": true
   },
   "source": [
    "排序是按照分类的顺序进行的，而不是字典序"
   ]
  },
  {
   "cell_type": "code",
   "execution_count": 109,
   "metadata": {
    "collapsed": false,
    "deletable": true,
    "editable": true
   },
   "outputs": [
    {
     "data": {
      "text/html": [
       "<div style=\"max-height:1000px;max-width:1500px;overflow:auto;\">\n",
       "<table border=\"1\" class=\"dataframe\">\n",
       "  <thead>\n",
       "    <tr style=\"text-align: right;\">\n",
       "      <th></th>\n",
       "      <th>id</th>\n",
       "      <th>raw_grade</th>\n",
       "      <th>grade</th>\n",
       "    </tr>\n",
       "  </thead>\n",
       "  <tbody>\n",
       "    <tr>\n",
       "      <th>4</th>\n",
       "      <td> 5</td>\n",
       "      <td> e</td>\n",
       "      <td>  very bad</td>\n",
       "    </tr>\n",
       "    <tr>\n",
       "      <th>5</th>\n",
       "      <td> 6</td>\n",
       "      <td> e</td>\n",
       "      <td>  very bad</td>\n",
       "    </tr>\n",
       "    <tr>\n",
       "      <th>1</th>\n",
       "      <td> 2</td>\n",
       "      <td> b</td>\n",
       "      <td>      good</td>\n",
       "    </tr>\n",
       "    <tr>\n",
       "      <th>2</th>\n",
       "      <td> 3</td>\n",
       "      <td> b</td>\n",
       "      <td>      good</td>\n",
       "    </tr>\n",
       "    <tr>\n",
       "      <th>0</th>\n",
       "      <td> 1</td>\n",
       "      <td> a</td>\n",
       "      <td> very good</td>\n",
       "    </tr>\n",
       "    <tr>\n",
       "      <th>3</th>\n",
       "      <td> 4</td>\n",
       "      <td> a</td>\n",
       "      <td> very good</td>\n",
       "    </tr>\n",
       "  </tbody>\n",
       "</table>\n",
       "</div>"
      ],
      "text/plain": [
       "   id raw_grade      grade\n",
       "4   5         e   very bad\n",
       "5   6         e   very bad\n",
       "1   2         b       good\n",
       "2   3         b       good\n",
       "0   1         a  very good\n",
       "3   4         a  very good"
      ]
     },
     "execution_count": 109,
     "metadata": {},
     "output_type": "execute_result"
    }
   ],
   "source": [
    "df.sort_index(by=\"grade\")"
   ]
  },
  {
   "cell_type": "markdown",
   "metadata": {
    "deletable": true,
    "editable": true
   },
   "source": [
    "按分类分组时，也会显示空的分类"
   ]
  },
  {
   "cell_type": "code",
   "execution_count": 110,
   "metadata": {
    "collapsed": false,
    "deletable": true,
    "editable": true
   },
   "outputs": [
    {
     "data": {
      "text/plain": [
       "grade\n",
       "very bad      2\n",
       "bad         NaN\n",
       "medium      NaN\n",
       "good          2\n",
       "very good     2\n",
       "dtype: float64"
      ]
     },
     "execution_count": 110,
     "metadata": {},
     "output_type": "execute_result"
    }
   ],
   "source": [
    "df.groupby(\"grade\").size()"
   ]
  },
  {
   "cell_type": "markdown",
   "metadata": {
    "deletable": true,
    "editable": true
   },
   "source": [
    "## 绘图"
   ]
  },
  {
   "cell_type": "code",
   "execution_count": 125,
   "metadata": {
    "collapsed": false,
    "deletable": true,
    "editable": true
   },
   "outputs": [
    {
     "data": {
      "text/plain": [
       "<matplotlib.axes._subplots.AxesSubplot at 0x1069af0d0>"
      ]
     },
     "execution_count": 125,
     "metadata": {},
     "output_type": "execute_result"
    },
    {
     "data": {
      "image/png": "[encoded data removed]",
      "text/plain": [
       "<matplotlib.figure.Figure at 0x1069ba850>"
      ]
     },
     "metadata": {},
     "output_type": "display_data"
    }
   ],
   "source": [
    "ts = pd.Series(np.random.randn(1000),index=pd.date_range('1/1/2000',periods=1000))\n",
    "ts = ts.cumsum()\n",
    "ts.plot()"
   ]
  },
  {
   "cell_type": "markdown",
   "metadata": {
    "deletable": true,
    "editable": true
   },
   "source": [
    "对于DataFrame类型，**plot()**能很方便地画出所有column及其label"
   ]
  },
  {
   "cell_type": "code",
   "execution_count": 126,
   "metadata": {
    "collapsed": false,
    "deletable": true,
    "editable": true
   },
   "outputs": [
    {
     "data": {
      "text/plain": [
       "<matplotlib.axes._subplots.AxesSubplot at 0x106ae2b50>"
      ]
     },
     "execution_count": 126,
     "metadata": {},
     "output_type": "execute_result"
    },
    {
     "data": {
      "image/png": "[encoded data removed]",
      "text/plain": [
       "<matplotlib.figure.Figure at 0x1069c5710>"
      ]
     },
     "metadata": {},
     "output_type": "display_data"
    }
   ],
   "source": [
    "df = pd.DataFrame(np.random.randn(1000,4),index=ts.index,columns=['A', 'B', 'C', 'D'])\n",
    "df = df.cumsum()\n",
    "df.plot()"
   ]
  },
  {
   "cell_type": "markdown",
   "metadata": {
    "deletable": true,
    "editable": true
   },
   "source": [
    "## 获取数据的\n",
    "### CSV\n",
    "\n",
    "写入一个csv文件"
   ]
  },
  {
   "cell_type": "code",
   "execution_count": 127,
   "metadata": {
    "collapsed": true,
    "deletable": true,
    "editable": true
   },
   "outputs": [],
   "source": [
    "df.to_csv('foo.csv')"
   ]
  },
  {
   "cell_type": "markdown",
   "metadata": {
    "deletable": true,
    "editable": true
   },
   "source": [
    "从一个csv文件读入"
   ]
  },
  {
   "cell_type": "code",
   "execution_count": 128,
   "metadata": {
    "collapsed": false,
    "deletable": true,
    "editable": true
   },
   "outputs": [
    {
     "data": {
      "text/html": [
       "<div>\n",
       "<table border=\"1\" class=\"dataframe\">\n",
       "  <thead>\n",
       "    <tr style=\"text-align: right;\">\n",
       "      <th></th>\n",
       "      <th>Unnamed: 0</th>\n",
       "      <th>A</th>\n",
       "      <th>B</th>\n",
       "      <th>C</th>\n",
       "      <th>D</th>\n",
       "    </tr>\n",
       "  </thead>\n",
       "  <tbody>\n",
       "    <tr>\n",
       "      <th>0</th>\n",
       "      <td>2000-01-01</td>\n",
       "      <td>0.000241</td>\n",
       "      <td>-0.062672</td>\n",
       "      <td>-1.256108</td>\n",
       "      <td>-0.276911</td>\n",
       "    </tr>\n",
       "    <tr>\n",
       "      <th>1</th>\n",
       "      <td>2000-01-02</td>\n",
       "      <td>1.185635</td>\n",
       "      <td>0.278415</td>\n",
       "      <td>0.111969</td>\n",
       "      <td>1.471304</td>\n",
       "    </tr>\n",
       "    <tr>\n",
       "      <th>2</th>\n",
       "      <td>2000-01-03</td>\n",
       "      <td>0.181744</td>\n",
       "      <td>0.862553</td>\n",
       "      <td>2.168972</td>\n",
       "      <td>1.217986</td>\n",
       "    </tr>\n",
       "    <tr>\n",
       "      <th>3</th>\n",
       "      <td>2000-01-04</td>\n",
       "      <td>1.025786</td>\n",
       "      <td>0.444376</td>\n",
       "      <td>1.946407</td>\n",
       "      <td>1.781225</td>\n",
       "    </tr>\n",
       "    <tr>\n",
       "      <th>4</th>\n",
       "      <td>2000-01-05</td>\n",
       "      <td>1.156284</td>\n",
       "      <td>1.556331</td>\n",
       "      <td>2.972193</td>\n",
       "      <td>1.485344</td>\n",
       "    </tr>\n",
       "    <tr>\n",
       "      <th>5</th>\n",
       "      <td>2000-01-06</td>\n",
       "      <td>2.647098</td>\n",
       "      <td>1.406498</td>\n",
       "      <td>2.667766</td>\n",
       "      <td>1.806171</td>\n",
       "    </tr>\n",
       "    <tr>\n",
       "      <th>6</th>\n",
       "      <td>2000-01-07</td>\n",
       "      <td>2.838413</td>\n",
       "      <td>1.148143</td>\n",
       "      <td>4.251299</td>\n",
       "      <td>1.178629</td>\n",
       "    </tr>\n",
       "    <tr>\n",
       "      <th>7</th>\n",
       "      <td>2000-01-08</td>\n",
       "      <td>3.264215</td>\n",
       "      <td>2.052171</td>\n",
       "      <td>4.695244</td>\n",
       "      <td>0.635274</td>\n",
       "    </tr>\n",
       "    <tr>\n",
       "      <th>8</th>\n",
       "      <td>2000-01-09</td>\n",
       "      <td>4.837534</td>\n",
       "      <td>1.668099</td>\n",
       "      <td>2.820105</td>\n",
       "      <td>-1.641457</td>\n",
       "    </tr>\n",
       "    <tr>\n",
       "      <th>9</th>\n",
       "      <td>2000-01-10</td>\n",
       "      <td>4.785927</td>\n",
       "      <td>1.949996</td>\n",
       "      <td>3.937043</td>\n",
       "      <td>-1.326241</td>\n",
       "    </tr>\n",
       "    <tr>\n",
       "      <th>10</th>\n",
       "      <td>2000-01-11</td>\n",
       "      <td>4.370393</td>\n",
       "      <td>-0.773381</td>\n",
       "      <td>5.357964</td>\n",
       "      <td>-2.355775</td>\n",
       "    </tr>\n",
       "    <tr>\n",
       "      <th>11</th>\n",
       "      <td>2000-01-12</td>\n",
       "      <td>4.817681</td>\n",
       "      <td>-1.828862</td>\n",
       "      <td>5.009137</td>\n",
       "      <td>-2.723674</td>\n",
       "    </tr>\n",
       "    <tr>\n",
       "      <th>12</th>\n",
       "      <td>2000-01-13</td>\n",
       "      <td>4.056709</td>\n",
       "      <td>-2.298854</td>\n",
       "      <td>5.661288</td>\n",
       "      <td>-2.848931</td>\n",
       "    </tr>\n",
       "    <tr>\n",
       "      <th>13</th>\n",
       "      <td>2000-01-14</td>\n",
       "      <td>2.358674</td>\n",
       "      <td>-1.586434</td>\n",
       "      <td>5.171422</td>\n",
       "      <td>-3.659978</td>\n",
       "    </tr>\n",
       "    <tr>\n",
       "      <th>14</th>\n",
       "      <td>2000-01-15</td>\n",
       "      <td>2.286226</td>\n",
       "      <td>-1.309240</td>\n",
       "      <td>6.083846</td>\n",
       "      <td>-3.033132</td>\n",
       "    </tr>\n",
       "    <tr>\n",
       "      <th>15</th>\n",
       "      <td>2000-01-16</td>\n",
       "      <td>2.214300</td>\n",
       "      <td>0.991229</td>\n",
       "      <td>6.179765</td>\n",
       "      <td>-3.977637</td>\n",
       "    </tr>\n",
       "    <tr>\n",
       "      <th>16</th>\n",
       "      <td>2000-01-17</td>\n",
       "      <td>1.667437</td>\n",
       "      <td>1.482464</td>\n",
       "      <td>6.586782</td>\n",
       "      <td>-4.733009</td>\n",
       "    </tr>\n",
       "    <tr>\n",
       "      <th>17</th>\n",
       "      <td>2000-01-18</td>\n",
       "      <td>-0.704198</td>\n",
       "      <td>1.114435</td>\n",
       "      <td>8.273148</td>\n",
       "      <td>-6.013564</td>\n",
       "    </tr>\n",
       "    <tr>\n",
       "      <th>18</th>\n",
       "      <td>2000-01-19</td>\n",
       "      <td>0.521272</td>\n",
       "      <td>0.855078</td>\n",
       "      <td>10.667356</td>\n",
       "      <td>-7.072008</td>\n",
       "    </tr>\n",
       "    <tr>\n",
       "      <th>19</th>\n",
       "      <td>2000-01-20</td>\n",
       "      <td>0.453339</td>\n",
       "      <td>1.491088</td>\n",
       "      <td>11.326491</td>\n",
       "      <td>-6.707565</td>\n",
       "    </tr>\n",
       "    <tr>\n",
       "      <th>20</th>\n",
       "      <td>2000-01-21</td>\n",
       "      <td>2.120191</td>\n",
       "      <td>1.624046</td>\n",
       "      <td>12.256566</td>\n",
       "      <td>-6.946169</td>\n",
       "    </tr>\n",
       "    <tr>\n",
       "      <th>21</th>\n",
       "      <td>2000-01-22</td>\n",
       "      <td>2.653590</td>\n",
       "      <td>1.515170</td>\n",
       "      <td>13.133247</td>\n",
       "      <td>-7.462825</td>\n",
       "    </tr>\n",
       "    <tr>\n",
       "      <th>22</th>\n",
       "      <td>2000-01-23</td>\n",
       "      <td>3.766077</td>\n",
       "      <td>1.367578</td>\n",
       "      <td>12.350256</td>\n",
       "      <td>-7.643055</td>\n",
       "    </tr>\n",
       "    <tr>\n",
       "      <th>23</th>\n",
       "      <td>2000-01-24</td>\n",
       "      <td>5.390681</td>\n",
       "      <td>1.771788</td>\n",
       "      <td>10.443662</td>\n",
       "      <td>-7.819640</td>\n",
       "    </tr>\n",
       "    <tr>\n",
       "      <th>24</th>\n",
       "      <td>2000-01-25</td>\n",
       "      <td>6.333766</td>\n",
       "      <td>2.907701</td>\n",
       "      <td>7.415541</td>\n",
       "      <td>-8.294551</td>\n",
       "    </tr>\n",
       "    <tr>\n",
       "      <th>25</th>\n",
       "      <td>2000-01-26</td>\n",
       "      <td>5.745656</td>\n",
       "      <td>3.138093</td>\n",
       "      <td>6.264761</td>\n",
       "      <td>-7.738085</td>\n",
       "    </tr>\n",
       "    <tr>\n",
       "      <th>26</th>\n",
       "      <td>2000-01-27</td>\n",
       "      <td>4.820698</td>\n",
       "      <td>3.079208</td>\n",
       "      <td>8.175576</td>\n",
       "      <td>-7.785478</td>\n",
       "    </tr>\n",
       "    <tr>\n",
       "      <th>27</th>\n",
       "      <td>2000-01-28</td>\n",
       "      <td>2.902801</td>\n",
       "      <td>4.318009</td>\n",
       "      <td>9.259691</td>\n",
       "      <td>-7.447738</td>\n",
       "    </tr>\n",
       "    <tr>\n",
       "      <th>28</th>\n",
       "      <td>2000-01-29</td>\n",
       "      <td>2.562628</td>\n",
       "      <td>5.182195</td>\n",
       "      <td>9.737713</td>\n",
       "      <td>-7.622801</td>\n",
       "    </tr>\n",
       "    <tr>\n",
       "      <th>29</th>\n",
       "      <td>2000-01-30</td>\n",
       "      <td>2.493323</td>\n",
       "      <td>5.992592</td>\n",
       "      <td>9.364377</td>\n",
       "      <td>-6.604847</td>\n",
       "    </tr>\n",
       "    <tr>\n",
       "      <th>...</th>\n",
       "      <td>...</td>\n",
       "      <td>...</td>\n",
       "      <td>...</td>\n",
       "      <td>...</td>\n",
       "      <td>...</td>\n",
       "    </tr>\n",
       "    <tr>\n",
       "      <th>970</th>\n",
       "      <td>2002-08-28</td>\n",
       "      <td>-13.787008</td>\n",
       "      <td>10.349694</td>\n",
       "      <td>20.639172</td>\n",
       "      <td>-16.897246</td>\n",
       "    </tr>\n",
       "    <tr>\n",
       "      <th>971</th>\n",
       "      <td>2002-08-29</td>\n",
       "      <td>-13.961866</td>\n",
       "      <td>9.608443</td>\n",
       "      <td>19.893805</td>\n",
       "      <td>-16.674283</td>\n",
       "    </tr>\n",
       "    <tr>\n",
       "      <th>972</th>\n",
       "      <td>2002-08-30</td>\n",
       "      <td>-14.407201</td>\n",
       "      <td>10.131890</td>\n",
       "      <td>22.030059</td>\n",
       "      <td>-15.462973</td>\n",
       "    </tr>\n",
       "    <tr>\n",
       "      <th>973</th>\n",
       "      <td>2002-08-31</td>\n",
       "      <td>-15.661060</td>\n",
       "      <td>10.139718</td>\n",
       "      <td>22.063381</td>\n",
       "      <td>-16.127232</td>\n",
       "    </tr>\n",
       "    <tr>\n",
       "      <th>974</th>\n",
       "      <td>2002-09-01</td>\n",
       "      <td>-15.893622</td>\n",
       "      <td>9.579937</td>\n",
       "      <td>20.869018</td>\n",
       "      <td>-16.426683</td>\n",
       "    </tr>\n",
       "    <tr>\n",
       "      <th>975</th>\n",
       "      <td>2002-09-02</td>\n",
       "      <td>-14.326294</td>\n",
       "      <td>9.843613</td>\n",
       "      <td>21.372123</td>\n",
       "      <td>-16.396319</td>\n",
       "    </tr>\n",
       "    <tr>\n",
       "      <th>976</th>\n",
       "      <td>2002-09-03</td>\n",
       "      <td>-13.222234</td>\n",
       "      <td>11.503247</td>\n",
       "      <td>21.673593</td>\n",
       "      <td>-17.067178</td>\n",
       "    </tr>\n",
       "    <tr>\n",
       "      <th>977</th>\n",
       "      <td>2002-09-04</td>\n",
       "      <td>-13.874599</td>\n",
       "      <td>11.029781</td>\n",
       "      <td>22.177487</td>\n",
       "      <td>-17.584621</td>\n",
       "    </tr>\n",
       "    <tr>\n",
       "      <th>978</th>\n",
       "      <td>2002-09-05</td>\n",
       "      <td>-14.366766</td>\n",
       "      <td>10.929471</td>\n",
       "      <td>23.749803</td>\n",
       "      <td>-18.250348</td>\n",
       "    </tr>\n",
       "    <tr>\n",
       "      <th>979</th>\n",
       "      <td>2002-09-06</td>\n",
       "      <td>-14.301658</td>\n",
       "      <td>11.352843</td>\n",
       "      <td>25.016192</td>\n",
       "      <td>-16.140891</td>\n",
       "    </tr>\n",
       "    <tr>\n",
       "      <th>980</th>\n",
       "      <td>2002-09-07</td>\n",
       "      <td>-14.765577</td>\n",
       "      <td>11.554946</td>\n",
       "      <td>21.596048</td>\n",
       "      <td>-16.378724</td>\n",
       "    </tr>\n",
       "    <tr>\n",
       "      <th>981</th>\n",
       "      <td>2002-09-08</td>\n",
       "      <td>-14.295516</td>\n",
       "      <td>11.904146</td>\n",
       "      <td>21.838288</td>\n",
       "      <td>-16.458944</td>\n",
       "    </tr>\n",
       "    <tr>\n",
       "      <th>982</th>\n",
       "      <td>2002-09-09</td>\n",
       "      <td>-14.869276</td>\n",
       "      <td>11.892539</td>\n",
       "      <td>22.105776</td>\n",
       "      <td>-16.813928</td>\n",
       "    </tr>\n",
       "    <tr>\n",
       "      <th>983</th>\n",
       "      <td>2002-09-10</td>\n",
       "      <td>-14.431293</td>\n",
       "      <td>12.287799</td>\n",
       "      <td>23.208907</td>\n",
       "      <td>-16.393767</td>\n",
       "    </tr>\n",
       "    <tr>\n",
       "      <th>984</th>\n",
       "      <td>2002-09-11</td>\n",
       "      <td>-15.550096</td>\n",
       "      <td>13.010101</td>\n",
       "      <td>22.782674</td>\n",
       "      <td>-17.215624</td>\n",
       "    </tr>\n",
       "    <tr>\n",
       "      <th>985</th>\n",
       "      <td>2002-09-12</td>\n",
       "      <td>-15.301565</td>\n",
       "      <td>13.504414</td>\n",
       "      <td>21.390448</td>\n",
       "      <td>-16.545548</td>\n",
       "    </tr>\n",
       "    <tr>\n",
       "      <th>986</th>\n",
       "      <td>2002-09-13</td>\n",
       "      <td>-15.723424</td>\n",
       "      <td>13.094349</td>\n",
       "      <td>19.957580</td>\n",
       "      <td>-15.729522</td>\n",
       "    </tr>\n",
       "    <tr>\n",
       "      <th>987</th>\n",
       "      <td>2002-09-14</td>\n",
       "      <td>-14.264989</td>\n",
       "      <td>14.834233</td>\n",
       "      <td>18.490564</td>\n",
       "      <td>-15.643701</td>\n",
       "    </tr>\n",
       "    <tr>\n",
       "      <th>988</th>\n",
       "      <td>2002-09-15</td>\n",
       "      <td>-13.551818</td>\n",
       "      <td>14.704450</td>\n",
       "      <td>19.560484</td>\n",
       "      <td>-15.715354</td>\n",
       "    </tr>\n",
       "    <tr>\n",
       "      <th>989</th>\n",
       "      <td>2002-09-16</td>\n",
       "      <td>-13.792679</td>\n",
       "      <td>14.822606</td>\n",
       "      <td>20.930214</td>\n",
       "      <td>-15.642744</td>\n",
       "    </tr>\n",
       "    <tr>\n",
       "      <th>990</th>\n",
       "      <td>2002-09-17</td>\n",
       "      <td>-13.583718</td>\n",
       "      <td>15.564811</td>\n",
       "      <td>23.432460</td>\n",
       "      <td>-16.040966</td>\n",
       "    </tr>\n",
       "    <tr>\n",
       "      <th>991</th>\n",
       "      <td>2002-09-18</td>\n",
       "      <td>-12.819410</td>\n",
       "      <td>17.180775</td>\n",
       "      <td>20.185889</td>\n",
       "      <td>-15.677880</td>\n",
       "    </tr>\n",
       "    <tr>\n",
       "      <th>992</th>\n",
       "      <td>2002-09-19</td>\n",
       "      <td>-12.801132</td>\n",
       "      <td>17.250503</td>\n",
       "      <td>19.255585</td>\n",
       "      <td>-14.618826</td>\n",
       "    </tr>\n",
       "    <tr>\n",
       "      <th>993</th>\n",
       "      <td>2002-09-20</td>\n",
       "      <td>-11.267237</td>\n",
       "      <td>18.258379</td>\n",
       "      <td>19.270546</td>\n",
       "      <td>-15.589998</td>\n",
       "    </tr>\n",
       "    <tr>\n",
       "      <th>994</th>\n",
       "      <td>2002-09-21</td>\n",
       "      <td>-13.001507</td>\n",
       "      <td>18.570462</td>\n",
       "      <td>20.733814</td>\n",
       "      <td>-15.013118</td>\n",
       "    </tr>\n",
       "    <tr>\n",
       "      <th>995</th>\n",
       "      <td>2002-09-22</td>\n",
       "      <td>-14.067549</td>\n",
       "      <td>18.896325</td>\n",
       "      <td>21.719062</td>\n",
       "      <td>-14.114297</td>\n",
       "    </tr>\n",
       "    <tr>\n",
       "      <th>996</th>\n",
       "      <td>2002-09-23</td>\n",
       "      <td>-12.348151</td>\n",
       "      <td>18.025382</td>\n",
       "      <td>20.937040</td>\n",
       "      <td>-12.093957</td>\n",
       "    </tr>\n",
       "    <tr>\n",
       "      <th>997</th>\n",
       "      <td>2002-09-24</td>\n",
       "      <td>-12.693599</td>\n",
       "      <td>17.232992</td>\n",
       "      <td>20.656773</td>\n",
       "      <td>-12.760468</td>\n",
       "    </tr>\n",
       "    <tr>\n",
       "      <th>998</th>\n",
       "      <td>2002-09-25</td>\n",
       "      <td>-11.666343</td>\n",
       "      <td>18.446673</td>\n",
       "      <td>19.570311</td>\n",
       "      <td>-12.059097</td>\n",
       "    </tr>\n",
       "    <tr>\n",
       "      <th>999</th>\n",
       "      <td>2002-09-26</td>\n",
       "      <td>-12.161885</td>\n",
       "      <td>18.318993</td>\n",
       "      <td>18.654749</td>\n",
       "      <td>-11.719645</td>\n",
       "    </tr>\n",
       "  </tbody>\n",
       "</table>\n",
       "<p>1000 rows × 5 columns</p>\n",
       "</div>"
      ],
      "text/plain": [
       "     Unnamed: 0          A          B          C          D\n",
       "0    2000-01-01   0.000241  -0.062672  -1.256108  -0.276911\n",
       "1    2000-01-02   1.185635   0.278415   0.111969   1.471304\n",
       "2    2000-01-03   0.181744   0.862553   2.168972   1.217986\n",
       "3    2000-01-04   1.025786   0.444376   1.946407   1.781225\n",
       "4    2000-01-05   1.156284   1.556331   2.972193   1.485344\n",
       "5    2000-01-06   2.647098   1.406498   2.667766   1.806171\n",
       "6    2000-01-07   2.838413   1.148143   4.251299   1.178629\n",
       "7    2000-01-08   3.264215   2.052171   4.695244   0.635274\n",
       "8    2000-01-09   4.837534   1.668099   2.820105  -1.641457\n",
       "9    2000-01-10   4.785927   1.949996   3.937043  -1.326241\n",
       "10   2000-01-11   4.370393  -0.773381   5.357964  -2.355775\n",
       "11   2000-01-12   4.817681  -1.828862   5.009137  -2.723674\n",
       "12   2000-01-13   4.056709  -2.298854   5.661288  -2.848931\n",
       "13   2000-01-14   2.358674  -1.586434   5.171422  -3.659978\n",
       "14   2000-01-15   2.286226  -1.309240   6.083846  -3.033132\n",
       "15   2000-01-16   2.214300   0.991229   6.179765  -3.977637\n",
       "16   2000-01-17   1.667437   1.482464   6.586782  -4.733009\n",
       "17   2000-01-18  -0.704198   1.114435   8.273148  -6.013564\n",
       "18   2000-01-19   0.521272   0.855078  10.667356  -7.072008\n",
       "19   2000-01-20   0.453339   1.491088  11.326491  -6.707565\n",
       "20   2000-01-21   2.120191   1.624046  12.256566  -6.946169\n",
       "21   2000-01-22   2.653590   1.515170  13.133247  -7.462825\n",
       "22   2000-01-23   3.766077   1.367578  12.350256  -7.643055\n",
       "23   2000-01-24   5.390681   1.771788  10.443662  -7.819640\n",
       "24   2000-01-25   6.333766   2.907701   7.415541  -8.294551\n",
       "25   2000-01-26   5.745656   3.138093   6.264761  -7.738085\n",
       "26   2000-01-27   4.820698   3.079208   8.175576  -7.785478\n",
       "27   2000-01-28   2.902801   4.318009   9.259691  -7.447738\n",
       "28   2000-01-29   2.562628   5.182195   9.737713  -7.622801\n",
       "29   2000-01-30   2.493323   5.992592   9.364377  -6.604847\n",
       "..          ...        ...        ...        ...        ...\n",
       "970  2002-08-28 -13.787008  10.349694  20.639172 -16.897246\n",
       "971  2002-08-29 -13.961866   9.608443  19.893805 -16.674283\n",
       "972  2002-08-30 -14.407201  10.131890  22.030059 -15.462973\n",
       "973  2002-08-31 -15.661060  10.139718  22.063381 -16.127232\n",
       "974  2002-09-01 -15.893622   9.579937  20.869018 -16.426683\n",
       "975  2002-09-02 -14.326294   9.843613  21.372123 -16.396319\n",
       "976  2002-09-03 -13.222234  11.503247  21.673593 -17.067178\n",
       "977  2002-09-04 -13.874599  11.029781  22.177487 -17.584621\n",
       "978  2002-09-05 -14.366766  10.929471  23.749803 -18.250348\n",
       "979  2002-09-06 -14.301658  11.352843  25.016192 -16.140891\n",
       "980  2002-09-07 -14.765577  11.554946  21.596048 -16.378724\n",
       "981  2002-09-08 -14.295516  11.904146  21.838288 -16.458944\n",
       "982  2002-09-09 -14.869276  11.892539  22.105776 -16.813928\n",
       "983  2002-09-10 -14.431293  12.287799  23.208907 -16.393767\n",
       "984  2002-09-11 -15.550096  13.010101  22.782674 -17.215624\n",
       "985  2002-09-12 -15.301565  13.504414  21.390448 -16.545548\n",
       "986  2002-09-13 -15.723424  13.094349  19.957580 -15.729522\n",
       "987  2002-09-14 -14.264989  14.834233  18.490564 -15.643701\n",
       "988  2002-09-15 -13.551818  14.704450  19.560484 -15.715354\n",
       "989  2002-09-16 -13.792679  14.822606  20.930214 -15.642744\n",
       "990  2002-09-17 -13.583718  15.564811  23.432460 -16.040966\n",
       "991  2002-09-18 -12.819410  17.180775  20.185889 -15.677880\n",
       "992  2002-09-19 -12.801132  17.250503  19.255585 -14.618826\n",
       "993  2002-09-20 -11.267237  18.258379  19.270546 -15.589998\n",
       "994  2002-09-21 -13.001507  18.570462  20.733814 -15.013118\n",
       "995  2002-09-22 -14.067549  18.896325  21.719062 -14.114297\n",
       "996  2002-09-23 -12.348151  18.025382  20.937040 -12.093957\n",
       "997  2002-09-24 -12.693599  17.232992  20.656773 -12.760468\n",
       "998  2002-09-25 -11.666343  18.446673  19.570311 -12.059097\n",
       "999  2002-09-26 -12.161885  18.318993  18.654749 -11.719645\n",
       "\n",
       "[1000 rows x 5 columns]"
      ]
     },
     "execution_count": 128,
     "metadata": {},
     "output_type": "execute_result"
    }
   ],
   "source": [
    "pd.read_csv('foo.csv')"
   ]
  },
  {
   "cell_type": "markdown",
   "metadata": {
    "deletable": true,
    "editable": true
   },
   "source": [
    "### HDF5\n",
    "\n",
    "HDFStores的读写\n",
    "\n",
    "写入一个HDF5 Store"
   ]
  },
  {
   "cell_type": "code",
   "execution_count": 120,
   "metadata": {
    "collapsed": true,
    "deletable": true,
    "editable": true
   },
   "outputs": [],
   "source": [
    "df.to_hdf('foo.h5','df')"
   ]
  },
  {
   "cell_type": "markdown",
   "metadata": {
    "deletable": true,
    "editable": true
   },
   "source": [
    "从一个HDF5 Store读入"
   ]
  },
  {
   "cell_type": "code",
   "execution_count": 121,
   "metadata": {
    "collapsed": false,
    "deletable": true,
    "editable": true
   },
   "outputs": [
    {
     "data": {
      "text/html": [
       "<div style=\"max-height:1000px;max-width:1500px;overflow:auto;\">\n",
       "<table border=\"1\" class=\"dataframe\">\n",
       "  <thead>\n",
       "    <tr style=\"text-align: right;\">\n",
       "      <th></th>\n",
       "      <th>A</th>\n",
       "      <th>B</th>\n",
       "      <th>C</th>\n",
       "      <th>D</th>\n",
       "    </tr>\n",
       "  </thead>\n",
       "  <tbody>\n",
       "    <tr>\n",
       "      <th>2000-01-01</th>\n",
       "      <td>-0.425461</td>\n",
       "      <td> -1.403269</td>\n",
       "      <td> -0.044436</td>\n",
       "      <td>  0.219559</td>\n",
       "    </tr>\n",
       "    <tr>\n",
       "      <th>2000-01-02</th>\n",
       "      <td> 0.308576</td>\n",
       "      <td> -2.057619</td>\n",
       "      <td>  0.634288</td>\n",
       "      <td> -0.452682</td>\n",
       "    </tr>\n",
       "    <tr>\n",
       "      <th>2000-01-03</th>\n",
       "      <td> 0.619000</td>\n",
       "      <td> -2.869349</td>\n",
       "      <td>  1.237154</td>\n",
       "      <td> -0.308545</td>\n",
       "    </tr>\n",
       "    <tr>\n",
       "      <th>2000-01-04</th>\n",
       "      <td>-1.165187</td>\n",
       "      <td> -2.040167</td>\n",
       "      <td>  1.047757</td>\n",
       "      <td>  0.847036</td>\n",
       "    </tr>\n",
       "    <tr>\n",
       "      <th>2000-01-05</th>\n",
       "      <td>-0.214774</td>\n",
       "      <td> -4.301137</td>\n",
       "      <td>  0.571458</td>\n",
       "      <td>  2.713687</td>\n",
       "    </tr>\n",
       "    <tr>\n",
       "      <th>2000-01-06</th>\n",
       "      <td> 1.639842</td>\n",
       "      <td> -3.369141</td>\n",
       "      <td>  0.753631</td>\n",
       "      <td>  2.160821</td>\n",
       "    </tr>\n",
       "    <tr>\n",
       "      <th>2000-01-07</th>\n",
       "      <td> 1.910771</td>\n",
       "      <td> -4.025835</td>\n",
       "      <td> -0.773456</td>\n",
       "      <td>  1.821734</td>\n",
       "    </tr>\n",
       "    <tr>\n",
       "      <th>2000-01-08</th>\n",
       "      <td> 1.563340</td>\n",
       "      <td> -4.742109</td>\n",
       "      <td>  2.518628</td>\n",
       "      <td>  0.588485</td>\n",
       "    </tr>\n",
       "    <tr>\n",
       "      <th>2000-01-09</th>\n",
       "      <td> 0.132218</td>\n",
       "      <td> -4.341313</td>\n",
       "      <td>  1.862238</td>\n",
       "      <td> -0.697081</td>\n",
       "    </tr>\n",
       "    <tr>\n",
       "      <th>2000-01-10</th>\n",
       "      <td> 0.373116</td>\n",
       "      <td> -4.632546</td>\n",
       "      <td>  1.397640</td>\n",
       "      <td> -0.845373</td>\n",
       "    </tr>\n",
       "    <tr>\n",
       "      <th>2000-01-11</th>\n",
       "      <td> 1.112101</td>\n",
       "      <td> -5.740170</td>\n",
       "      <td>  1.803410</td>\n",
       "      <td>  0.575382</td>\n",
       "    </tr>\n",
       "    <tr>\n",
       "      <th>2000-01-12</th>\n",
       "      <td> 0.310180</td>\n",
       "      <td> -5.740034</td>\n",
       "      <td>  1.422615</td>\n",
       "      <td> -0.070605</td>\n",
       "    </tr>\n",
       "    <tr>\n",
       "      <th>2000-01-13</th>\n",
       "      <td>-0.496999</td>\n",
       "      <td> -6.002253</td>\n",
       "      <td>  1.836140</td>\n",
       "      <td> -1.737801</td>\n",
       "    </tr>\n",
       "    <tr>\n",
       "      <th>2000-01-14</th>\n",
       "      <td> 0.162170</td>\n",
       "      <td> -4.867653</td>\n",
       "      <td>  1.883516</td>\n",
       "      <td> -1.377816</td>\n",
       "    </tr>\n",
       "    <tr>\n",
       "      <th>2000-01-15</th>\n",
       "      <td>-0.219185</td>\n",
       "      <td> -6.045063</td>\n",
       "      <td>  2.179289</td>\n",
       "      <td>  0.404574</td>\n",
       "    </tr>\n",
       "    <tr>\n",
       "      <th>2000-01-16</th>\n",
       "      <td>-0.492499</td>\n",
       "      <td> -8.239633</td>\n",
       "      <td>  2.340800</td>\n",
       "      <td>  2.083196</td>\n",
       "    </tr>\n",
       "    <tr>\n",
       "      <th>2000-01-17</th>\n",
       "      <td>-1.906515</td>\n",
       "      <td> -7.611583</td>\n",
       "      <td>  2.096817</td>\n",
       "      <td>  2.474113</td>\n",
       "    </tr>\n",
       "    <tr>\n",
       "      <th>2000-01-18</th>\n",
       "      <td>-1.479602</td>\n",
       "      <td> -7.924990</td>\n",
       "      <td>  3.659178</td>\n",
       "      <td>  1.732523</td>\n",
       "    </tr>\n",
       "    <tr>\n",
       "      <th>2000-01-19</th>\n",
       "      <td>-1.877567</td>\n",
       "      <td> -7.676786</td>\n",
       "      <td>  2.962439</td>\n",
       "      <td>  0.808766</td>\n",
       "    </tr>\n",
       "    <tr>\n",
       "      <th>2000-01-20</th>\n",
       "      <td> 0.446554</td>\n",
       "      <td> -8.478972</td>\n",
       "      <td>  2.770583</td>\n",
       "      <td>  1.005155</td>\n",
       "    </tr>\n",
       "    <tr>\n",
       "      <th>2000-01-21</th>\n",
       "      <td> 0.815523</td>\n",
       "      <td> -7.639916</td>\n",
       "      <td>  4.375444</td>\n",
       "      <td>  0.975386</td>\n",
       "    </tr>\n",
       "    <tr>\n",
       "      <th>2000-01-22</th>\n",
       "      <td> 1.232161</td>\n",
       "      <td> -8.011159</td>\n",
       "      <td>  3.948103</td>\n",
       "      <td> -0.071826</td>\n",
       "    </tr>\n",
       "    <tr>\n",
       "      <th>2000-01-23</th>\n",
       "      <td> 0.809309</td>\n",
       "      <td>-10.975806</td>\n",
       "      <td>  3.579664</td>\n",
       "      <td> -0.193101</td>\n",
       "    </tr>\n",
       "    <tr>\n",
       "      <th>2000-01-24</th>\n",
       "      <td> 2.980972</td>\n",
       "      <td>-10.672872</td>\n",
       "      <td>  4.323559</td>\n",
       "      <td> -0.837766</td>\n",
       "    </tr>\n",
       "    <tr>\n",
       "      <th>2000-01-25</th>\n",
       "      <td> 3.361422</td>\n",
       "      <td>-12.640693</td>\n",
       "      <td>  5.046673</td>\n",
       "      <td> -0.518537</td>\n",
       "    </tr>\n",
       "    <tr>\n",
       "      <th>2000-01-26</th>\n",
       "      <td> 1.927294</td>\n",
       "      <td>-11.242640</td>\n",
       "      <td>  3.801135</td>\n",
       "      <td>  0.896068</td>\n",
       "    </tr>\n",
       "    <tr>\n",
       "      <th>2000-01-27</th>\n",
       "      <td> 1.249261</td>\n",
       "      <td>-10.931013</td>\n",
       "      <td>  2.837784</td>\n",
       "      <td>  1.464897</td>\n",
       "    </tr>\n",
       "    <tr>\n",
       "      <th>2000-01-28</th>\n",
       "      <td> 1.281549</td>\n",
       "      <td>-11.003295</td>\n",
       "      <td>  3.951254</td>\n",
       "      <td>  1.179706</td>\n",
       "    </tr>\n",
       "    <tr>\n",
       "      <th>2000-01-29</th>\n",
       "      <td> 0.512112</td>\n",
       "      <td>-10.761742</td>\n",
       "      <td>  2.233165</td>\n",
       "      <td>  0.174430</td>\n",
       "    </tr>\n",
       "    <tr>\n",
       "      <th>2000-01-30</th>\n",
       "      <td> 0.262344</td>\n",
       "      <td> -9.672089</td>\n",
       "      <td>  4.887404</td>\n",
       "      <td>  0.712865</td>\n",
       "    </tr>\n",
       "    <tr>\n",
       "      <th>...</th>\n",
       "      <td>...</td>\n",
       "      <td>...</td>\n",
       "      <td>...</td>\n",
       "      <td>...</td>\n",
       "    </tr>\n",
       "    <tr>\n",
       "      <th>2002-08-28</th>\n",
       "      <td> 4.625208</td>\n",
       "      <td> -1.794282</td>\n",
       "      <td> -8.259543</td>\n",
       "      <td> -1.588357</td>\n",
       "    </tr>\n",
       "    <tr>\n",
       "      <th>2002-08-29</th>\n",
       "      <td> 4.666648</td>\n",
       "      <td> -1.795497</td>\n",
       "      <td> -8.238837</td>\n",
       "      <td>  0.252956</td>\n",
       "    </tr>\n",
       "    <tr>\n",
       "      <th>2002-08-30</th>\n",
       "      <td> 5.607705</td>\n",
       "      <td> -1.428826</td>\n",
       "      <td> -7.712760</td>\n",
       "      <td>  1.868046</td>\n",
       "    </tr>\n",
       "    <tr>\n",
       "      <th>2002-08-31</th>\n",
       "      <td> 4.946251</td>\n",
       "      <td> -0.112299</td>\n",
       "      <td> -7.518860</td>\n",
       "      <td>  1.777350</td>\n",
       "    </tr>\n",
       "    <tr>\n",
       "      <th>2002-09-01</th>\n",
       "      <td> 3.864572</td>\n",
       "      <td> -0.545530</td>\n",
       "      <td> -6.292253</td>\n",
       "      <td>  1.586294</td>\n",
       "    </tr>\n",
       "    <tr>\n",
       "      <th>2002-09-02</th>\n",
       "      <td> 5.555515</td>\n",
       "      <td> -0.372099</td>\n",
       "      <td> -6.675474</td>\n",
       "      <td> -0.593894</td>\n",
       "    </tr>\n",
       "    <tr>\n",
       "      <th>2002-09-03</th>\n",
       "      <td> 7.088676</td>\n",
       "      <td> -1.012956</td>\n",
       "      <td> -7.077376</td>\n",
       "      <td> -0.086973</td>\n",
       "    </tr>\n",
       "    <tr>\n",
       "      <th>2002-09-04</th>\n",
       "      <td> 7.750305</td>\n",
       "      <td> -1.040951</td>\n",
       "      <td> -6.940778</td>\n",
       "      <td> -1.275356</td>\n",
       "    </tr>\n",
       "    <tr>\n",
       "      <th>2002-09-05</th>\n",
       "      <td> 7.037225</td>\n",
       "      <td> -2.321507</td>\n",
       "      <td> -7.430603</td>\n",
       "      <td> -2.204701</td>\n",
       "    </tr>\n",
       "    <tr>\n",
       "      <th>2002-09-06</th>\n",
       "      <td> 7.219238</td>\n",
       "      <td> -1.307758</td>\n",
       "      <td> -7.643952</td>\n",
       "      <td> -1.942661</td>\n",
       "    </tr>\n",
       "    <tr>\n",
       "      <th>2002-09-07</th>\n",
       "      <td> 5.001612</td>\n",
       "      <td> -2.704933</td>\n",
       "      <td> -7.839517</td>\n",
       "      <td> -2.209851</td>\n",
       "    </tr>\n",
       "    <tr>\n",
       "      <th>2002-09-08</th>\n",
       "      <td> 6.266836</td>\n",
       "      <td> -2.599260</td>\n",
       "      <td> -7.889995</td>\n",
       "      <td> -1.813327</td>\n",
       "    </tr>\n",
       "    <tr>\n",
       "      <th>2002-09-09</th>\n",
       "      <td> 4.921057</td>\n",
       "      <td> -2.086468</td>\n",
       "      <td> -8.432188</td>\n",
       "      <td> -1.590568</td>\n",
       "    </tr>\n",
       "    <tr>\n",
       "      <th>2002-09-10</th>\n",
       "      <td> 5.409754</td>\n",
       "      <td> -0.320361</td>\n",
       "      <td>-11.189269</td>\n",
       "      <td> -2.413758</td>\n",
       "    </tr>\n",
       "    <tr>\n",
       "      <th>2002-09-11</th>\n",
       "      <td> 5.011992</td>\n",
       "      <td> -0.950910</td>\n",
       "      <td>-11.590882</td>\n",
       "      <td> -3.230179</td>\n",
       "    </tr>\n",
       "    <tr>\n",
       "      <th>2002-09-12</th>\n",
       "      <td> 4.742224</td>\n",
       "      <td> -0.815597</td>\n",
       "      <td> -9.546448</td>\n",
       "      <td> -4.055350</td>\n",
       "    </tr>\n",
       "    <tr>\n",
       "      <th>2002-09-13</th>\n",
       "      <td> 6.101983</td>\n",
       "      <td> -0.774610</td>\n",
       "      <td> -9.722567</td>\n",
       "      <td> -6.045751</td>\n",
       "    </tr>\n",
       "    <tr>\n",
       "      <th>2002-09-14</th>\n",
       "      <td> 7.365744</td>\n",
       "      <td> -1.116305</td>\n",
       "      <td> -9.630651</td>\n",
       "      <td> -5.592564</td>\n",
       "    </tr>\n",
       "    <tr>\n",
       "      <th>2002-09-15</th>\n",
       "      <td> 5.084383</td>\n",
       "      <td> -2.143574</td>\n",
       "      <td> -9.798200</td>\n",
       "      <td> -6.216111</td>\n",
       "    </tr>\n",
       "    <tr>\n",
       "      <th>2002-09-16</th>\n",
       "      <td> 5.535138</td>\n",
       "      <td> -2.309296</td>\n",
       "      <td>-10.247144</td>\n",
       "      <td> -5.912922</td>\n",
       "    </tr>\n",
       "    <tr>\n",
       "      <th>2002-09-17</th>\n",
       "      <td> 6.727144</td>\n",
       "      <td> -1.383390</td>\n",
       "      <td>-10.538517</td>\n",
       "      <td> -6.811851</td>\n",
       "    </tr>\n",
       "    <tr>\n",
       "      <th>2002-09-18</th>\n",
       "      <td> 6.381736</td>\n",
       "      <td> -1.541663</td>\n",
       "      <td>-11.300122</td>\n",
       "      <td> -7.795385</td>\n",
       "    </tr>\n",
       "    <tr>\n",
       "      <th>2002-09-19</th>\n",
       "      <td> 5.797594</td>\n",
       "      <td> -2.066551</td>\n",
       "      <td>-10.043998</td>\n",
       "      <td> -5.295954</td>\n",
       "    </tr>\n",
       "    <tr>\n",
       "      <th>2002-09-20</th>\n",
       "      <td> 5.727980</td>\n",
       "      <td> -2.694832</td>\n",
       "      <td>-10.937890</td>\n",
       "      <td> -6.940196</td>\n",
       "    </tr>\n",
       "    <tr>\n",
       "      <th>2002-09-21</th>\n",
       "      <td> 6.101493</td>\n",
       "      <td> -3.295493</td>\n",
       "      <td>-10.662621</td>\n",
       "      <td> -8.503858</td>\n",
       "    </tr>\n",
       "    <tr>\n",
       "      <th>2002-09-22</th>\n",
       "      <td> 6.281263</td>\n",
       "      <td> -3.543243</td>\n",
       "      <td> -9.669077</td>\n",
       "      <td> -8.634091</td>\n",
       "    </tr>\n",
       "    <tr>\n",
       "      <th>2002-09-23</th>\n",
       "      <td> 6.193919</td>\n",
       "      <td> -3.517716</td>\n",
       "      <td>-11.120515</td>\n",
       "      <td> -9.019951</td>\n",
       "    </tr>\n",
       "    <tr>\n",
       "      <th>2002-09-24</th>\n",
       "      <td> 6.032230</td>\n",
       "      <td> -3.171396</td>\n",
       "      <td>-11.000641</td>\n",
       "      <td>-10.376975</td>\n",
       "    </tr>\n",
       "    <tr>\n",
       "      <th>2002-09-25</th>\n",
       "      <td> 5.692565</td>\n",
       "      <td> -4.190530</td>\n",
       "      <td>-11.027112</td>\n",
       "      <td>-11.042980</td>\n",
       "    </tr>\n",
       "    <tr>\n",
       "      <th>2002-09-26</th>\n",
       "      <td> 5.337877</td>\n",
       "      <td> -3.505361</td>\n",
       "      <td>-11.775212</td>\n",
       "      <td>-10.298722</td>\n",
       "    </tr>\n",
       "  </tbody>\n",
       "</table>\n",
       "<p>1000 rows × 4 columns</p>\n",
       "</div>"
      ],
      "text/plain": [
       "                   A          B          C          D\n",
       "2000-01-01 -0.425461  -1.403269  -0.044436   0.219559\n",
       "2000-01-02  0.308576  -2.057619   0.634288  -0.452682\n",
       "2000-01-03  0.619000  -2.869349   1.237154  -0.308545\n",
       "2000-01-04 -1.165187  -2.040167   1.047757   0.847036\n",
       "2000-01-05 -0.214774  -4.301137   0.571458   2.713687\n",
       "2000-01-06  1.639842  -3.369141   0.753631   2.160821\n",
       "2000-01-07  1.910771  -4.025835  -0.773456   1.821734\n",
       "2000-01-08  1.563340  -4.742109   2.518628   0.588485\n",
       "2000-01-09  0.132218  -4.341313   1.862238  -0.697081\n",
       "2000-01-10  0.373116  -4.632546   1.397640  -0.845373\n",
       "2000-01-11  1.112101  -5.740170   1.803410   0.575382\n",
       "2000-01-12  0.310180  -5.740034   1.422615  -0.070605\n",
       "2000-01-13 -0.496999  -6.002253   1.836140  -1.737801\n",
       "2000-01-14  0.162170  -4.867653   1.883516  -1.377816\n",
       "2000-01-15 -0.219185  -6.045063   2.179289   0.404574\n",
       "2000-01-16 -0.492499  -8.239633   2.340800   2.083196\n",
       "2000-01-17 -1.906515  -7.611583   2.096817   2.474113\n",
       "2000-01-18 -1.479602  -7.924990   3.659178   1.732523\n",
       "2000-01-19 -1.877567  -7.676786   2.962439   0.808766\n",
       "2000-01-20  0.446554  -8.478972   2.770583   1.005155\n",
       "2000-01-21  0.815523  -7.639916   4.375444   0.975386\n",
       "2000-01-22  1.232161  -8.011159   3.948103  -0.071826\n",
       "2000-01-23  0.809309 -10.975806   3.579664  -0.193101\n",
       "2000-01-24  2.980972 -10.672872   4.323559  -0.837766\n",
       "2000-01-25  3.361422 -12.640693   5.046673  -0.518537\n",
       "2000-01-26  1.927294 -11.242640   3.801135   0.896068\n",
       "2000-01-27  1.249261 -10.931013   2.837784   1.464897\n",
       "2000-01-28  1.281549 -11.003295   3.951254   1.179706\n",
       "2000-01-29  0.512112 -10.761742   2.233165   0.174430\n",
       "2000-01-30  0.262344  -9.672089   4.887404   0.712865\n",
       "...              ...        ...        ...        ...\n",
       "2002-08-28  4.625208  -1.794282  -8.259543  -1.588357\n",
       "2002-08-29  4.666648  -1.795497  -8.238837   0.252956\n",
       "2002-08-30  5.607705  -1.428826  -7.712760   1.868046\n",
       "2002-08-31  4.946251  -0.112299  -7.518860   1.777350\n",
       "2002-09-01  3.864572  -0.545530  -6.292253   1.586294\n",
       "2002-09-02  5.555515  -0.372099  -6.675474  -0.593894\n",
       "2002-09-03  7.088676  -1.012956  -7.077376  -0.086973\n",
       "2002-09-04  7.750305  -1.040951  -6.940778  -1.275356\n",
       "2002-09-05  7.037225  -2.321507  -7.430603  -2.204701\n",
       "2002-09-06  7.219238  -1.307758  -7.643952  -1.942661\n",
       "2002-09-07  5.001612  -2.704933  -7.839517  -2.209851\n",
       "2002-09-08  6.266836  -2.599260  -7.889995  -1.813327\n",
       "2002-09-09  4.921057  -2.086468  -8.432188  -1.590568\n",
       "2002-09-10  5.409754  -0.320361 -11.189269  -2.413758\n",
       "2002-09-11  5.011992  -0.950910 -11.590882  -3.230179\n",
       "2002-09-12  4.742224  -0.815597  -9.546448  -4.055350\n",
       "2002-09-13  6.101983  -0.774610  -9.722567  -6.045751\n",
       "2002-09-14  7.365744  -1.116305  -9.630651  -5.592564\n",
       "2002-09-15  5.084383  -2.143574  -9.798200  -6.216111\n",
       "2002-09-16  5.535138  -2.309296 -10.247144  -5.912922\n",
       "2002-09-17  6.727144  -1.383390 -10.538517  -6.811851\n",
       "2002-09-18  6.381736  -1.541663 -11.300122  -7.795385\n",
       "2002-09-19  5.797594  -2.066551 -10.043998  -5.295954\n",
       "2002-09-20  5.727980  -2.694832 -10.937890  -6.940196\n",
       "2002-09-21  6.101493  -3.295493 -10.662621  -8.503858\n",
       "2002-09-22  6.281263  -3.543243  -9.669077  -8.634091\n",
       "2002-09-23  6.193919  -3.517716 -11.120515  -9.019951\n",
       "2002-09-24  6.032230  -3.171396 -11.000641 -10.376975\n",
       "2002-09-25  5.692565  -4.190530 -11.027112 -11.042980\n",
       "2002-09-26  5.337877  -3.505361 -11.775212 -10.298722\n",
       "\n",
       "[1000 rows x 4 columns]"
      ]
     },
     "execution_count": 121,
     "metadata": {},
     "output_type": "execute_result"
    }
   ],
   "source": [
    "pd.read_hdf('foo.h5','df')"
   ]
  },
  {
   "cell_type": "markdown",
   "metadata": {
    "deletable": true,
    "editable": true
   },
   "source": [
    "### Excel表格\n",
    "\n",
    "Excel表格的读写\n",
    "\n",
    "写入一个Excel文件"
   ]
  },
  {
   "cell_type": "code",
   "execution_count": 122,
   "metadata": {
    "collapsed": true,
    "deletable": true,
    "editable": true
   },
   "outputs": [],
   "source": [
    "df.to_excel('foo.xlsx', sheet_name='Sheet1')"
   ]
  },
  {
   "cell_type": "markdown",
   "metadata": {
    "deletable": true,
    "editable": true
   },
   "source": [
    "从一个Excel文件读入"
   ]
  },
  {
   "cell_type": "code",
   "execution_count": 123,
   "metadata": {
    "collapsed": false,
    "deletable": true,
    "editable": true
   },
   "outputs": [
    {
     "data": {
      "text/html": [
       "<div style=\"max-height:1000px;max-width:1500px;overflow:auto;\">\n",
       "<table border=\"1\" class=\"dataframe\">\n",
       "  <thead>\n",
       "    <tr style=\"text-align: right;\">\n",
       "      <th></th>\n",
       "      <th>A</th>\n",
       "      <th>B</th>\n",
       "      <th>C</th>\n",
       "      <th>D</th>\n",
       "    </tr>\n",
       "  </thead>\n",
       "  <tbody>\n",
       "    <tr>\n",
       "      <th>2000-01-01</th>\n",
       "      <td>-0.425461</td>\n",
       "      <td> -1.403269</td>\n",
       "      <td> -0.044436</td>\n",
       "      <td>  0.219559</td>\n",
       "    </tr>\n",
       "    <tr>\n",
       "      <th>2000-01-02</th>\n",
       "      <td> 0.308576</td>\n",
       "      <td> -2.057619</td>\n",
       "      <td>  0.634288</td>\n",
       "      <td> -0.452682</td>\n",
       "    </tr>\n",
       "    <tr>\n",
       "      <th>2000-01-03</th>\n",
       "      <td> 0.619000</td>\n",
       "      <td> -2.869349</td>\n",
       "      <td>  1.237154</td>\n",
       "      <td> -0.308545</td>\n",
       "    </tr>\n",
       "    <tr>\n",
       "      <th>2000-01-04</th>\n",
       "      <td>-1.165187</td>\n",
       "      <td> -2.040167</td>\n",
       "      <td>  1.047757</td>\n",
       "      <td>  0.847036</td>\n",
       "    </tr>\n",
       "    <tr>\n",
       "      <th>2000-01-05</th>\n",
       "      <td>-0.214774</td>\n",
       "      <td> -4.301137</td>\n",
       "      <td>  0.571458</td>\n",
       "      <td>  2.713687</td>\n",
       "    </tr>\n",
       "    <tr>\n",
       "      <th>2000-01-06</th>\n",
       "      <td> 1.639842</td>\n",
       "      <td> -3.369141</td>\n",
       "      <td>  0.753631</td>\n",
       "      <td>  2.160821</td>\n",
       "    </tr>\n",
       "    <tr>\n",
       "      <th>2000-01-07</th>\n",
       "      <td> 1.910771</td>\n",
       "      <td> -4.025835</td>\n",
       "      <td> -0.773456</td>\n",
       "      <td>  1.821734</td>\n",
       "    </tr>\n",
       "    <tr>\n",
       "      <th>2000-01-08</th>\n",
       "      <td> 1.563340</td>\n",
       "      <td> -4.742109</td>\n",
       "      <td>  2.518628</td>\n",
       "      <td>  0.588485</td>\n",
       "    </tr>\n",
       "    <tr>\n",
       "      <th>2000-01-09</th>\n",
       "      <td> 0.132218</td>\n",
       "      <td> -4.341313</td>\n",
       "      <td>  1.862238</td>\n",
       "      <td> -0.697081</td>\n",
       "    </tr>\n",
       "    <tr>\n",
       "      <th>2000-01-10</th>\n",
       "      <td> 0.373116</td>\n",
       "      <td> -4.632546</td>\n",
       "      <td>  1.397640</td>\n",
       "      <td> -0.845373</td>\n",
       "    </tr>\n",
       "    <tr>\n",
       "      <th>2000-01-11</th>\n",
       "      <td> 1.112101</td>\n",
       "      <td> -5.740170</td>\n",
       "      <td>  1.803410</td>\n",
       "      <td>  0.575382</td>\n",
       "    </tr>\n",
       "    <tr>\n",
       "      <th>2000-01-12</th>\n",
       "      <td> 0.310180</td>\n",
       "      <td> -5.740034</td>\n",
       "      <td>  1.422615</td>\n",
       "      <td> -0.070605</td>\n",
       "    </tr>\n",
       "    <tr>\n",
       "      <th>2000-01-13</th>\n",
       "      <td>-0.496999</td>\n",
       "      <td> -6.002253</td>\n",
       "      <td>  1.836140</td>\n",
       "      <td> -1.737801</td>\n",
       "    </tr>\n",
       "    <tr>\n",
       "      <th>2000-01-14</th>\n",
       "      <td> 0.162170</td>\n",
       "      <td> -4.867653</td>\n",
       "      <td>  1.883516</td>\n",
       "      <td> -1.377816</td>\n",
       "    </tr>\n",
       "    <tr>\n",
       "      <th>2000-01-15</th>\n",
       "      <td>-0.219185</td>\n",
       "      <td> -6.045063</td>\n",
       "      <td>  2.179289</td>\n",
       "      <td>  0.404574</td>\n",
       "    </tr>\n",
       "    <tr>\n",
       "      <th>2000-01-16</th>\n",
       "      <td>-0.492499</td>\n",
       "      <td> -8.239633</td>\n",
       "      <td>  2.340800</td>\n",
       "      <td>  2.083196</td>\n",
       "    </tr>\n",
       "    <tr>\n",
       "      <th>2000-01-17</th>\n",
       "      <td>-1.906515</td>\n",
       "      <td> -7.611583</td>\n",
       "      <td>  2.096817</td>\n",
       "      <td>  2.474113</td>\n",
       "    </tr>\n",
       "    <tr>\n",
       "      <th>2000-01-18</th>\n",
       "      <td>-1.479602</td>\n",
       "      <td> -7.924990</td>\n",
       "      <td>  3.659178</td>\n",
       "      <td>  1.732523</td>\n",
       "    </tr>\n",
       "    <tr>\n",
       "      <th>2000-01-19</th>\n",
       "      <td>-1.877567</td>\n",
       "      <td> -7.676786</td>\n",
       "      <td>  2.962439</td>\n",
       "      <td>  0.808766</td>\n",
       "    </tr>\n",
       "    <tr>\n",
       "      <th>2000-01-20</th>\n",
       "      <td> 0.446554</td>\n",
       "      <td> -8.478972</td>\n",
       "      <td>  2.770583</td>\n",
       "      <td>  1.005155</td>\n",
       "    </tr>\n",
       "    <tr>\n",
       "      <th>2000-01-21</th>\n",
       "      <td> 0.815523</td>\n",
       "      <td> -7.639916</td>\n",
       "      <td>  4.375444</td>\n",
       "      <td>  0.975386</td>\n",
       "    </tr>\n",
       "    <tr>\n",
       "      <th>2000-01-22</th>\n",
       "      <td> 1.232161</td>\n",
       "      <td> -8.011159</td>\n",
       "      <td>  3.948103</td>\n",
       "      <td> -0.071826</td>\n",
       "    </tr>\n",
       "    <tr>\n",
       "      <th>2000-01-23</th>\n",
       "      <td> 0.809309</td>\n",
       "      <td>-10.975806</td>\n",
       "      <td>  3.579664</td>\n",
       "      <td> -0.193101</td>\n",
       "    </tr>\n",
       "    <tr>\n",
       "      <th>2000-01-24</th>\n",
       "      <td> 2.980972</td>\n",
       "      <td>-10.672872</td>\n",
       "      <td>  4.323559</td>\n",
       "      <td> -0.837766</td>\n",
       "    </tr>\n",
       "    <tr>\n",
       "      <th>2000-01-25</th>\n",
       "      <td> 3.361422</td>\n",
       "      <td>-12.640693</td>\n",
       "      <td>  5.046673</td>\n",
       "      <td> -0.518537</td>\n",
       "    </tr>\n",
       "    <tr>\n",
       "      <th>2000-01-26</th>\n",
       "      <td> 1.927294</td>\n",
       "      <td>-11.242640</td>\n",
       "      <td>  3.801135</td>\n",
       "      <td>  0.896068</td>\n",
       "    </tr>\n",
       "    <tr>\n",
       "      <th>2000-01-27</th>\n",
       "      <td> 1.249261</td>\n",
       "      <td>-10.931013</td>\n",
       "      <td>  2.837784</td>\n",
       "      <td>  1.464897</td>\n",
       "    </tr>\n",
       "    <tr>\n",
       "      <th>2000-01-28</th>\n",
       "      <td> 1.281549</td>\n",
       "      <td>-11.003295</td>\n",
       "      <td>  3.951254</td>\n",
       "      <td>  1.179706</td>\n",
       "    </tr>\n",
       "    <tr>\n",
       "      <th>2000-01-29</th>\n",
       "      <td> 0.512112</td>\n",
       "      <td>-10.761742</td>\n",
       "      <td>  2.233165</td>\n",
       "      <td>  0.174430</td>\n",
       "    </tr>\n",
       "    <tr>\n",
       "      <th>2000-01-30</th>\n",
       "      <td> 0.262344</td>\n",
       "      <td> -9.672089</td>\n",
       "      <td>  4.887404</td>\n",
       "      <td>  0.712865</td>\n",
       "    </tr>\n",
       "    <tr>\n",
       "      <th>...</th>\n",
       "      <td>...</td>\n",
       "      <td>...</td>\n",
       "      <td>...</td>\n",
       "      <td>...</td>\n",
       "    </tr>\n",
       "    <tr>\n",
       "      <th>2002-08-28</th>\n",
       "      <td> 4.625208</td>\n",
       "      <td> -1.794282</td>\n",
       "      <td> -8.259543</td>\n",
       "      <td> -1.588357</td>\n",
       "    </tr>\n",
       "    <tr>\n",
       "      <th>2002-08-29</th>\n",
       "      <td> 4.666648</td>\n",
       "      <td> -1.795497</td>\n",
       "      <td> -8.238837</td>\n",
       "      <td>  0.252956</td>\n",
       "    </tr>\n",
       "    <tr>\n",
       "      <th>2002-08-30</th>\n",
       "      <td> 5.607705</td>\n",
       "      <td> -1.428826</td>\n",
       "      <td> -7.712760</td>\n",
       "      <td>  1.868046</td>\n",
       "    </tr>\n",
       "    <tr>\n",
       "      <th>2002-08-31</th>\n",
       "      <td> 4.946251</td>\n",
       "      <td> -0.112299</td>\n",
       "      <td> -7.518860</td>\n",
       "      <td>  1.777350</td>\n",
       "    </tr>\n",
       "    <tr>\n",
       "      <th>2002-09-01</th>\n",
       "      <td> 3.864572</td>\n",
       "      <td> -0.545530</td>\n",
       "      <td> -6.292253</td>\n",
       "      <td>  1.586294</td>\n",
       "    </tr>\n",
       "    <tr>\n",
       "      <th>2002-09-02</th>\n",
       "      <td> 5.555515</td>\n",
       "      <td> -0.372099</td>\n",
       "      <td> -6.675474</td>\n",
       "      <td> -0.593894</td>\n",
       "    </tr>\n",
       "    <tr>\n",
       "      <th>2002-09-03</th>\n",
       "      <td> 7.088676</td>\n",
       "      <td> -1.012956</td>\n",
       "      <td> -7.077376</td>\n",
       "      <td> -0.086973</td>\n",
       "    </tr>\n",
       "    <tr>\n",
       "      <th>2002-09-04</th>\n",
       "      <td> 7.750305</td>\n",
       "      <td> -1.040951</td>\n",
       "      <td> -6.940778</td>\n",
       "      <td> -1.275356</td>\n",
       "    </tr>\n",
       "    <tr>\n",
       "      <th>2002-09-05</th>\n",
       "      <td> 7.037225</td>\n",
       "      <td> -2.321507</td>\n",
       "      <td> -7.430603</td>\n",
       "      <td> -2.204701</td>\n",
       "    </tr>\n",
       "    <tr>\n",
       "      <th>2002-09-06</th>\n",
       "      <td> 7.219238</td>\n",
       "      <td> -1.307758</td>\n",
       "      <td> -7.643952</td>\n",
       "      <td> -1.942661</td>\n",
       "    </tr>\n",
       "    <tr>\n",
       "      <th>2002-09-07</th>\n",
       "      <td> 5.001612</td>\n",
       "      <td> -2.704933</td>\n",
       "      <td> -7.839517</td>\n",
       "      <td> -2.209851</td>\n",
       "    </tr>\n",
       "    <tr>\n",
       "      <th>2002-09-08</th>\n",
       "      <td> 6.266836</td>\n",
       "      <td> -2.599260</td>\n",
       "      <td> -7.889995</td>\n",
       "      <td> -1.813327</td>\n",
       "    </tr>\n",
       "    <tr>\n",
       "      <th>2002-09-09</th>\n",
       "      <td> 4.921057</td>\n",
       "      <td> -2.086468</td>\n",
       "      <td> -8.432188</td>\n",
       "      <td> -1.590568</td>\n",
       "    </tr>\n",
       "    <tr>\n",
       "      <th>2002-09-10</th>\n",
       "      <td> 5.409754</td>\n",
       "      <td> -0.320361</td>\n",
       "      <td>-11.189269</td>\n",
       "      <td> -2.413758</td>\n",
       "    </tr>\n",
       "    <tr>\n",
       "      <th>2002-09-11</th>\n",
       "      <td> 5.011992</td>\n",
       "      <td> -0.950910</td>\n",
       "      <td>-11.590882</td>\n",
       "      <td> -3.230179</td>\n",
       "    </tr>\n",
       "    <tr>\n",
       "      <th>2002-09-12</th>\n",
       "      <td> 4.742224</td>\n",
       "      <td> -0.815597</td>\n",
       "      <td> -9.546448</td>\n",
       "      <td> -4.055350</td>\n",
       "    </tr>\n",
       "    <tr>\n",
       "      <th>2002-09-13</th>\n",
       "      <td> 6.101983</td>\n",
       "      <td> -0.774610</td>\n",
       "      <td> -9.722567</td>\n",
       "      <td> -6.045751</td>\n",
       "    </tr>\n",
       "    <tr>\n",
       "      <th>2002-09-14</th>\n",
       "      <td> 7.365744</td>\n",
       "      <td> -1.116305</td>\n",
       "      <td> -9.630651</td>\n",
       "      <td> -5.592564</td>\n",
       "    </tr>\n",
       "    <tr>\n",
       "      <th>2002-09-15</th>\n",
       "      <td> 5.084383</td>\n",
       "      <td> -2.143574</td>\n",
       "      <td> -9.798200</td>\n",
       "      <td> -6.216111</td>\n",
       "    </tr>\n",
       "    <tr>\n",
       "      <th>2002-09-16</th>\n",
       "      <td> 5.535138</td>\n",
       "      <td> -2.309296</td>\n",
       "      <td>-10.247144</td>\n",
       "      <td> -5.912922</td>\n",
       "    </tr>\n",
       "    <tr>\n",
       "      <th>2002-09-17</th>\n",
       "      <td> 6.727144</td>\n",
       "      <td> -1.383390</td>\n",
       "      <td>-10.538517</td>\n",
       "      <td> -6.811851</td>\n",
       "    </tr>\n",
       "    <tr>\n",
       "      <th>2002-09-18</th>\n",
       "      <td> 6.381736</td>\n",
       "      <td> -1.541663</td>\n",
       "      <td>-11.300122</td>\n",
       "      <td> -7.795385</td>\n",
       "    </tr>\n",
       "    <tr>\n",
       "      <th>2002-09-19</th>\n",
       "      <td> 5.797594</td>\n",
       "      <td> -2.066551</td>\n",
       "      <td>-10.043998</td>\n",
       "      <td> -5.295954</td>\n",
       "    </tr>\n",
       "    <tr>\n",
       "      <th>2002-09-20</th>\n",
       "      <td> 5.727980</td>\n",
       "      <td> -2.694832</td>\n",
       "      <td>-10.937890</td>\n",
       "      <td> -6.940196</td>\n",
       "    </tr>\n",
       "    <tr>\n",
       "      <th>2002-09-21</th>\n",
       "      <td> 6.101493</td>\n",
       "      <td> -3.295493</td>\n",
       "      <td>-10.662621</td>\n",
       "      <td> -8.503858</td>\n",
       "    </tr>\n",
       "    <tr>\n",
       "      <th>2002-09-22</th>\n",
       "      <td> 6.281263</td>\n",
       "      <td> -3.543243</td>\n",
       "      <td> -9.669077</td>\n",
       "      <td> -8.634091</td>\n",
       "    </tr>\n",
       "    <tr>\n",
       "      <th>2002-09-23</th>\n",
       "      <td> 6.193919</td>\n",
       "      <td> -3.517716</td>\n",
       "      <td>-11.120515</td>\n",
       "      <td> -9.019951</td>\n",
       "    </tr>\n",
       "    <tr>\n",
       "      <th>2002-09-24</th>\n",
       "      <td> 6.032230</td>\n",
       "      <td> -3.171396</td>\n",
       "      <td>-11.000641</td>\n",
       "      <td>-10.376975</td>\n",
       "    </tr>\n",
       "    <tr>\n",
       "      <th>2002-09-25</th>\n",
       "      <td> 5.692565</td>\n",
       "      <td> -4.190530</td>\n",
       "      <td>-11.027112</td>\n",
       "      <td>-11.042980</td>\n",
       "    </tr>\n",
       "    <tr>\n",
       "      <th>2002-09-26</th>\n",
       "      <td> 5.337877</td>\n",
       "      <td> -3.505361</td>\n",
       "      <td>-11.775212</td>\n",
       "      <td>-10.298722</td>\n",
       "    </tr>\n",
       "  </tbody>\n",
       "</table>\n",
       "<p>1000 rows × 4 columns</p>\n",
       "</div>"
      ],
      "text/plain": [
       "                   A          B          C          D\n",
       "2000-01-01 -0.425461  -1.403269  -0.044436   0.219559\n",
       "2000-01-02  0.308576  -2.057619   0.634288  -0.452682\n",
       "2000-01-03  0.619000  -2.869349   1.237154  -0.308545\n",
       "2000-01-04 -1.165187  -2.040167   1.047757   0.847036\n",
       "2000-01-05 -0.214774  -4.301137   0.571458   2.713687\n",
       "2000-01-06  1.639842  -3.369141   0.753631   2.160821\n",
       "2000-01-07  1.910771  -4.025835  -0.773456   1.821734\n",
       "2000-01-08  1.563340  -4.742109   2.518628   0.588485\n",
       "2000-01-09  0.132218  -4.341313   1.862238  -0.697081\n",
       "2000-01-10  0.373116  -4.632546   1.397640  -0.845373\n",
       "2000-01-11  1.112101  -5.740170   1.803410   0.575382\n",
       "2000-01-12  0.310180  -5.740034   1.422615  -0.070605\n",
       "2000-01-13 -0.496999  -6.002253   1.836140  -1.737801\n",
       "2000-01-14  0.162170  -4.867653   1.883516  -1.377816\n",
       "2000-01-15 -0.219185  -6.045063   2.179289   0.404574\n",
       "2000-01-16 -0.492499  -8.239633   2.340800   2.083196\n",
       "2000-01-17 -1.906515  -7.611583   2.096817   2.474113\n",
       "2000-01-18 -1.479602  -7.924990   3.659178   1.732523\n",
       "2000-01-19 -1.877567  -7.676786   2.962439   0.808766\n",
       "2000-01-20  0.446554  -8.478972   2.770583   1.005155\n",
       "2000-01-21  0.815523  -7.639916   4.375444   0.975386\n",
       "2000-01-22  1.232161  -8.011159   3.948103  -0.071826\n",
       "2000-01-23  0.809309 -10.975806   3.579664  -0.193101\n",
       "2000-01-24  2.980972 -10.672872   4.323559  -0.837766\n",
       "2000-01-25  3.361422 -12.640693   5.046673  -0.518537\n",
       "2000-01-26  1.927294 -11.242640   3.801135   0.896068\n",
       "2000-01-27  1.249261 -10.931013   2.837784   1.464897\n",
       "2000-01-28  1.281549 -11.003295   3.951254   1.179706\n",
       "2000-01-29  0.512112 -10.761742   2.233165   0.174430\n",
       "2000-01-30  0.262344  -9.672089   4.887404   0.712865\n",
       "...              ...        ...        ...        ...\n",
       "2002-08-28  4.625208  -1.794282  -8.259543  -1.588357\n",
       "2002-08-29  4.666648  -1.795497  -8.238837   0.252956\n",
       "2002-08-30  5.607705  -1.428826  -7.712760   1.868046\n",
       "2002-08-31  4.946251  -0.112299  -7.518860   1.777350\n",
       "2002-09-01  3.864572  -0.545530  -6.292253   1.586294\n",
       "2002-09-02  5.555515  -0.372099  -6.675474  -0.593894\n",
       "2002-09-03  7.088676  -1.012956  -7.077376  -0.086973\n",
       "2002-09-04  7.750305  -1.040951  -6.940778  -1.275356\n",
       "2002-09-05  7.037225  -2.321507  -7.430603  -2.204701\n",
       "2002-09-06  7.219238  -1.307758  -7.643952  -1.942661\n",
       "2002-09-07  5.001612  -2.704933  -7.839517  -2.209851\n",
       "2002-09-08  6.266836  -2.599260  -7.889995  -1.813327\n",
       "2002-09-09  4.921057  -2.086468  -8.432188  -1.590568\n",
       "2002-09-10  5.409754  -0.320361 -11.189269  -2.413758\n",
       "2002-09-11  5.011992  -0.950910 -11.590882  -3.230179\n",
       "2002-09-12  4.742224  -0.815597  -9.546448  -4.055350\n",
       "2002-09-13  6.101983  -0.774610  -9.722567  -6.045751\n",
       "2002-09-14  7.365744  -1.116305  -9.630651  -5.592564\n",
       "2002-09-15  5.084383  -2.143574  -9.798200  -6.216111\n",
       "2002-09-16  5.535138  -2.309296 -10.247144  -5.912922\n",
       "2002-09-17  6.727144  -1.383390 -10.538517  -6.811851\n",
       "2002-09-18  6.381736  -1.541663 -11.300122  -7.795385\n",
       "2002-09-19  5.797594  -2.066551 -10.043998  -5.295954\n",
       "2002-09-20  5.727980  -2.694832 -10.937890  -6.940196\n",
       "2002-09-21  6.101493  -3.295493 -10.662621  -8.503858\n",
       "2002-09-22  6.281263  -3.543243  -9.669077  -8.634091\n",
       "2002-09-23  6.193919  -3.517716 -11.120515  -9.019951\n",
       "2002-09-24  6.032230  -3.171396 -11.000641 -10.376975\n",
       "2002-09-25  5.692565  -4.190530 -11.027112 -11.042980\n",
       "2002-09-26  5.337877  -3.505361 -11.775212 -10.298722\n",
       "\n",
       "[1000 rows x 4 columns]"
      ]
     },
     "execution_count": 123,
     "metadata": {},
     "output_type": "execute_result"
    }
   ],
   "source": [
    "pd.read_excel('foo.xlsx', 'Sheet1', index_col=None, na_values=['NA'])"
   ]
  }
 ],
 "metadata": {
  "kernelspec": {
   "display_name": "Python 2",
   "language": "python",
   "name": "python2"
  },
  "language_info": {
   "codemirror_mode": {
    "name": "ipython",
    "version": 2
   },
   "file_extension": ".py",
   "mimetype": "text/x-python",
   "name": "python",
   "nbconvert_exporter": "python",
   "pygments_lexer": "ipython2",
   "version": "2.7.12"
  }
 },
 "nbformat": 4,
 "nbformat_minor": 0
}
